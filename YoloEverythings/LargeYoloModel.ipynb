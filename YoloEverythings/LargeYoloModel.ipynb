{
  "cells": [
    {
      "cell_type": "code",
      "source": [
        "from google.colab import drive\n",
        "drive.mount('/content/drive')"
      ],
      "metadata": {
        "id": "HXasIEXr9ErQ",
        "colab": {
          "base_uri": "https://localhost:8080/"
        },
        "outputId": "ded09de9-f996-40b0-e0df-90fe1315866c"
      },
      "execution_count": null,
      "outputs": [
        {
          "output_type": "stream",
          "name": "stdout",
          "text": [
            "Mounted at /content/drive\n"
          ]
        }
      ]
    },
    {
      "cell_type": "markdown",
      "metadata": {
        "id": "n1g-dmEf6AnZ"
      },
      "source": [
        "# Persiapan Awal"
      ]
    },
    {
      "cell_type": "markdown",
      "metadata": {
        "id": "rW8Qwic4Xeus"
      },
      "source": [
        "Cek spek nvidia di google colab"
      ]
    },
    {
      "cell_type": "code",
      "execution_count": null,
      "metadata": {
        "id": "T0i0TeEMcqnb",
        "colab": {
          "base_uri": "https://localhost:8080/"
        },
        "outputId": "895be0f2-768c-41eb-8f9c-46b514d7a13e"
      },
      "outputs": [
        {
          "output_type": "stream",
          "name": "stdout",
          "text": [
            "Wed Dec 20 02:29:11 2023       \n",
            "+---------------------------------------------------------------------------------------+\n",
            "| NVIDIA-SMI 535.104.05             Driver Version: 535.104.05   CUDA Version: 12.2     |\n",
            "|-----------------------------------------+----------------------+----------------------+\n",
            "| GPU  Name                 Persistence-M | Bus-Id        Disp.A | Volatile Uncorr. ECC |\n",
            "| Fan  Temp   Perf          Pwr:Usage/Cap |         Memory-Usage | GPU-Util  Compute M. |\n",
            "|                                         |                      |               MIG M. |\n",
            "|=========================================+======================+======================|\n",
            "|   0  Tesla T4                       Off | 00000000:00:04.0 Off |                    0 |\n",
            "| N/A   58C    P8              11W /  70W |      0MiB / 15360MiB |      0%      Default |\n",
            "|                                         |                      |                  N/A |\n",
            "+-----------------------------------------+----------------------+----------------------+\n",
            "                                                                                         \n",
            "+---------------------------------------------------------------------------------------+\n",
            "| Processes:                                                                            |\n",
            "|  GPU   GI   CI        PID   Type   Process name                            GPU Memory |\n",
            "|        ID   ID                                                             Usage      |\n",
            "|=======================================================================================|\n",
            "|  No running processes found                                                           |\n",
            "+---------------------------------------------------------------------------------------+\n"
          ]
        }
      ],
      "source": [
        "!nvidia-smi"
      ]
    },
    {
      "cell_type": "markdown",
      "metadata": {
        "id": "ReJ6aoW2XjVP"
      },
      "source": [
        "ambil data direktori HOME atau default dari google colab"
      ]
    },
    {
      "cell_type": "code",
      "execution_count": null,
      "metadata": {
        "id": "tKQWMm32crAH",
        "colab": {
          "base_uri": "https://localhost:8080/"
        },
        "outputId": "4f185b3b-1f27-4dbe-a516-94dabdf26d99"
      },
      "outputs": [
        {
          "output_type": "stream",
          "name": "stdout",
          "text": [
            "/content\n"
          ]
        }
      ],
      "source": [
        "import os\n",
        "HOME = os.getcwd()\n",
        "print(HOME)"
      ]
    },
    {
      "cell_type": "markdown",
      "metadata": {
        "id": "GWXDcy4O6EjA"
      },
      "source": [
        "## Install yolo"
      ]
    },
    {
      "cell_type": "markdown",
      "metadata": {
        "id": "xypCgByfXosj"
      },
      "source": [
        "install ultralytics dan import yolo"
      ]
    },
    {
      "cell_type": "code",
      "execution_count": null,
      "metadata": {
        "id": "qOkJgMOBct0r",
        "colab": {
          "base_uri": "https://localhost:8080/"
        },
        "outputId": "5ee40660-1f7a-4b4b-a49c-cfb237ccb542"
      },
      "outputs": [
        {
          "output_type": "stream",
          "name": "stderr",
          "text": [
            "Ultralytics YOLOv8.0.20 🚀 Python-3.10.12 torch-2.1.0+cu121 CUDA:0 (Tesla T4, 15102MiB)\n",
            "Setup complete ✅ (2 CPUs, 12.7 GB RAM, 26.2/78.2 GB disk)\n"
          ]
        }
      ],
      "source": [
        "# Pip install method (recommended)\n",
        "\n",
        "!pip install ultralytics==8.0.20\n",
        "\n",
        "from IPython import display\n",
        "display.clear_output()\n",
        "\n",
        "import ultralytics\n",
        "ultralytics.checks()"
      ]
    },
    {
      "cell_type": "code",
      "execution_count": null,
      "metadata": {
        "id": "j34PcQhEcvyo"
      },
      "outputs": [],
      "source": [
        "from ultralytics import YOLO\n",
        "\n",
        "from IPython.display import display, Image"
      ]
    },
    {
      "cell_type": "markdown",
      "metadata": {
        "id": "WBzxo4g-6Hri"
      },
      "source": [
        "## Download dan load Yolo Large Version"
      ]
    },
    {
      "cell_type": "markdown",
      "metadata": {
        "id": "BpfNgd11XuOC"
      },
      "source": [
        "download dan load model yolo8 large version dalam bentuk ekstensi .pt"
      ]
    },
    {
      "cell_type": "code",
      "execution_count": null,
      "metadata": {
        "id": "wXeQOuxcc1tg"
      },
      "outputs": [],
      "source": [
        "# model = YOLO(f'{HOME}/yolov8x.pt')"
      ]
    },
    {
      "cell_type": "markdown",
      "metadata": {
        "id": "G3fuHTV6X8RC"
      },
      "source": [
        "install modul roboflow untuk mendownload dataset yang sudah dilabeli"
      ]
    },
    {
      "cell_type": "code",
      "execution_count": null,
      "metadata": {
        "id": "Duxx5VnKcKDi",
        "colab": {
          "base_uri": "https://localhost:8080/",
          "height": 1000
        },
        "outputId": "37703626-e429-4343-b17c-6e8db1c787a8"
      },
      "outputs": [
        {
          "output_type": "stream",
          "name": "stdout",
          "text": [
            "Collecting roboflow\n",
            "  Downloading roboflow-1.1.12-py3-none-any.whl (68 kB)\n",
            "\u001b[2K     \u001b[90m━━━━━━━━━━━━━━━━━━━━━━━━━━━━━━━━━━━━━━━━\u001b[0m \u001b[32m68.5/68.5 kB\u001b[0m \u001b[31m2.2 MB/s\u001b[0m eta \u001b[36m0:00:00\u001b[0m\n",
            "\u001b[?25hCollecting certifi==2023.7.22 (from roboflow)\n",
            "  Downloading certifi-2023.7.22-py3-none-any.whl (158 kB)\n",
            "\u001b[2K     \u001b[90m━━━━━━━━━━━━━━━━━━━━━━━━━━━━━━━━━━━━━━━━\u001b[0m \u001b[32m158.3/158.3 kB\u001b[0m \u001b[31m7.5 MB/s\u001b[0m eta \u001b[36m0:00:00\u001b[0m\n",
            "\u001b[?25hCollecting chardet==4.0.0 (from roboflow)\n",
            "  Downloading chardet-4.0.0-py2.py3-none-any.whl (178 kB)\n",
            "\u001b[2K     \u001b[90m━━━━━━━━━━━━━━━━━━━━━━━━━━━━━━━━━━━━━━━━\u001b[0m \u001b[32m178.7/178.7 kB\u001b[0m \u001b[31m8.9 MB/s\u001b[0m eta \u001b[36m0:00:00\u001b[0m\n",
            "\u001b[?25hCollecting cycler==0.10.0 (from roboflow)\n",
            "  Downloading cycler-0.10.0-py2.py3-none-any.whl (6.5 kB)\n",
            "Collecting idna==2.10 (from roboflow)\n",
            "  Downloading idna-2.10-py2.py3-none-any.whl (58 kB)\n",
            "\u001b[2K     \u001b[90m━━━━━━━━━━━━━━━━━━━━━━━━━━━━━━━━━━━━━━━━\u001b[0m \u001b[32m58.8/58.8 kB\u001b[0m \u001b[31m7.2 MB/s\u001b[0m eta \u001b[36m0:00:00\u001b[0m\n",
            "\u001b[?25hRequirement already satisfied: kiwisolver>=1.3.1 in /usr/local/lib/python3.10/dist-packages (from roboflow) (1.4.5)\n",
            "Requirement already satisfied: matplotlib in /usr/local/lib/python3.10/dist-packages (from roboflow) (3.7.1)\n",
            "Requirement already satisfied: numpy>=1.18.5 in /usr/local/lib/python3.10/dist-packages (from roboflow) (1.23.5)\n",
            "Collecting opencv-python-headless==4.8.0.74 (from roboflow)\n",
            "  Downloading opencv_python_headless-4.8.0.74-cp37-abi3-manylinux_2_17_x86_64.manylinux2014_x86_64.whl (49.1 MB)\n",
            "\u001b[2K     \u001b[90m━━━━━━━━━━━━━━━━━━━━━━━━━━━━━━━━━━━━━━━━\u001b[0m \u001b[32m49.1/49.1 MB\u001b[0m \u001b[31m11.6 MB/s\u001b[0m eta \u001b[36m0:00:00\u001b[0m\n",
            "\u001b[?25hRequirement already satisfied: Pillow>=7.1.2 in /usr/local/lib/python3.10/dist-packages (from roboflow) (9.4.0)\n",
            "Collecting pyparsing==2.4.7 (from roboflow)\n",
            "  Downloading pyparsing-2.4.7-py2.py3-none-any.whl (67 kB)\n",
            "\u001b[2K     \u001b[90m━━━━━━━━━━━━━━━━━━━━━━━━━━━━━━━━━━━━━━━━\u001b[0m \u001b[32m67.8/67.8 kB\u001b[0m \u001b[31m9.8 MB/s\u001b[0m eta \u001b[36m0:00:00\u001b[0m\n",
            "\u001b[?25hRequirement already satisfied: python-dateutil in /usr/local/lib/python3.10/dist-packages (from roboflow) (2.8.2)\n",
            "Collecting python-dotenv (from roboflow)\n",
            "  Downloading python_dotenv-1.0.0-py3-none-any.whl (19 kB)\n",
            "Requirement already satisfied: requests in /usr/local/lib/python3.10/dist-packages (from roboflow) (2.31.0)\n",
            "Requirement already satisfied: six in /usr/local/lib/python3.10/dist-packages (from roboflow) (1.16.0)\n",
            "Collecting supervision (from roboflow)\n",
            "  Downloading supervision-0.17.1-py3-none-any.whl (77 kB)\n",
            "\u001b[2K     \u001b[90m━━━━━━━━━━━━━━━━━━━━━━━━━━━━━━━━━━━━━━━━\u001b[0m \u001b[32m77.5/77.5 kB\u001b[0m \u001b[31m12.0 MB/s\u001b[0m eta \u001b[36m0:00:00\u001b[0m\n",
            "\u001b[?25hRequirement already satisfied: urllib3>=1.26.6 in /usr/local/lib/python3.10/dist-packages (from roboflow) (2.0.7)\n",
            "Requirement already satisfied: tqdm>=4.41.0 in /usr/local/lib/python3.10/dist-packages (from roboflow) (4.66.1)\n",
            "Requirement already satisfied: PyYAML>=5.3.1 in /usr/local/lib/python3.10/dist-packages (from roboflow) (6.0.1)\n",
            "Collecting requests-toolbelt (from roboflow)\n",
            "  Downloading requests_toolbelt-1.0.0-py2.py3-none-any.whl (54 kB)\n",
            "\u001b[2K     \u001b[90m━━━━━━━━━━━━━━━━━━━━━━━━━━━━━━━━━━━━━━━━\u001b[0m \u001b[32m54.5/54.5 kB\u001b[0m \u001b[31m7.9 MB/s\u001b[0m eta \u001b[36m0:00:00\u001b[0m\n",
            "\u001b[?25hCollecting python-magic (from roboflow)\n",
            "  Downloading python_magic-0.4.27-py2.py3-none-any.whl (13 kB)\n",
            "Requirement already satisfied: contourpy>=1.0.1 in /usr/local/lib/python3.10/dist-packages (from matplotlib->roboflow) (1.2.0)\n",
            "Requirement already satisfied: fonttools>=4.22.0 in /usr/local/lib/python3.10/dist-packages (from matplotlib->roboflow) (4.46.0)\n",
            "Requirement already satisfied: packaging>=20.0 in /usr/local/lib/python3.10/dist-packages (from matplotlib->roboflow) (23.2)\n",
            "Requirement already satisfied: charset-normalizer<4,>=2 in /usr/local/lib/python3.10/dist-packages (from requests->roboflow) (3.3.2)\n",
            "Requirement already satisfied: scipy>=1.9.0 in /usr/local/lib/python3.10/dist-packages (from supervision->roboflow) (1.11.4)\n",
            "Installing collected packages: python-magic, python-dotenv, pyparsing, opencv-python-headless, idna, cycler, chardet, certifi, supervision, requests-toolbelt, roboflow\n",
            "  Attempting uninstall: pyparsing\n",
            "    Found existing installation: pyparsing 3.1.1\n",
            "    Uninstalling pyparsing-3.1.1:\n",
            "      Successfully uninstalled pyparsing-3.1.1\n",
            "  Attempting uninstall: opencv-python-headless\n",
            "    Found existing installation: opencv-python-headless 4.8.1.78\n",
            "    Uninstalling opencv-python-headless-4.8.1.78:\n",
            "      Successfully uninstalled opencv-python-headless-4.8.1.78\n",
            "  Attempting uninstall: idna\n",
            "    Found existing installation: idna 3.6\n",
            "    Uninstalling idna-3.6:\n",
            "      Successfully uninstalled idna-3.6\n",
            "  Attempting uninstall: cycler\n",
            "    Found existing installation: cycler 0.12.1\n",
            "    Uninstalling cycler-0.12.1:\n",
            "      Successfully uninstalled cycler-0.12.1\n",
            "  Attempting uninstall: chardet\n",
            "    Found existing installation: chardet 5.2.0\n",
            "    Uninstalling chardet-5.2.0:\n",
            "      Successfully uninstalled chardet-5.2.0\n",
            "  Attempting uninstall: certifi\n",
            "    Found existing installation: certifi 2023.11.17\n",
            "    Uninstalling certifi-2023.11.17:\n",
            "      Successfully uninstalled certifi-2023.11.17\n",
            "\u001b[31mERROR: pip's dependency resolver does not currently take into account all the packages that are installed. This behaviour is the source of the following dependency conflicts.\n",
            "lida 0.0.10 requires fastapi, which is not installed.\n",
            "lida 0.0.10 requires kaleido, which is not installed.\n",
            "lida 0.0.10 requires python-multipart, which is not installed.\n",
            "lida 0.0.10 requires uvicorn, which is not installed.\u001b[0m\u001b[31m\n",
            "\u001b[0mSuccessfully installed certifi-2023.7.22 chardet-4.0.0 cycler-0.10.0 idna-2.10 opencv-python-headless-4.8.0.74 pyparsing-2.4.7 python-dotenv-1.0.0 python-magic-0.4.27 requests-toolbelt-1.0.0 roboflow-1.1.12 supervision-0.17.1\n"
          ]
        },
        {
          "output_type": "display_data",
          "data": {
            "application/vnd.colab-display-data+json": {
              "pip_warning": {
                "packages": [
                  "certifi",
                  "chardet",
                  "cv2",
                  "cycler",
                  "idna",
                  "pyparsing"
                ]
              }
            }
          },
          "metadata": {}
        }
      ],
      "source": [
        "!pip install roboflow"
      ]
    },
    {
      "cell_type": "markdown",
      "metadata": {
        "id": "Jf4aY__X6QYm"
      },
      "source": [
        "### Download dataset dan hasil labelling dari roboflow"
      ]
    },
    {
      "cell_type": "markdown",
      "metadata": {
        "id": "ovaYCI5oX_Le"
      },
      "source": [
        "download dataset yang sudah dilabeli"
      ]
    },
    {
      "cell_type": "code",
      "source": [
        "!pip install roboflow"
      ],
      "metadata": {
        "id": "3ILq68cE9Yd3",
        "colab": {
          "base_uri": "https://localhost:8080/"
        },
        "outputId": "2e8b3d2a-2064-444f-9823-4e0068629205"
      },
      "execution_count": null,
      "outputs": [
        {
          "output_type": "stream",
          "name": "stdout",
          "text": [
            "Requirement already satisfied: roboflow in /usr/local/lib/python3.10/dist-packages (1.1.12)\n",
            "Requirement already satisfied: certifi==2023.7.22 in /usr/local/lib/python3.10/dist-packages (from roboflow) (2023.7.22)\n",
            "Requirement already satisfied: chardet==4.0.0 in /usr/local/lib/python3.10/dist-packages (from roboflow) (4.0.0)\n",
            "Requirement already satisfied: cycler==0.10.0 in /usr/local/lib/python3.10/dist-packages (from roboflow) (0.10.0)\n",
            "Requirement already satisfied: idna==2.10 in /usr/local/lib/python3.10/dist-packages (from roboflow) (2.10)\n",
            "Requirement already satisfied: kiwisolver>=1.3.1 in /usr/local/lib/python3.10/dist-packages (from roboflow) (1.4.5)\n",
            "Requirement already satisfied: matplotlib in /usr/local/lib/python3.10/dist-packages (from roboflow) (3.7.1)\n",
            "Requirement already satisfied: numpy>=1.18.5 in /usr/local/lib/python3.10/dist-packages (from roboflow) (1.23.5)\n",
            "Requirement already satisfied: opencv-python-headless==4.8.0.74 in /usr/local/lib/python3.10/dist-packages (from roboflow) (4.8.0.74)\n",
            "Requirement already satisfied: Pillow>=7.1.2 in /usr/local/lib/python3.10/dist-packages (from roboflow) (9.4.0)\n",
            "Requirement already satisfied: pyparsing==2.4.7 in /usr/local/lib/python3.10/dist-packages (from roboflow) (2.4.7)\n",
            "Requirement already satisfied: python-dateutil in /usr/local/lib/python3.10/dist-packages (from roboflow) (2.8.2)\n",
            "Requirement already satisfied: python-dotenv in /usr/local/lib/python3.10/dist-packages (from roboflow) (1.0.0)\n",
            "Requirement already satisfied: requests in /usr/local/lib/python3.10/dist-packages (from roboflow) (2.31.0)\n",
            "Requirement already satisfied: six in /usr/local/lib/python3.10/dist-packages (from roboflow) (1.16.0)\n",
            "Requirement already satisfied: supervision in /usr/local/lib/python3.10/dist-packages (from roboflow) (0.17.1)\n",
            "Requirement already satisfied: urllib3>=1.26.6 in /usr/local/lib/python3.10/dist-packages (from roboflow) (2.0.7)\n",
            "Requirement already satisfied: tqdm>=4.41.0 in /usr/local/lib/python3.10/dist-packages (from roboflow) (4.66.1)\n",
            "Requirement already satisfied: PyYAML>=5.3.1 in /usr/local/lib/python3.10/dist-packages (from roboflow) (6.0.1)\n",
            "Requirement already satisfied: requests-toolbelt in /usr/local/lib/python3.10/dist-packages (from roboflow) (1.0.0)\n",
            "Requirement already satisfied: python-magic in /usr/local/lib/python3.10/dist-packages (from roboflow) (0.4.27)\n",
            "Requirement already satisfied: contourpy>=1.0.1 in /usr/local/lib/python3.10/dist-packages (from matplotlib->roboflow) (1.2.0)\n",
            "Requirement already satisfied: fonttools>=4.22.0 in /usr/local/lib/python3.10/dist-packages (from matplotlib->roboflow) (4.46.0)\n",
            "Requirement already satisfied: packaging>=20.0 in /usr/local/lib/python3.10/dist-packages (from matplotlib->roboflow) (23.2)\n",
            "Requirement already satisfied: charset-normalizer<4,>=2 in /usr/local/lib/python3.10/dist-packages (from requests->roboflow) (3.3.2)\n",
            "Requirement already satisfied: scipy>=1.9.0 in /usr/local/lib/python3.10/dist-packages (from supervision->roboflow) (1.11.4)\n"
          ]
        }
      ]
    },
    {
      "cell_type": "code",
      "source": [
        "import os\n",
        "import pandas as pd\n",
        "\n",
        "project_dir = '/content/drive/MyDrive/YoloEverythings/'\n",
        "dataset_dir = project_dir+'dataset'\n",
        "list_dataset = os.listdir(dataset_dir)\n",
        "list_dataset = [dataset_dir+'/'+i for i in list_dataset]\n",
        "list_dataframe = []\n",
        "for df in list_dataset:\n",
        "  df_te = pd.read_csv(df)\n",
        "  df_te['dataset'] = [df_te['dataset'][i] if len(str(df_te['dataset'][i]).split(\"/\")) > 2 else None for i in range(len(df_te))]\n",
        "  df_te = df_te.dropna().reset_index(drop=True)\n",
        "  df_te['workspace'] = [(str(df_te['dataset'][i]).split(\"/\"))[1] for i in range(len(df_te))]\n",
        "  df_te['project'] = [(str(df_te['dataset'][i]).split(\"/\"))[2] for i in range(len(df_te))]\n",
        "  # df_te['status'] = \"\"\n",
        "  list_dataframe.append(df_te)\n",
        "  # df_te.to_csv(df, index=False)"
      ],
      "metadata": {
        "id": "eReXvVDcTBvh"
      },
      "execution_count": null,
      "outputs": []
    },
    {
      "cell_type": "code",
      "source": [
        "import os\n",
        "import shutil\n",
        "from IPython import display\n",
        "display.clear_output()\n",
        "import ultralytics\n",
        "ultralytics.checks()\n",
        "from ultralytics import YOLO\n",
        "from IPython.display import display, Image\n",
        "from roboflow import Roboflow\n",
        "import yaml\n",
        "import subprocess\n",
        "\n",
        "HOME = os.getcwd()\n",
        "\n",
        "class LargeYoloModel:\n",
        "    def __init__(self, nama_workspace, nama_projek, epoch):\n",
        "        self.nama_workspace = nama_workspace\n",
        "        self.nama_projek = nama_projek\n",
        "        self.epoch = epoch\n",
        "\n",
        "    def export_list_to_txt(nama_file, data_list):\n",
        "      try:\n",
        "        with open(nama_file, 'w') as file:\n",
        "          for item in data_list:\n",
        "            file.write(str(item) + '\\n')\n",
        "        print(f\"List berhasil diekspor ke file {nama_file}.\")\n",
        "      except Exception as e:\n",
        "        print(f\"Error: {e}\")\n",
        "\n",
        "    def hapus_direktori(nama_direktori):\n",
        "      try:\n",
        "        shutil.rmtree(nama_direktori)\n",
        "        print(f\"Direktori {nama_direktori} berhasil dihapus.\")\n",
        "      except FileNotFoundError:\n",
        "        print(f\"Direktori {nama_direktori} tidak ditemukan.\")\n",
        "      except Exception as e:\n",
        "        print(f\"Error: {e}\")\n",
        "\n",
        "    def cari_file(direktori, nama_file):\n",
        "      # Mencari file dengan prioritas temuan paling akhir\n",
        "      temuan_terakhir = None\n",
        "      for root, dirs, files in os.walk(direktori):\n",
        "        if nama_file in files:\n",
        "          temuan_terakhir = os.path.join(root, nama_file)\n",
        "\n",
        "      return temuan_terakhir\n",
        "\n",
        "    def pindahkan_file(sumber, tujuan, nama_baru=None):\n",
        "      \"\"\"\n",
        "      Memindahkan file dari sumber ke tujuan dengan nama baru opsional.\n",
        "\n",
        "      Parameters:\n",
        "      - sumber (str): Path lengkap ke file yang akan dipindahkan.\n",
        "      - tujuan (str): Direktori tujuan untuk memindahkan file.\n",
        "      - nama_baru (str, optional): Nama baru untuk file setelah dipindahkan.\n",
        "\n",
        "      Returns:\n",
        "      - str: Path lengkap ke file yang sudah dipindahkan.\n",
        "      \"\"\"\n",
        "      # Membuat direktori tujuan jika belum ada\n",
        "      os.makedirs(tujuan, exist_ok=True)\n",
        "\n",
        "      # Menentukan nama baru atau menggunakan nama asli\n",
        "      nama_file = nama_baru if nama_baru else os.path.basename(sumber)\n",
        "\n",
        "      # Menggabungkan path untuk tujuan pindah\n",
        "      path_tujuan = os.path.join(tujuan, nama_file)\n",
        "\n",
        "      # Memindahkan file\n",
        "      shutil.move(sumber, path_tujuan)\n",
        "\n",
        "      return path_tujuan\n",
        "\n",
        "    def copy_file(dari, ke):\n",
        "        try:\n",
        "            shutil.copy(dari, ke)\n",
        "            print(f\"File berhasil disalin dari {dari} ke {ke}\")\n",
        "        except FileNotFoundError:\n",
        "            print(\"File sumber tidak ditemukan.\")\n",
        "        except PermissionError:\n",
        "            print(\"Tidak memiliki izin untuk menyalin file.\")\n",
        "        except Exception as e:\n",
        "            print(f\"Terjadi kesalahan: {e}\")\n",
        "\n",
        "    def run(self):\n",
        "      nama_workspace = self.nama_workspace\n",
        "      nama_projek = self.nama_projek\n",
        "      LargeYoloModel.copy_file('/content/drive/MyDrive/YoloEverythings/yolov8x.pt', '/content/yolov8x.pt')\n",
        "      model = YOLO(f'/content/yolov8x.pt')\n",
        "      rf = Roboflow(api_key=\"jPzrt0coWYniVrkXMnTN\") #API RoboFlow\n",
        "      project = rf.workspace(nama_workspace).project(nama_projek)\n",
        "      try:\n",
        "        dataset = project.version(1).download(\"yolov8\")\n",
        "      except:\n",
        "        print(\"gagal download\")\n",
        "        return \"gagal download\"\n",
        "\n",
        "      dataYamlLocation = LargeYoloModel.cari_file(dataset.location, \"data.yaml\")\n",
        "      with open(f\"{dataYamlLocation}\", \"r\") as stream:\n",
        "        try:\n",
        "          dict_yaml = yaml.safe_load(stream)\n",
        "          try:\n",
        "            dict_yaml['names'] = [str(label)+f\"_[{self.nama_workspace}/{nama_projek}]\" for label in dict_yaml['names']]\n",
        "          except:\n",
        "            pass\n",
        "          dict_yaml['train'] = \"../\" + dict_yaml['train']\n",
        "          dict_yaml['val'] = \"../\" + dict_yaml['val']\n",
        "          LargeYoloModel.export_list_to_txt(f\"/content/drive/MyDrive/YoloEverythings/label/{nama_workspace}_{nama_projek}_label.txt\", dict_yaml['names'])\n",
        "\n",
        "          # Menambahkan kode untuk menyimpan kembali ke file .yaml\n",
        "          with open(f\"{dataset.location}/modified_data.yaml\", \"w\") as output_stream:\n",
        "            yaml.dump(dict_yaml, output_stream, default_flow_style=False)\n",
        "            print(\"Modified data saved to modified_data.yaml\")\n",
        "        except yaml.YAMLError as exc:\n",
        "          print(exc)\n",
        "\n",
        "      if dict_yaml['names'] != []:\n",
        "        # Perintah YOLO yang ingin dieksekusi\n",
        "        dataNewYamlLocation = LargeYoloModel.cari_file(dataset.location, \"modified_data.yaml\")\n",
        "        perintah_yolo = f\"yolo task=detect mode=train model={model} data={dataNewYamlLocation} epochs={self.epoch} imgsz=800 plots=True\"\n",
        "        print(perintah_yolo)\n",
        "\n",
        "        # Menjalankan perintah shell dari dalam Python\n",
        "        try:\n",
        "          # subprocess.run(perintah_yolo, check=True, shell=True)\n",
        "          !yolo task=detect mode=train model=/content/yolov8x.pt data={dataNewYamlLocation} epochs={self.epoch} imgsz=800 plots=True\n",
        "        except subprocess.CalledProcessError as e:\n",
        "          print(f\"Error: {e}\")\n",
        "\n",
        "        # Contoh penggunaan\n",
        "        direktori_cari = \"runs\"\n",
        "        file_confusion_matrix = LargeYoloModel.cari_file(direktori_cari, \"confusion_matrix.png\")\n",
        "        file_results = LargeYoloModel.cari_file(direktori_cari, \"results.png\")\n",
        "        file_best_pt = LargeYoloModel.cari_file(direktori_cari, \"best.pt\")\n",
        "\n",
        "        try:\n",
        "          # Perintah YOLO yang ingin dieksekusi\n",
        "          perintah_yolo = f\"yolo task=detect mode=val model={file_best_pt} data={dataNewYamlLocation}\"\n",
        "\n",
        "          # Menjalankan perintah shell dari dalam Python\n",
        "          try:\n",
        "            !yolo task=detect mode=val model={file_best_pt} data={dataNewYamlLocation}\n",
        "          except subprocess.CalledProcessError as e:\n",
        "            print(f\"Error: {e}\")\n",
        "\n",
        "          sumber_file = file_best_pt\n",
        "          direktori_tujuan = \"/content/drive/MyDrive/YoloEverythings\"\n",
        "          nama_file_baru = \"yolov8x.pt\"\n",
        "\n",
        "          path_tujuan = LargeYoloModel.pindahkan_file(sumber_file, direktori_tujuan, nama_file_baru)\n",
        "          print(f\"File dipindahkan ke: {path_tujuan}\")\n",
        "\n",
        "          LargeYoloModel.hapus_direktori(dataset.location)\n",
        "          LargeYoloModel.hapus_direktori(\"runs\")\n",
        "\n",
        "          print(\"berhasil\")\n",
        "          return \"berhasil\"\n",
        "        except:\n",
        "          print(\"tidak ada file best.pt\")\n",
        "        return \"tidak ada file best.pt\"\n",
        "      else:\n",
        "        print(\"label kosong\")\n",
        "        return \"label kosong\"\n",
        "\n"
      ],
      "metadata": {
        "colab": {
          "base_uri": "https://localhost:8080/"
        },
        "id": "pmbmUuUyMRH-",
        "outputId": "ff9eaf06-05f9-402f-f883-ec4b7af07c6c"
      },
      "execution_count": null,
      "outputs": [
        {
          "output_type": "stream",
          "name": "stderr",
          "text": [
            "Ultralytics YOLOv8.0.20 🚀 Python-3.10.12 torch-2.1.0+cu121 CUDA:0 (Tesla T4, 15102MiB)\n",
            "Setup complete ✅ (2 CPUs, 12.7 GB RAM, 26.5/78.2 GB disk)\n"
          ]
        }
      ]
    },
    {
      "cell_type": "code",
      "source": [
        "project_dir"
      ],
      "metadata": {
        "colab": {
          "base_uri": "https://localhost:8080/",
          "height": 35
        },
        "id": "eRJ7s-5UGaUz",
        "outputId": "92847eab-8ebc-4205-defe-583c4e9d3cb5"
      },
      "execution_count": null,
      "outputs": [
        {
          "output_type": "execute_result",
          "data": {
            "text/plain": [
              "'/content/drive/MyDrive/YoloEverythings/'"
            ],
            "application/vnd.google.colaboratory.intrinsic+json": {
              "type": "string"
            }
          },
          "metadata": {},
          "execution_count": 12
        }
      ]
    },
    {
      "cell_type": "code",
      "source": [
        "list_dataset"
      ],
      "metadata": {
        "colab": {
          "base_uri": "https://localhost:8080/"
        },
        "id": "YzYNO3dJ9bdH",
        "outputId": "e5ae8a73-f490-49df-cb96-89eb73937286"
      },
      "execution_count": null,
      "outputs": [
        {
          "output_type": "execute_result",
          "data": {
            "text/plain": [
              "['/content/drive/MyDrive/YoloEverythings/dataset/areial_roboflow_0_100.csv',\n",
              " '/content/drive/MyDrive/YoloEverythings/dataset/damage-risk_roboflow_0_100.csv',\n",
              " '/content/drive/MyDrive/YoloEverythings/dataset/animal_roboflow_0_100.csv',\n",
              " '/content/drive/MyDrive/YoloEverythings/dataset/construction_roboflow_0_100.csv',\n",
              " '/content/drive/MyDrive/YoloEverythings/dataset/environmental_roboflow_0_100.csv',\n",
              " '/content/drive/MyDrive/YoloEverythings/dataset/infrared_roboflow_0_100.csv',\n",
              " '/content/drive/MyDrive/YoloEverythings/dataset/logistics_roboflow_0_100.csv',\n",
              " '/content/drive/MyDrive/YoloEverythings/dataset/manufacturing_roboflow_0_100.csv',\n",
              " '/content/drive/MyDrive/YoloEverythings/dataset/pest-control_roboflow_0_100.csv',\n",
              " '/content/drive/MyDrive/YoloEverythings/dataset/medical_roboflow_0_100.csv',\n",
              " '/content/drive/MyDrive/YoloEverythings/dataset/retail_roboflow_0_100.csv',\n",
              " '/content/drive/MyDrive/YoloEverythings/dataset/roboflow-100_roboflow_0_100.csv',\n",
              " '/content/drive/MyDrive/YoloEverythings/dataset/self-driving_roboflow_0_100.csv',\n",
              " '/content/drive/MyDrive/YoloEverythings/dataset/smoking_roboflow_0_100.csv',\n",
              " '/content/drive/MyDrive/YoloEverythings/dataset/sports_roboflow_0_100.csv',\n",
              " '/content/drive/MyDrive/YoloEverythings/dataset/transportation_roboflow_0_100.csv',\n",
              " '/content/drive/MyDrive/YoloEverythings/dataset/biology_roboflow_0_100.csv',\n",
              " '/content/drive/MyDrive/YoloEverythings/dataset/agriculture_roboflow_0_100.csv']"
            ]
          },
          "metadata": {},
          "execution_count": 13
        }
      ]
    },
    {
      "cell_type": "code",
      "source": [
        "dataset_list_with_status = {}\n",
        "for dataset in list_dataset:\n",
        "  dataset_list_with_status['dataset'] = dataset\n",
        "  for i in range(len(dataset)):\n",
        "    df = pd.read_csv(dataset)\n",
        "    try:\n",
        "      lym = LargeYoloModel(df['workspace'][i], df['project'][i], 10)\n",
        "      res = lym.run()\n",
        "      df['status'][i] = res\n",
        "      df.to_csv(dataset)\n",
        "      dataset_list_with_status['status'] = 'completed'\n",
        "      continue\n",
        "    except:\n",
        "      dataset_list_with_status['status'] = 'empty'\n",
        "      continue"
      ],
      "metadata": {
        "colab": {
          "base_uri": "https://localhost:8080/"
        },
        "id": "ZlhyYCla7nxg",
        "outputId": "520d59e9-3828-4381-880b-b5f8c71e56b3"
      },
      "execution_count": null,
      "outputs": [
        {
          "output_type": "stream",
          "name": "stdout",
          "text": [
            "File berhasil disalin dari /content/drive/MyDrive/YoloEverythings/yolov8x.pt ke /content/yolov8x.pt\n",
            "loading Roboflow workspace...\n",
            "loading Roboflow project...\n",
            "Dependency ultralytics==8.0.196 is required but found version=8.0.20, to fix: `pip install ultralytics==8.0.196`\n"
          ]
        },
        {
          "output_type": "stream",
          "name": "stderr",
          "text": [
            "Downloading Dataset Version Zip in cotton-1 to yolov8:: 100%|██████████| 21975/21975 [00:00<00:00, 40304.13it/s]"
          ]
        },
        {
          "output_type": "stream",
          "name": "stdout",
          "text": [
            "\n"
          ]
        },
        {
          "output_type": "stream",
          "name": "stderr",
          "text": [
            "\n",
            "Extracting Dataset Version Zip to cotton-1 in yolov8:: 100%|██████████| 824/824 [00:00<00:00, 4677.03it/s]\n"
          ]
        },
        {
          "output_type": "stream",
          "name": "stdout",
          "text": [
            "List berhasil diekspor ke file /content/drive/MyDrive/YoloEverythings/label/roboflow-100_cotton-20xz5_label.txt.\n",
            "Modified data saved to modified_data.yaml\n",
            "yolo task=detect mode=train model=<ultralytics.yolo.engine.model.YOLO object at 0x7ef8a2df6e30> data=/content/cotton-1/modified_data.yaml epochs=10 imgsz=800 plots=True\n",
            "Ultralytics YOLOv8.0.20 🚀 Python-3.10.12 torch-2.1.0+cu121 CUDA:0 (Tesla T4, 15102MiB)\n",
            "\u001b[34m\u001b[1myolo/engine/trainer: \u001b[0mtask=detect, mode=train, model=yolov8n.yaml, data=/content/cotton-1/modified_data.yaml, epochs=10, patience=50, batch=16, imgsz=800, save=True, cache=False, device=, workers=8, project=None, name=None, exist_ok=False, pretrained=False, optimizer=SGD, verbose=True, seed=0, deterministic=True, single_cls=False, image_weights=False, rect=False, cos_lr=False, close_mosaic=10, resume=False, overlap_mask=True, mask_ratio=4, dropout=False, val=True, save_json=False, save_hybrid=False, conf=0.001, iou=0.7, max_det=300, half=False, dnn=False, plots=True, source=ultralytics/assets/, show=False, save_txt=False, save_conf=False, save_crop=False, hide_labels=False, hide_conf=False, vid_stride=1, line_thickness=3, visualize=False, augment=False, agnostic_nms=False, classes=None, retina_masks=False, boxes=True, format=torchscript, keras=False, optimize=False, int8=False, dynamic=False, simplify=False, opset=17, workspace=4, nms=False, lr0=0.01, lrf=0.01, momentum=0.937, weight_decay=0.001, warmup_epochs=3.0, warmup_momentum=0.8, warmup_bias_lr=0.1, box=7.5, cls=0.5, dfl=1.5, fl_gamma=0.0, label_smoothing=0.0, nbs=64, hsv_h=0.015, hsv_s=0.7, hsv_v=0.4, degrees=0.0, translate=0.1, scale=0.5, shear=0.0, perspective=0.0, flipud=0.0, fliplr=0.5, mosaic=1.0, mixup=0.0, copy_paste=0.0, cfg=None, v5loader=False, save_dir=runs/detect/train\n",
            "Downloading https://ultralytics.com/assets/Arial.ttf to /root/.config/Ultralytics/Arial.ttf...\n",
            "100% 755k/755k [00:00<00:00, 24.9MB/s]\n",
            "2023-12-20 02:31:57.037235: E external/local_xla/xla/stream_executor/cuda/cuda_dnn.cc:9261] Unable to register cuDNN factory: Attempting to register factory for plugin cuDNN when one has already been registered\n",
            "2023-12-20 02:31:57.037303: E external/local_xla/xla/stream_executor/cuda/cuda_fft.cc:607] Unable to register cuFFT factory: Attempting to register factory for plugin cuFFT when one has already been registered\n",
            "2023-12-20 02:31:57.038631: E external/local_xla/xla/stream_executor/cuda/cuda_blas.cc:1515] Unable to register cuBLAS factory: Attempting to register factory for plugin cuBLAS when one has already been registered\n",
            "2023-12-20 02:31:58.046522: W tensorflow/compiler/tf2tensorrt/utils/py_utils.cc:38] TF-TRT Warning: Could not find TensorRT\n",
            "Overriding model.yaml nc=1 with nc=4\n",
            "\n",
            "                   from  n    params  module                                       arguments                     \n",
            "  0                  -1  1       464  ultralytics.nn.modules.Conv                  [3, 16, 3, 2]                 \n",
            "  1                  -1  1      4672  ultralytics.nn.modules.Conv                  [16, 32, 3, 2]                \n",
            "  2                  -1  1      7360  ultralytics.nn.modules.C2f                   [32, 32, 1, True]             \n",
            "  3                  -1  1     18560  ultralytics.nn.modules.Conv                  [32, 64, 3, 2]                \n",
            "  4                  -1  2     49664  ultralytics.nn.modules.C2f                   [64, 64, 2, True]             \n",
            "  5                  -1  1     73984  ultralytics.nn.modules.Conv                  [64, 128, 3, 2]               \n",
            "  6                  -1  2    197632  ultralytics.nn.modules.C2f                   [128, 128, 2, True]           \n",
            "  7                  -1  1    295424  ultralytics.nn.modules.Conv                  [128, 256, 3, 2]              \n",
            "  8                  -1  1    460288  ultralytics.nn.modules.C2f                   [256, 256, 1, True]           \n",
            "  9                  -1  1    164608  ultralytics.nn.modules.SPPF                  [256, 256, 5]                 \n",
            " 10                  -1  1         0  torch.nn.modules.upsampling.Upsample         [None, 2, 'nearest']          \n",
            " 11             [-1, 6]  1         0  ultralytics.nn.modules.Concat                [1]                           \n",
            " 12                  -1  1    148224  ultralytics.nn.modules.C2f                   [384, 128, 1]                 \n",
            " 13                  -1  1         0  torch.nn.modules.upsampling.Upsample         [None, 2, 'nearest']          \n",
            " 14             [-1, 4]  1         0  ultralytics.nn.modules.Concat                [1]                           \n",
            " 15                  -1  1     37248  ultralytics.nn.modules.C2f                   [192, 64, 1]                  \n",
            " 16                  -1  1     36992  ultralytics.nn.modules.Conv                  [64, 64, 3, 2]                \n",
            " 17            [-1, 12]  1         0  ultralytics.nn.modules.Concat                [1]                           \n",
            " 18                  -1  1    123648  ultralytics.nn.modules.C2f                   [192, 128, 1]                 \n",
            " 19                  -1  1    147712  ultralytics.nn.modules.Conv                  [128, 128, 3, 2]              \n",
            " 20             [-1, 9]  1         0  ultralytics.nn.modules.Concat                [1]                           \n",
            " 21                  -1  1    493056  ultralytics.nn.modules.C2f                   [384, 256, 1]                 \n",
            " 22        [15, 18, 21]  1    752092  ultralytics.nn.modules.Detect                [4, [64, 128, 256]]           \n",
            "Model summary: 225 layers, 3011628 parameters, 3011612 gradients, 8.2 GFLOPs\n",
            "\n",
            "Transferred 349/355 items from pretrained weights\n",
            "\u001b[34m\u001b[1moptimizer:\u001b[0m SGD(lr=0.01) with parameter groups 57 weight(decay=0.0), 64 weight(decay=0.001), 63 bias\n",
            "\u001b[34m\u001b[1mtrain: \u001b[0mScanning /content/cotton-1/train/labels... 367 images, 2 backgrounds, 0 corrupt: 100% 367/367 [00:00<00:00, 1876.20it/s]\n",
            "\u001b[34m\u001b[1mtrain: \u001b[0mNew cache created: /content/cotton-1/train/labels.cache\n",
            "WARNING ⚠️ Box and segment counts should be equal, but got len(segments) = 606, len(boxes) = 836. To resolve this only boxes will be used and all segments will be removed. To avoid this please supply either a detect or segment dataset, not a detect-segment mixed dataset.\n",
            "\u001b[34m\u001b[1malbumentations: \u001b[0mBlur(p=0.01, blur_limit=(3, 7)), MedianBlur(p=0.01, blur_limit=(3, 7)), ToGray(p=0.01), CLAHE(p=0.01, clip_limit=(1, 4.0), tile_grid_size=(8, 8))\n",
            "\u001b[34m\u001b[1mval: \u001b[0mScanning /content/cotton-1/valid/labels... 19 images, 0 backgrounds, 0 corrupt: 100% 19/19 [00:00<00:00, 1599.05it/s]\n",
            "\u001b[34m\u001b[1mval: \u001b[0mNew cache created: /content/cotton-1/valid/labels.cache\n",
            "Image sizes 800 train, 800 val\n",
            "Using 2 dataloader workers\n",
            "Logging results to \u001b[1mruns/detect/train\u001b[0m\n",
            "Starting training for 10 epochs...\n",
            "Closing dataloader mosaic\n",
            "\u001b[34m\u001b[1malbumentations: \u001b[0mBlur(p=0.01, blur_limit=(3, 7)), MedianBlur(p=0.01, blur_limit=(3, 7)), ToGray(p=0.01), CLAHE(p=0.01, clip_limit=(1, 4.0), tile_grid_size=(8, 8))\n",
            "\n",
            "      Epoch    GPU_mem   box_loss   cls_loss   dfl_loss  Instances       Size\n",
            "       1/10      4.49G      2.333      4.188      2.564         33        800: 100% 23/23 [00:19<00:00,  1.20it/s]\n",
            "                 Class     Images  Instances      Box(P          R      mAP50  mAP50-95): 100% 1/1 [00:01<00:00,  1.96s/it]\n",
            "                   all         19         48      0.426      0.083     0.0796     0.0344\n",
            "G-arboreum_[roboflow-100/cotton-20xz5]         19         21     0.0662     0.0952     0.0429     0.0156\n",
            "G-barbadense_[roboflow-100/cotton-20xz5]         19          1          1          0    0.00711    0.00169\n",
            "G-herbaceum_[roboflow-100/cotton-20xz5]         19         26      0.213      0.154      0.189     0.0861\n",
            "\n",
            "      Epoch    GPU_mem   box_loss   cls_loss   dfl_loss  Instances       Size\n",
            "       2/10      4.49G      1.924      3.393      2.101         35        800: 100% 23/23 [00:11<00:00,  2.05it/s]\n",
            "                 Class     Images  Instances      Box(P          R      mAP50  mAP50-95): 100% 1/1 [00:00<00:00,  1.22it/s]\n",
            "                   all         19         48     0.0939      0.503      0.123     0.0555\n",
            "G-arboreum_[roboflow-100/cotton-20xz5]         19         21     0.0638       0.19     0.0622     0.0222\n",
            "G-barbadense_[roboflow-100/cotton-20xz5]         19          1     0.0267          1     0.0524     0.0209\n",
            "G-herbaceum_[roboflow-100/cotton-20xz5]         19         26      0.191      0.318      0.256      0.123\n",
            "\n",
            "      Epoch    GPU_mem   box_loss   cls_loss   dfl_loss  Instances       Size\n",
            "       3/10      4.49G       1.76      2.966      1.939         30        800: 100% 23/23 [00:11<00:00,  2.07it/s]\n",
            "                 Class     Images  Instances      Box(P          R      mAP50  mAP50-95): 100% 1/1 [00:00<00:00,  1.28it/s]\n",
            "                   all         19         48      0.167      0.494      0.194     0.0894\n",
            "G-arboreum_[roboflow-100/cotton-20xz5]         19         21     0.0659     0.0952     0.0355     0.0129\n",
            "G-barbadense_[roboflow-100/cotton-20xz5]         19          1     0.0636          1      0.166     0.0829\n",
            "G-herbaceum_[roboflow-100/cotton-20xz5]         19         26      0.372      0.388      0.379      0.173\n",
            "\n",
            "      Epoch    GPU_mem   box_loss   cls_loss   dfl_loss  Instances       Size\n",
            "       4/10      4.49G      1.683      2.737      1.884         52        800: 100% 23/23 [00:11<00:00,  1.98it/s]\n",
            "                 Class     Images  Instances      Box(P          R      mAP50  mAP50-95): 100% 1/1 [00:00<00:00,  1.79it/s]\n",
            "                   all         19         48      0.179      0.592      0.202      0.093\n",
            "G-arboreum_[roboflow-100/cotton-20xz5]         19         21      0.114      0.238     0.0457     0.0144\n",
            "G-barbadense_[roboflow-100/cotton-20xz5]         19          1     0.0555          1     0.0905     0.0724\n",
            "G-herbaceum_[roboflow-100/cotton-20xz5]         19         26      0.367      0.538      0.471      0.192\n",
            "\n",
            "      Epoch    GPU_mem   box_loss   cls_loss   dfl_loss  Instances       Size\n",
            "       5/10      4.49G      1.631      2.589      1.893         48        800: 100% 23/23 [00:12<00:00,  1.78it/s]\n",
            "                 Class     Images  Instances      Box(P          R      mAP50  mAP50-95): 100% 1/1 [00:00<00:00,  1.81it/s]\n",
            "                   all         19         48      0.239      0.623      0.218      0.115\n",
            "G-arboreum_[roboflow-100/cotton-20xz5]         19         21      0.149      0.238      0.066     0.0206\n",
            "G-barbadense_[roboflow-100/cotton-20xz5]         19          1     0.0924          1      0.166     0.0995\n",
            "G-herbaceum_[roboflow-100/cotton-20xz5]         19         26      0.477      0.631      0.422      0.225\n",
            "\n",
            "      Epoch    GPU_mem   box_loss   cls_loss   dfl_loss  Instances       Size\n",
            "       6/10      4.49G      1.599      2.521       1.83         36        800: 100% 23/23 [00:12<00:00,  1.84it/s]\n",
            "                 Class     Images  Instances      Box(P          R      mAP50  mAP50-95): 100% 1/1 [00:00<00:00,  1.79it/s]\n",
            "                   all         19         48      0.242      0.602      0.262      0.147\n",
            "G-arboreum_[roboflow-100/cotton-20xz5]         19         21      0.108       0.19     0.0554     0.0175\n",
            "G-barbadense_[roboflow-100/cotton-20xz5]         19          1       0.12          1      0.249      0.149\n",
            "G-herbaceum_[roboflow-100/cotton-20xz5]         19         26      0.498      0.615      0.481      0.276\n",
            "\n",
            "      Epoch    GPU_mem   box_loss   cls_loss   dfl_loss  Instances       Size\n",
            "       7/10      4.49G      1.577      2.432      1.829         27        800: 100% 23/23 [00:12<00:00,  1.81it/s]\n",
            "                 Class     Images  Instances      Box(P          R      mAP50  mAP50-95): 100% 1/1 [00:00<00:00,  1.84it/s]\n",
            "                   all         19         48      0.326      0.491      0.347       0.22\n",
            "G-arboreum_[roboflow-100/cotton-20xz5]         19         21      0.255      0.245      0.101     0.0329\n",
            "G-barbadense_[roboflow-100/cotton-20xz5]         19          1      0.181          1      0.497      0.348\n",
            "G-herbaceum_[roboflow-100/cotton-20xz5]         19         26      0.541      0.227      0.444      0.278\n",
            "\n",
            "      Epoch    GPU_mem   box_loss   cls_loss   dfl_loss  Instances       Size\n",
            "       8/10      4.49G       1.52      2.335      1.767         18        800: 100% 23/23 [00:11<00:00,  1.92it/s]\n",
            "                 Class     Images  Instances      Box(P          R      mAP50  mAP50-95): 100% 1/1 [00:00<00:00,  1.34it/s]\n",
            "                   all         19         48      0.274        0.5      0.369      0.228\n",
            "G-arboreum_[roboflow-100/cotton-20xz5]         19         21          0          0     0.0858     0.0374\n",
            "G-barbadense_[roboflow-100/cotton-20xz5]         19          1      0.267          1      0.497      0.348\n",
            "G-herbaceum_[roboflow-100/cotton-20xz5]         19         26      0.555        0.5      0.525        0.3\n",
            "\n",
            "      Epoch    GPU_mem   box_loss   cls_loss   dfl_loss  Instances       Size\n",
            "       9/10       4.5G      1.482      2.283      1.756         21        800: 100% 23/23 [00:10<00:00,  2.19it/s]\n",
            "                 Class     Images  Instances      Box(P          R      mAP50  mAP50-95): 100% 1/1 [00:00<00:00,  1.31it/s]\n",
            "                   all         19         48      0.317      0.479      0.362      0.217\n",
            "G-arboreum_[roboflow-100/cotton-20xz5]         19         21      0.137     0.0909     0.0605     0.0285\n",
            "G-barbadense_[roboflow-100/cotton-20xz5]         19          1      0.192          1      0.497      0.298\n",
            "G-herbaceum_[roboflow-100/cotton-20xz5]         19         26      0.624      0.346      0.529      0.325\n",
            "\n",
            "      Epoch    GPU_mem   box_loss   cls_loss   dfl_loss  Instances       Size\n",
            "      10/10       4.5G      1.495      2.248       1.75         27        800: 100% 23/23 [00:11<00:00,  1.98it/s]\n",
            "                 Class     Images  Instances      Box(P          R      mAP50  mAP50-95): 100% 1/1 [00:00<00:00,  1.54it/s]\n",
            "                   all         19         48      0.271      0.522      0.286      0.171\n",
            "G-arboreum_[roboflow-100/cotton-20xz5]         19         21       0.13      0.143     0.0797     0.0328\n",
            "G-barbadense_[roboflow-100/cotton-20xz5]         19          1      0.153          1      0.332      0.199\n",
            "G-herbaceum_[roboflow-100/cotton-20xz5]         19         26      0.528      0.423      0.447      0.281\n",
            "\n",
            "10 epochs completed in 0.040 hours.\n",
            "Optimizer stripped from runs/detect/train/weights/last.pt, 6.3MB\n",
            "Optimizer stripped from runs/detect/train/weights/best.pt, 6.3MB\n",
            "\n",
            "Validating runs/detect/train/weights/best.pt...\n",
            "Ultralytics YOLOv8.0.20 🚀 Python-3.10.12 torch-2.1.0+cu121 CUDA:0 (Tesla T4, 15102MiB)\n",
            "Model summary (fused): 168 layers, 3006428 parameters, 0 gradients, 8.1 GFLOPs\n",
            "                 Class     Images  Instances      Box(P          R      mAP50  mAP50-95): 100% 1/1 [00:00<00:00,  1.54it/s]\n",
            "                   all         19         48      0.274        0.5      0.369      0.229\n",
            "G-arboreum_[roboflow-100/cotton-20xz5]         19         21          0          0     0.0858     0.0374\n",
            "G-barbadense_[roboflow-100/cotton-20xz5]         19          1      0.267          1      0.497      0.348\n",
            "G-herbaceum_[roboflow-100/cotton-20xz5]         19         26      0.555        0.5      0.525      0.301\n",
            "Speed: 0.3ms pre-process, 4.5ms inference, 0.0ms loss, 1.3ms post-process per image\n",
            "Results saved to \u001b[1mruns/detect/train\u001b[0m\n",
            "2023-12-20 02:34:42.182742: E external/local_xla/xla/stream_executor/cuda/cuda_dnn.cc:9261] Unable to register cuDNN factory: Attempting to register factory for plugin cuDNN when one has already been registered\n",
            "2023-12-20 02:34:42.182791: E external/local_xla/xla/stream_executor/cuda/cuda_fft.cc:607] Unable to register cuFFT factory: Attempting to register factory for plugin cuFFT when one has already been registered\n",
            "2023-12-20 02:34:42.184167: E external/local_xla/xla/stream_executor/cuda/cuda_blas.cc:1515] Unable to register cuBLAS factory: Attempting to register factory for plugin cuBLAS when one has already been registered\n",
            "2023-12-20 02:34:43.214282: W tensorflow/compiler/tf2tensorrt/utils/py_utils.cc:38] TF-TRT Warning: Could not find TensorRT\n",
            "Ultralytics YOLOv8.0.20 🚀 Python-3.10.12 torch-2.1.0+cu121 CUDA:0 (Tesla T4, 15102MiB)\n",
            "Model summary (fused): 168 layers, 3006428 parameters, 0 gradients, 8.1 GFLOPs\n",
            "\u001b[34m\u001b[1mval: \u001b[0mScanning /content/cotton-1/valid/labels.cache... 19 images, 0 backgrounds, 0 corrupt: 100% 19/19 [00:00<?, ?it/s]\n",
            "                 Class     Images  Instances      Box(P          R      mAP50  mAP50-95): 100% 2/2 [00:01<00:00,  1.17it/s]\n",
            "                   all         19         48      0.274        0.5      0.369      0.229\n",
            "G-arboreum_[roboflow-100/cotton-20xz5]         19         21          0          0     0.0858     0.0374\n",
            "G-barbadense_[roboflow-100/cotton-20xz5]         19          1      0.268          1      0.497      0.348\n",
            "G-herbaceum_[roboflow-100/cotton-20xz5]         19         26      0.555        0.5      0.525        0.3\n",
            "Speed: 0.4ms pre-process, 25.0ms inference, 0.0ms loss, 28.2ms post-process per image\n",
            "File dipindahkan ke: /content/drive/MyDrive/YoloEverythings/yolov8x.pt\n",
            "Direktori /content/cotton-1 berhasil dihapus.\n",
            "Direktori runs berhasil dihapus.\n",
            "berhasil\n",
            "File berhasil disalin dari /content/drive/MyDrive/YoloEverythings/yolov8x.pt ke /content/yolov8x.pt\n"
          ]
        },
        {
          "output_type": "stream",
          "name": "stderr",
          "text": [
            "\n",
            "A value is trying to be set on a copy of a slice from a DataFrame\n",
            "\n",
            "See the caveats in the documentation: https://pandas.pydata.org/pandas-docs/stable/user_guide/indexing.html#returning-a-view-versus-a-copy\n"
          ]
        },
        {
          "output_type": "stream",
          "name": "stdout",
          "text": [
            "loading Roboflow workspace...\n",
            "loading Roboflow project...\n",
            "Dependency ultralytics==8.0.196 is required but found version=8.0.20, to fix: `pip install ultralytics==8.0.196`\n"
          ]
        },
        {
          "output_type": "stream",
          "name": "stderr",
          "text": [
            "Downloading Dataset Version Zip in apples-1 to yolov8:: 100%|██████████| 30499/30499 [00:00<00:00, 55972.28it/s]"
          ]
        },
        {
          "output_type": "stream",
          "name": "stdout",
          "text": [
            "\n"
          ]
        },
        {
          "output_type": "stream",
          "name": "stderr",
          "text": [
            "\n",
            "Extracting Dataset Version Zip to apples-1 in yolov8:: 100%|██████████| 1406/1406 [00:00<00:00, 7526.68it/s]\n"
          ]
        },
        {
          "output_type": "stream",
          "name": "stdout",
          "text": [
            "List berhasil diekspor ke file /content/drive/MyDrive/YoloEverythings/label/roboflow-100_apples-fvpl5_label.txt.\n",
            "Modified data saved to modified_data.yaml\n",
            "yolo task=detect mode=train model=<ultralytics.yolo.engine.model.YOLO object at 0x7ef8887f8430> data=/content/apples-1/modified_data.yaml epochs=10 imgsz=800 plots=True\n",
            "Ultralytics YOLOv8.0.20 🚀 Python-3.10.12 torch-2.1.0+cu121 CUDA:0 (Tesla T4, 15102MiB)\n",
            "\u001b[34m\u001b[1myolo/engine/trainer: \u001b[0mtask=detect, mode=train, model=yolov8n.yaml, data=/content/apples-1/modified_data.yaml, epochs=10, patience=50, batch=16, imgsz=800, save=True, cache=False, device=, workers=8, project=None, name=None, exist_ok=False, pretrained=False, optimizer=SGD, verbose=True, seed=0, deterministic=True, single_cls=False, image_weights=False, rect=False, cos_lr=False, close_mosaic=10, resume=False, overlap_mask=True, mask_ratio=4, dropout=False, val=True, save_json=False, save_hybrid=False, conf=0.001, iou=0.7, max_det=300, half=False, dnn=False, plots=True, source=ultralytics/assets/, show=False, save_txt=False, save_conf=False, save_crop=False, hide_labels=False, hide_conf=False, vid_stride=1, line_thickness=3, visualize=False, augment=False, agnostic_nms=False, classes=None, retina_masks=False, boxes=True, format=torchscript, keras=False, optimize=False, int8=False, dynamic=False, simplify=False, opset=17, workspace=4, nms=False, lr0=0.01, lrf=0.01, momentum=0.937, weight_decay=0.001, warmup_epochs=3.0, warmup_momentum=0.8, warmup_bias_lr=0.1, box=7.5, cls=0.5, dfl=1.5, fl_gamma=0.0, label_smoothing=0.0, nbs=64, hsv_h=0.015, hsv_s=0.7, hsv_v=0.4, degrees=0.0, translate=0.1, scale=0.5, shear=0.0, perspective=0.0, flipud=0.0, fliplr=0.5, mosaic=1.0, mixup=0.0, copy_paste=0.0, cfg=None, v5loader=False, save_dir=runs/detect/train\n",
            "2023-12-20 02:35:02.684069: E external/local_xla/xla/stream_executor/cuda/cuda_dnn.cc:9261] Unable to register cuDNN factory: Attempting to register factory for plugin cuDNN when one has already been registered\n",
            "2023-12-20 02:35:02.684127: E external/local_xla/xla/stream_executor/cuda/cuda_fft.cc:607] Unable to register cuFFT factory: Attempting to register factory for plugin cuFFT when one has already been registered\n",
            "2023-12-20 02:35:02.685358: E external/local_xla/xla/stream_executor/cuda/cuda_blas.cc:1515] Unable to register cuBLAS factory: Attempting to register factory for plugin cuBLAS when one has already been registered\n",
            "2023-12-20 02:35:03.688782: W tensorflow/compiler/tf2tensorrt/utils/py_utils.cc:38] TF-TRT Warning: Could not find TensorRT\n",
            "Overriding model.yaml nc=4 with nc=2\n",
            "\n",
            "                   from  n    params  module                                       arguments                     \n",
            "  0                  -1  1       464  ultralytics.nn.modules.Conv                  [3, 16, 3, 2]                 \n",
            "  1                  -1  1      4672  ultralytics.nn.modules.Conv                  [16, 32, 3, 2]                \n",
            "  2                  -1  1      7360  ultralytics.nn.modules.C2f                   [32, 32, 1, True]             \n",
            "  3                  -1  1     18560  ultralytics.nn.modules.Conv                  [32, 64, 3, 2]                \n",
            "  4                  -1  2     49664  ultralytics.nn.modules.C2f                   [64, 64, 2, True]             \n",
            "  5                  -1  1     73984  ultralytics.nn.modules.Conv                  [64, 128, 3, 2]               \n",
            "  6                  -1  2    197632  ultralytics.nn.modules.C2f                   [128, 128, 2, True]           \n",
            "  7                  -1  1    295424  ultralytics.nn.modules.Conv                  [128, 256, 3, 2]              \n",
            "  8                  -1  1    460288  ultralytics.nn.modules.C2f                   [256, 256, 1, True]           \n",
            "  9                  -1  1    164608  ultralytics.nn.modules.SPPF                  [256, 256, 5]                 \n",
            " 10                  -1  1         0  torch.nn.modules.upsampling.Upsample         [None, 2, 'nearest']          \n",
            " 11             [-1, 6]  1         0  ultralytics.nn.modules.Concat                [1]                           \n",
            " 12                  -1  1    148224  ultralytics.nn.modules.C2f                   [384, 128, 1]                 \n",
            " 13                  -1  1         0  torch.nn.modules.upsampling.Upsample         [None, 2, 'nearest']          \n",
            " 14             [-1, 4]  1         0  ultralytics.nn.modules.Concat                [1]                           \n",
            " 15                  -1  1     37248  ultralytics.nn.modules.C2f                   [192, 64, 1]                  \n",
            " 16                  -1  1     36992  ultralytics.nn.modules.Conv                  [64, 64, 3, 2]                \n",
            " 17            [-1, 12]  1         0  ultralytics.nn.modules.Concat                [1]                           \n",
            " 18                  -1  1    123648  ultralytics.nn.modules.C2f                   [192, 128, 1]                 \n",
            " 19                  -1  1    147712  ultralytics.nn.modules.Conv                  [128, 128, 3, 2]              \n",
            " 20             [-1, 9]  1         0  ultralytics.nn.modules.Concat                [1]                           \n",
            " 21                  -1  1    493056  ultralytics.nn.modules.C2f                   [384, 256, 1]                 \n",
            " 22        [15, 18, 21]  1    751702  ultralytics.nn.modules.Detect                [2, [64, 128, 256]]           \n",
            "Model summary: 225 layers, 3011238 parameters, 3011222 gradients, 8.2 GFLOPs\n",
            "\n",
            "Transferred 349/355 items from pretrained weights\n",
            "\u001b[34m\u001b[1moptimizer:\u001b[0m SGD(lr=0.01) with parameter groups 57 weight(decay=0.0), 64 weight(decay=0.001), 63 bias\n",
            "\u001b[34m\u001b[1mtrain: \u001b[0mScanning /content/apples-1/train/labels... 489 images, 1 backgrounds, 0 corrupt: 100% 489/489 [00:00<00:00, 2010.79it/s]\n",
            "\u001b[34m\u001b[1mtrain: \u001b[0mNew cache created: /content/apples-1/train/labels.cache\n",
            "\u001b[34m\u001b[1malbumentations: \u001b[0mBlur(p=0.01, blur_limit=(3, 7)), MedianBlur(p=0.01, blur_limit=(3, 7)), ToGray(p=0.01), CLAHE(p=0.01, clip_limit=(1, 4.0), tile_grid_size=(8, 8))\n",
            "\u001b[34m\u001b[1mval: \u001b[0mScanning /content/apples-1/valid/labels... 178 images, 0 backgrounds, 0 corrupt: 100% 178/178 [00:00<00:00, 1950.65it/s]\n",
            "\u001b[34m\u001b[1mval: \u001b[0mNew cache created: /content/apples-1/valid/labels.cache\n",
            "Image sizes 800 train, 800 val\n",
            "Using 2 dataloader workers\n",
            "Logging results to \u001b[1mruns/detect/train\u001b[0m\n",
            "Starting training for 10 epochs...\n",
            "Closing dataloader mosaic\n",
            "\u001b[34m\u001b[1malbumentations: \u001b[0mBlur(p=0.01, blur_limit=(3, 7)), MedianBlur(p=0.01, blur_limit=(3, 7)), ToGray(p=0.01), CLAHE(p=0.01, clip_limit=(1, 4.0), tile_grid_size=(8, 8))\n",
            "\n",
            "      Epoch    GPU_mem   box_loss   cls_loss   dfl_loss  Instances       Size\n",
            "       1/10      4.72G      1.611      2.432      1.856         38        800: 100% 31/31 [00:21<00:00,  1.45it/s]\n",
            "                 Class     Images  Instances      Box(P          R      mAP50  mAP50-95): 100% 6/6 [00:03<00:00,  1.56it/s]\n",
            "                   all        178        723      0.426      0.561      0.415       0.24\n",
            "apple_[roboflow-100/apples-fvpl5]        178        522      0.491      0.674      0.467       0.25\n",
            "damaged_apple_[roboflow-100/apples-fvpl5]        178        201      0.361      0.448      0.363       0.23\n",
            "\n",
            "      Epoch    GPU_mem   box_loss   cls_loss   dfl_loss  Instances       Size\n",
            "       2/10      5.74G      1.404      1.615      1.639         67        800: 100% 31/31 [00:16<00:00,  1.93it/s]\n",
            "                 Class     Images  Instances      Box(P          R      mAP50  mAP50-95): 100% 6/6 [00:03<00:00,  1.77it/s]\n",
            "                   all        178        723      0.523       0.57      0.513      0.307\n",
            "apple_[roboflow-100/apples-fvpl5]        178        522      0.544      0.757       0.58      0.311\n",
            "damaged_apple_[roboflow-100/apples-fvpl5]        178        201      0.503      0.383      0.446      0.303\n",
            "\n",
            "      Epoch    GPU_mem   box_loss   cls_loss   dfl_loss  Instances       Size\n",
            "       3/10      5.74G      1.331      1.423      1.586         34        800: 100% 31/31 [00:15<00:00,  1.97it/s]\n",
            "                 Class     Images  Instances      Box(P          R      mAP50  mAP50-95): 100% 6/6 [00:04<00:00,  1.43it/s]\n",
            "                   all        178        723      0.594      0.562      0.555      0.336\n",
            "apple_[roboflow-100/apples-fvpl5]        178        522      0.607      0.722      0.628      0.351\n",
            "damaged_apple_[roboflow-100/apples-fvpl5]        178        201      0.582      0.402      0.481      0.321\n",
            "\n",
            "      Epoch    GPU_mem   box_loss   cls_loss   dfl_loss  Instances       Size\n",
            "       4/10      5.74G      1.312      1.371      1.573         17        800: 100% 31/31 [00:15<00:00,  2.04it/s]\n",
            "                 Class     Images  Instances      Box(P          R      mAP50  mAP50-95): 100% 6/6 [00:04<00:00,  1.45it/s]\n",
            "                   all        178        723      0.577       0.67      0.631      0.398\n",
            "apple_[roboflow-100/apples-fvpl5]        178        522      0.642      0.713      0.687      0.392\n",
            "damaged_apple_[roboflow-100/apples-fvpl5]        178        201      0.511      0.627      0.576      0.403\n",
            "\n",
            "      Epoch    GPU_mem   box_loss   cls_loss   dfl_loss  Instances       Size\n",
            "       5/10      5.74G      1.265      1.296      1.514         28        800: 100% 31/31 [00:15<00:00,  1.98it/s]\n",
            "                 Class     Images  Instances      Box(P          R      mAP50  mAP50-95): 100% 6/6 [00:03<00:00,  1.79it/s]\n",
            "                   all        178        723      0.563      0.665       0.63      0.398\n",
            "apple_[roboflow-100/apples-fvpl5]        178        522      0.698      0.667      0.697      0.392\n",
            "damaged_apple_[roboflow-100/apples-fvpl5]        178        201      0.428      0.663      0.563      0.404\n",
            "\n",
            "      Epoch    GPU_mem   box_loss   cls_loss   dfl_loss  Instances       Size\n",
            "       6/10      5.74G      1.279      1.233      1.501         41        800: 100% 31/31 [00:19<00:00,  1.61it/s]\n",
            "                 Class     Images  Instances      Box(P          R      mAP50  mAP50-95): 100% 6/6 [00:03<00:00,  1.71it/s]\n",
            "                   all        178        723      0.634       0.62      0.628      0.396\n",
            "apple_[roboflow-100/apples-fvpl5]        178        522      0.599      0.841      0.704        0.4\n",
            "damaged_apple_[roboflow-100/apples-fvpl5]        178        201      0.669      0.398      0.552      0.392\n",
            "\n",
            "      Epoch    GPU_mem   box_loss   cls_loss   dfl_loss  Instances       Size\n",
            "       7/10      5.74G      1.281      1.224      1.507         37        800: 100% 31/31 [00:15<00:00,  1.97it/s]\n",
            "                 Class     Images  Instances      Box(P          R      mAP50  mAP50-95): 100% 6/6 [00:03<00:00,  1.73it/s]\n",
            "                   all        178        723      0.648      0.616      0.648      0.409\n",
            "apple_[roboflow-100/apples-fvpl5]        178        522      0.666      0.763      0.718      0.413\n",
            "damaged_apple_[roboflow-100/apples-fvpl5]        178        201      0.631      0.468      0.577      0.405\n",
            "\n",
            "      Epoch    GPU_mem   box_loss   cls_loss   dfl_loss  Instances       Size\n",
            "       8/10      5.74G       1.24      1.154      1.472         27        800: 100% 31/31 [00:16<00:00,  1.91it/s]\n",
            "                 Class     Images  Instances      Box(P          R      mAP50  mAP50-95): 100% 6/6 [00:04<00:00,  1.39it/s]\n",
            "                   all        178        723      0.611      0.698      0.677      0.427\n",
            "apple_[roboflow-100/apples-fvpl5]        178        522      0.733       0.72      0.746      0.419\n",
            "damaged_apple_[roboflow-100/apples-fvpl5]        178        201       0.49      0.677      0.608      0.435\n",
            "\n",
            "      Epoch    GPU_mem   box_loss   cls_loss   dfl_loss  Instances       Size\n",
            "       9/10      5.74G      1.256      1.181      1.454         63        800: 100% 31/31 [00:15<00:00,  2.02it/s]\n",
            "                 Class     Images  Instances      Box(P          R      mAP50  mAP50-95): 100% 6/6 [00:03<00:00,  1.84it/s]\n",
            "                   all        178        723      0.638      0.688      0.669      0.434\n",
            "apple_[roboflow-100/apples-fvpl5]        178        522      0.658      0.773      0.721      0.418\n",
            "damaged_apple_[roboflow-100/apples-fvpl5]        178        201      0.618      0.603      0.617       0.45\n",
            "\n",
            "      Epoch    GPU_mem   box_loss   cls_loss   dfl_loss  Instances       Size\n",
            "      10/10      5.74G      1.216      1.163      1.454         24        800: 100% 31/31 [00:15<00:00,  1.95it/s]\n",
            "                 Class     Images  Instances      Box(P          R      mAP50  mAP50-95): 100% 6/6 [00:09<00:00,  1.56s/it]\n",
            "                   all        178        723      0.595      0.709      0.686      0.442\n",
            "apple_[roboflow-100/apples-fvpl5]        178        522      0.739      0.707      0.739      0.416\n",
            "damaged_apple_[roboflow-100/apples-fvpl5]        178        201      0.451      0.711      0.633      0.467\n",
            "\n",
            "10 epochs completed in 0.061 hours.\n",
            "Optimizer stripped from runs/detect/train/weights/last.pt, 6.3MB\n",
            "Optimizer stripped from runs/detect/train/weights/best.pt, 6.3MB\n",
            "\n",
            "Validating runs/detect/train/weights/best.pt...\n",
            "Ultralytics YOLOv8.0.20 🚀 Python-3.10.12 torch-2.1.0+cu121 CUDA:0 (Tesla T4, 15102MiB)\n",
            "Model summary (fused): 168 layers, 3006038 parameters, 0 gradients, 8.1 GFLOPs\n",
            "                 Class     Images  Instances      Box(P          R      mAP50  mAP50-95): 100% 6/6 [00:08<00:00,  1.43s/it]\n",
            "                   all        178        723      0.582      0.714      0.686      0.442\n",
            "apple_[roboflow-100/apples-fvpl5]        178        522      0.727      0.713      0.739      0.416\n",
            "damaged_apple_[roboflow-100/apples-fvpl5]        178        201      0.437      0.716      0.633      0.467\n",
            "Speed: 0.4ms pre-process, 4.0ms inference, 0.0ms loss, 4.9ms post-process per image\n",
            "Results saved to \u001b[1mruns/detect/train\u001b[0m\n",
            "2023-12-20 02:39:08.298183: E external/local_xla/xla/stream_executor/cuda/cuda_dnn.cc:9261] Unable to register cuDNN factory: Attempting to register factory for plugin cuDNN when one has already been registered\n",
            "2023-12-20 02:39:08.298237: E external/local_xla/xla/stream_executor/cuda/cuda_fft.cc:607] Unable to register cuFFT factory: Attempting to register factory for plugin cuFFT when one has already been registered\n",
            "2023-12-20 02:39:08.299675: E external/local_xla/xla/stream_executor/cuda/cuda_blas.cc:1515] Unable to register cuBLAS factory: Attempting to register factory for plugin cuBLAS when one has already been registered\n",
            "2023-12-20 02:39:09.535412: W tensorflow/compiler/tf2tensorrt/utils/py_utils.cc:38] TF-TRT Warning: Could not find TensorRT\n",
            "Ultralytics YOLOv8.0.20 🚀 Python-3.10.12 torch-2.1.0+cu121 CUDA:0 (Tesla T4, 15102MiB)\n",
            "Model summary (fused): 168 layers, 3006038 parameters, 0 gradients, 8.1 GFLOPs\n",
            "\u001b[34m\u001b[1mval: \u001b[0mScanning /content/apples-1/valid/labels.cache... 178 images, 0 backgrounds, 0 corrupt: 100% 178/178 [00:00<?, ?it/s]\n",
            "                 Class     Images  Instances      Box(P          R      mAP50  mAP50-95): 100% 12/12 [00:08<00:00,  1.35it/s]\n",
            "                   all        178        723      0.596      0.709      0.686      0.441\n",
            "apple_[roboflow-100/apples-fvpl5]        178        522      0.741      0.707      0.739      0.416\n",
            "damaged_apple_[roboflow-100/apples-fvpl5]        178        201      0.452      0.711      0.633      0.467\n",
            "Speed: 4.2ms pre-process, 8.0ms inference, 0.0ms loss, 8.8ms post-process per image\n",
            "File dipindahkan ke: /content/drive/MyDrive/YoloEverythings/yolov8x.pt\n",
            "Direktori /content/apples-1 berhasil dihapus.\n",
            "Direktori runs berhasil dihapus.\n",
            "berhasil\n",
            "File berhasil disalin dari /content/drive/MyDrive/YoloEverythings/yolov8x.pt ke /content/yolov8x.pt\n"
          ]
        },
        {
          "output_type": "stream",
          "name": "stderr",
          "text": [
            "\n",
            "A value is trying to be set on a copy of a slice from a DataFrame\n",
            "\n",
            "See the caveats in the documentation: https://pandas.pydata.org/pandas-docs/stable/user_guide/indexing.html#returning-a-view-versus-a-copy\n"
          ]
        },
        {
          "output_type": "stream",
          "name": "stdout",
          "text": [
            "loading Roboflow workspace...\n",
            "loading Roboflow project...\n",
            "Dependency ultralytics==8.0.196 is required but found version=8.0.20, to fix: `pip install ultralytics==8.0.196`\n"
          ]
        },
        {
          "output_type": "stream",
          "name": "stderr",
          "text": [
            "Downloading Dataset Version Zip in insects-1 to yolov8:: 100%|██████████| 36984/36984 [00:00<00:00, 57898.51it/s]"
          ]
        },
        {
          "output_type": "stream",
          "name": "stdout",
          "text": [
            "\n"
          ]
        },
        {
          "output_type": "stream",
          "name": "stderr",
          "text": [
            "\n",
            "Extracting Dataset Version Zip to insects-1 in yolov8:: 100%|██████████| 2002/2002 [00:00<00:00, 8067.11it/s]\n"
          ]
        },
        {
          "output_type": "stream",
          "name": "stdout",
          "text": [
            "List berhasil diekspor ke file /content/drive/MyDrive/YoloEverythings/label/roboflow-100_insects-mytwu_label.txt.\n",
            "Modified data saved to modified_data.yaml\n",
            "yolo task=detect mode=train model=<ultralytics.yolo.engine.model.YOLO object at 0x7ef8887dbdf0> data=/content/insects-1/modified_data.yaml epochs=10 imgsz=800 plots=True\n",
            "Ultralytics YOLOv8.0.20 🚀 Python-3.10.12 torch-2.1.0+cu121 CUDA:0 (Tesla T4, 15102MiB)\n",
            "\u001b[34m\u001b[1myolo/engine/trainer: \u001b[0mtask=detect, mode=train, model=yolov8n.yaml, data=/content/insects-1/modified_data.yaml, epochs=10, patience=50, batch=16, imgsz=800, save=True, cache=False, device=, workers=8, project=None, name=None, exist_ok=False, pretrained=False, optimizer=SGD, verbose=True, seed=0, deterministic=True, single_cls=False, image_weights=False, rect=False, cos_lr=False, close_mosaic=10, resume=False, overlap_mask=True, mask_ratio=4, dropout=False, val=True, save_json=False, save_hybrid=False, conf=0.001, iou=0.7, max_det=300, half=False, dnn=False, plots=True, source=ultralytics/assets/, show=False, save_txt=False, save_conf=False, save_crop=False, hide_labels=False, hide_conf=False, vid_stride=1, line_thickness=3, visualize=False, augment=False, agnostic_nms=False, classes=None, retina_masks=False, boxes=True, format=torchscript, keras=False, optimize=False, int8=False, dynamic=False, simplify=False, opset=17, workspace=4, nms=False, lr0=0.01, lrf=0.01, momentum=0.937, weight_decay=0.001, warmup_epochs=3.0, warmup_momentum=0.8, warmup_bias_lr=0.1, box=7.5, cls=0.5, dfl=1.5, fl_gamma=0.0, label_smoothing=0.0, nbs=64, hsv_h=0.015, hsv_s=0.7, hsv_v=0.4, degrees=0.0, translate=0.1, scale=0.5, shear=0.0, perspective=0.0, flipud=0.0, fliplr=0.5, mosaic=1.0, mixup=0.0, copy_paste=0.0, cfg=None, v5loader=False, save_dir=runs/detect/train\n",
            "2023-12-20 02:39:36.940167: E external/local_xla/xla/stream_executor/cuda/cuda_dnn.cc:9261] Unable to register cuDNN factory: Attempting to register factory for plugin cuDNN when one has already been registered\n",
            "2023-12-20 02:39:36.940225: E external/local_xla/xla/stream_executor/cuda/cuda_fft.cc:607] Unable to register cuFFT factory: Attempting to register factory for plugin cuFFT when one has already been registered\n",
            "2023-12-20 02:39:36.941988: E external/local_xla/xla/stream_executor/cuda/cuda_blas.cc:1515] Unable to register cuBLAS factory: Attempting to register factory for plugin cuBLAS when one has already been registered\n",
            "2023-12-20 02:39:38.222627: W tensorflow/compiler/tf2tensorrt/utils/py_utils.cc:38] TF-TRT Warning: Could not find TensorRT\n",
            "Overriding model.yaml nc=2 with nc=10\n",
            "\n",
            "                   from  n    params  module                                       arguments                     \n",
            "  0                  -1  1       464  ultralytics.nn.modules.Conv                  [3, 16, 3, 2]                 \n",
            "  1                  -1  1      4672  ultralytics.nn.modules.Conv                  [16, 32, 3, 2]                \n",
            "  2                  -1  1      7360  ultralytics.nn.modules.C2f                   [32, 32, 1, True]             \n",
            "  3                  -1  1     18560  ultralytics.nn.modules.Conv                  [32, 64, 3, 2]                \n",
            "  4                  -1  2     49664  ultralytics.nn.modules.C2f                   [64, 64, 2, True]             \n",
            "  5                  -1  1     73984  ultralytics.nn.modules.Conv                  [64, 128, 3, 2]               \n",
            "  6                  -1  2    197632  ultralytics.nn.modules.C2f                   [128, 128, 2, True]           \n",
            "  7                  -1  1    295424  ultralytics.nn.modules.Conv                  [128, 256, 3, 2]              \n",
            "  8                  -1  1    460288  ultralytics.nn.modules.C2f                   [256, 256, 1, True]           \n",
            "  9                  -1  1    164608  ultralytics.nn.modules.SPPF                  [256, 256, 5]                 \n",
            " 10                  -1  1         0  torch.nn.modules.upsampling.Upsample         [None, 2, 'nearest']          \n",
            " 11             [-1, 6]  1         0  ultralytics.nn.modules.Concat                [1]                           \n",
            " 12                  -1  1    148224  ultralytics.nn.modules.C2f                   [384, 128, 1]                 \n",
            " 13                  -1  1         0  torch.nn.modules.upsampling.Upsample         [None, 2, 'nearest']          \n",
            " 14             [-1, 4]  1         0  ultralytics.nn.modules.Concat                [1]                           \n",
            " 15                  -1  1     37248  ultralytics.nn.modules.C2f                   [192, 64, 1]                  \n",
            " 16                  -1  1     36992  ultralytics.nn.modules.Conv                  [64, 64, 3, 2]                \n",
            " 17            [-1, 12]  1         0  ultralytics.nn.modules.Concat                [1]                           \n",
            " 18                  -1  1    123648  ultralytics.nn.modules.C2f                   [192, 128, 1]                 \n",
            " 19                  -1  1    147712  ultralytics.nn.modules.Conv                  [128, 128, 3, 2]              \n",
            " 20             [-1, 9]  1         0  ultralytics.nn.modules.Concat                [1]                           \n",
            " 21                  -1  1    493056  ultralytics.nn.modules.C2f                   [384, 256, 1]                 \n",
            " 22        [15, 18, 21]  1    753262  ultralytics.nn.modules.Detect                [10, [64, 128, 256]]          \n",
            "Model summary: 225 layers, 3012798 parameters, 3012782 gradients, 8.2 GFLOPs\n",
            "\n",
            "Transferred 349/355 items from pretrained weights\n",
            "\u001b[34m\u001b[1moptimizer:\u001b[0m SGD(lr=0.01) with parameter groups 57 weight(decay=0.0), 64 weight(decay=0.001), 63 bias\n",
            "\u001b[34m\u001b[1mtrain: \u001b[0mScanning /content/insects-1/train/labels... 696 images, 0 backgrounds, 0 corrupt: 100% 696/696 [00:00<00:00, 1927.27it/s]\n",
            "\u001b[34m\u001b[1mtrain: \u001b[0mNew cache created: /content/insects-1/train/labels.cache\n",
            "\u001b[34m\u001b[1malbumentations: \u001b[0mBlur(p=0.01, blur_limit=(3, 7)), MedianBlur(p=0.01, blur_limit=(3, 7)), ToGray(p=0.01), CLAHE(p=0.01, clip_limit=(1, 4.0), tile_grid_size=(8, 8))\n",
            "\u001b[34m\u001b[1mval: \u001b[0mScanning /content/insects-1/valid/labels... 199 images, 0 backgrounds, 0 corrupt: 100% 199/199 [00:00<00:00, 1832.37it/s]\n",
            "\u001b[34m\u001b[1mval: \u001b[0mNew cache created: /content/insects-1/valid/labels.cache\n",
            "Image sizes 800 train, 800 val\n",
            "Using 2 dataloader workers\n",
            "Logging results to \u001b[1mruns/detect/train\u001b[0m\n",
            "Starting training for 10 epochs...\n",
            "Closing dataloader mosaic\n",
            "\u001b[34m\u001b[1malbumentations: \u001b[0mBlur(p=0.01, blur_limit=(3, 7)), MedianBlur(p=0.01, blur_limit=(3, 7)), ToGray(p=0.01), CLAHE(p=0.01, clip_limit=(1, 4.0), tile_grid_size=(8, 8))\n",
            "\n",
            "      Epoch    GPU_mem   box_loss   cls_loss   dfl_loss  Instances       Size\n",
            "       1/10      3.57G       1.76      4.424      2.641          8        800: 100% 44/44 [00:24<00:00,  1.76it/s]\n",
            "                 Class     Images  Instances      Box(P          R      mAP50  mAP50-95): 100% 7/7 [00:04<00:00,  1.65it/s]\n",
            "                   all        199        204      0.437      0.179      0.225      0.111\n",
            "army worm_[roboflow-100/insects-mytwu]        199         16      0.541      0.369       0.32      0.108\n",
            "legume blister beetle_[roboflow-100/insects-mytwu]        199         26          0          0     0.0698     0.0281\n",
            "red spider_[roboflow-100/insects-mytwu]        199         19          1          0      0.197     0.0673\n",
            "rice gall midge_[roboflow-100/insects-mytwu]        199         22          0          0     0.0797     0.0287\n",
            "rice leaf roller_[roboflow-100/insects-mytwu]        199         23          1          0      0.269      0.138\n",
            "rice leafhopper_[roboflow-100/insects-mytwu]        199         23      0.454      0.174      0.218      0.113\n",
            "rice water weevil_[roboflow-100/insects-mytwu]        199         18      0.323      0.222      0.269      0.137\n",
            "wheat phloeothrips_[roboflow-100/insects-mytwu]        199         16     0.0928      0.188     0.0811     0.0415\n",
            "white backed plant hopper_[roboflow-100/insects-mytwu]        199         27       0.17      0.556      0.222       0.13\n",
            "yellow rice borer_[roboflow-100/insects-mytwu]        199         14      0.793      0.286      0.522      0.313\n",
            "\n",
            "      Epoch    GPU_mem   box_loss   cls_loss   dfl_loss  Instances       Size\n",
            "       2/10      4.19G      1.505      2.569      2.228          8        800: 100% 44/44 [00:21<00:00,  2.08it/s]\n",
            "                 Class     Images  Instances      Box(P          R      mAP50  mAP50-95): 100% 7/7 [00:03<00:00,  2.03it/s]\n",
            "                   all        199        204       0.38      0.418      0.362      0.198\n",
            "army worm_[roboflow-100/insects-mytwu]        199         16      0.528      0.282      0.298      0.147\n",
            "legume blister beetle_[roboflow-100/insects-mytwu]        199         26      0.447      0.231      0.239        0.1\n",
            "red spider_[roboflow-100/insects-mytwu]        199         19      0.232      0.526      0.265      0.103\n",
            "rice gall midge_[roboflow-100/insects-mytwu]        199         22      0.135      0.545      0.158     0.0541\n",
            "rice leaf roller_[roboflow-100/insects-mytwu]        199         23      0.461      0.435      0.534      0.341\n",
            "rice leafhopper_[roboflow-100/insects-mytwu]        199         23          0          0      0.217      0.129\n",
            "rice water weevil_[roboflow-100/insects-mytwu]        199         18      0.505      0.341      0.446       0.28\n",
            "wheat phloeothrips_[roboflow-100/insects-mytwu]        199         16      0.139      0.688      0.172     0.0946\n",
            "white backed plant hopper_[roboflow-100/insects-mytwu]        199         27      0.726      0.491      0.606      0.332\n",
            "yellow rice borer_[roboflow-100/insects-mytwu]        199         14       0.63      0.643      0.685      0.402\n",
            "\n",
            "      Epoch    GPU_mem   box_loss   cls_loss   dfl_loss  Instances       Size\n",
            "       3/10      4.19G      1.401      2.048      2.112          8        800: 100% 44/44 [00:20<00:00,  2.16it/s]\n",
            "                 Class     Images  Instances      Box(P          R      mAP50  mAP50-95): 100% 7/7 [00:05<00:00,  1.38it/s]\n",
            "                   all        199        204      0.522      0.418      0.476      0.264\n",
            "army worm_[roboflow-100/insects-mytwu]        199         16      0.292      0.312      0.279      0.165\n",
            "legume blister beetle_[roboflow-100/insects-mytwu]        199         26      0.925     0.0385      0.363      0.123\n",
            "red spider_[roboflow-100/insects-mytwu]        199         19      0.264      0.526      0.488      0.254\n",
            "rice gall midge_[roboflow-100/insects-mytwu]        199         22      0.169      0.545       0.35      0.125\n",
            "rice leaf roller_[roboflow-100/insects-mytwu]        199         23       0.48      0.696      0.701      0.437\n",
            "rice leafhopper_[roboflow-100/insects-mytwu]        199         23      0.536      0.348      0.421      0.189\n",
            "rice water weevil_[roboflow-100/insects-mytwu]        199         18      0.529      0.278      0.389      0.237\n",
            "wheat phloeothrips_[roboflow-100/insects-mytwu]        199         16      0.387        0.5      0.533      0.275\n",
            "white backed plant hopper_[roboflow-100/insects-mytwu]        199         27      0.745      0.296      0.508      0.324\n",
            "yellow rice borer_[roboflow-100/insects-mytwu]        199         14      0.894      0.643      0.727       0.51\n",
            "\n",
            "      Epoch    GPU_mem   box_loss   cls_loss   dfl_loss  Instances       Size\n",
            "       4/10      4.19G      1.355      1.835      2.079          8        800: 100% 44/44 [00:20<00:00,  2.18it/s]\n",
            "                 Class     Images  Instances      Box(P          R      mAP50  mAP50-95): 100% 7/7 [00:03<00:00,  2.02it/s]\n",
            "                   all        199        204      0.386      0.582      0.496      0.285\n",
            "army worm_[roboflow-100/insects-mytwu]        199         16      0.355      0.241      0.272       0.11\n",
            "legume blister beetle_[roboflow-100/insects-mytwu]        199         26      0.321      0.346      0.286      0.113\n",
            "red spider_[roboflow-100/insects-mytwu]        199         19      0.515      0.632      0.647      0.295\n",
            "rice gall midge_[roboflow-100/insects-mytwu]        199         22       0.19      0.682      0.371      0.121\n",
            "rice leaf roller_[roboflow-100/insects-mytwu]        199         23      0.472      0.739      0.758      0.491\n",
            "rice leafhopper_[roboflow-100/insects-mytwu]        199         23      0.316      0.463      0.337      0.175\n",
            "rice water weevil_[roboflow-100/insects-mytwu]        199         18      0.278      0.778       0.53      0.355\n",
            "wheat phloeothrips_[roboflow-100/insects-mytwu]        199         16      0.449      0.562      0.538      0.381\n",
            "white backed plant hopper_[roboflow-100/insects-mytwu]        199         27      0.594      0.593      0.532      0.335\n",
            "yellow rice borer_[roboflow-100/insects-mytwu]        199         14      0.372      0.786      0.687       0.47\n",
            "\n",
            "      Epoch    GPU_mem   box_loss   cls_loss   dfl_loss  Instances       Size\n",
            "       5/10      4.19G      1.342       1.68      2.041          8        800: 100% 44/44 [00:21<00:00,  2.03it/s]\n",
            "                 Class     Images  Instances      Box(P          R      mAP50  mAP50-95): 100% 7/7 [00:04<00:00,  1.73it/s]\n",
            "                   all        199        204      0.557      0.458      0.522      0.302\n",
            "army worm_[roboflow-100/insects-mytwu]        199         16      0.562      0.164      0.358      0.182\n",
            "legume blister beetle_[roboflow-100/insects-mytwu]        199         26      0.505      0.269      0.344      0.173\n",
            "red spider_[roboflow-100/insects-mytwu]        199         19       0.46      0.789      0.716      0.358\n",
            "rice gall midge_[roboflow-100/insects-mytwu]        199         22      0.341      0.376      0.292      0.128\n",
            "rice leaf roller_[roboflow-100/insects-mytwu]        199         23      0.664      0.696       0.73      0.518\n",
            "rice leafhopper_[roboflow-100/insects-mytwu]        199         23      0.818      0.197      0.435      0.244\n",
            "rice water weevil_[roboflow-100/insects-mytwu]        199         18      0.598      0.496       0.66      0.369\n",
            "wheat phloeothrips_[roboflow-100/insects-mytwu]        199         16      0.369        0.5       0.43      0.269\n",
            "white backed plant hopper_[roboflow-100/insects-mytwu]        199         27      0.578      0.519      0.595      0.383\n",
            "yellow rice borer_[roboflow-100/insects-mytwu]        199         14      0.673      0.571      0.665      0.401\n",
            "\n",
            "      Epoch    GPU_mem   box_loss   cls_loss   dfl_loss  Instances       Size\n",
            "       6/10      4.19G      1.266      1.578      1.953          8        800: 100% 44/44 [00:20<00:00,  2.14it/s]\n",
            "                 Class     Images  Instances      Box(P          R      mAP50  mAP50-95): 100% 7/7 [00:03<00:00,  1.94it/s]\n",
            "                   all        199        204      0.501       0.54      0.575       0.33\n",
            "army worm_[roboflow-100/insects-mytwu]        199         16      0.579      0.625      0.525        0.3\n",
            "legume blister beetle_[roboflow-100/insects-mytwu]        199         26      0.371      0.159       0.26      0.133\n",
            "red spider_[roboflow-100/insects-mytwu]        199         19      0.513      0.684      0.642      0.293\n",
            "rice gall midge_[roboflow-100/insects-mytwu]        199         22      0.272      0.409      0.335      0.123\n",
            "rice leaf roller_[roboflow-100/insects-mytwu]        199         23      0.533      0.696       0.76      0.536\n",
            "rice leafhopper_[roboflow-100/insects-mytwu]        199         23       0.52      0.391      0.452      0.244\n",
            "rice water weevil_[roboflow-100/insects-mytwu]        199         18      0.458      0.667       0.66      0.379\n",
            "wheat phloeothrips_[roboflow-100/insects-mytwu]        199         16      0.305      0.688      0.641      0.358\n",
            "white backed plant hopper_[roboflow-100/insects-mytwu]        199         27      0.766      0.364      0.689      0.443\n",
            "yellow rice borer_[roboflow-100/insects-mytwu]        199         14      0.695      0.714      0.788      0.491\n",
            "\n",
            "      Epoch    GPU_mem   box_loss   cls_loss   dfl_loss  Instances       Size\n",
            "       7/10      4.19G      1.252       1.45      1.931          8        800: 100% 44/44 [00:21<00:00,  2.01it/s]\n",
            "                 Class     Images  Instances      Box(P          R      mAP50  mAP50-95): 100% 7/7 [00:03<00:00,  1.97it/s]\n",
            "                   all        199        204      0.587      0.565      0.601      0.356\n",
            "army worm_[roboflow-100/insects-mytwu]        199         16      0.567      0.411      0.469      0.268\n",
            "legume blister beetle_[roboflow-100/insects-mytwu]        199         26       0.55      0.235      0.398      0.196\n",
            "red spider_[roboflow-100/insects-mytwu]        199         19      0.555      0.579      0.656      0.361\n",
            "rice gall midge_[roboflow-100/insects-mytwu]        199         22      0.394        0.5      0.456      0.223\n",
            "rice leaf roller_[roboflow-100/insects-mytwu]        199         23       0.99      0.652       0.83      0.551\n",
            "rice leafhopper_[roboflow-100/insects-mytwu]        199         23      0.547      0.435      0.461      0.252\n",
            "rice water weevil_[roboflow-100/insects-mytwu]        199         18      0.598      0.743      0.674       0.39\n",
            "wheat phloeothrips_[roboflow-100/insects-mytwu]        199         16      0.436      0.625      0.604      0.358\n",
            "white backed plant hopper_[roboflow-100/insects-mytwu]        199         27      0.546      0.757      0.656      0.428\n",
            "yellow rice borer_[roboflow-100/insects-mytwu]        199         14      0.685      0.714      0.804      0.535\n",
            "\n",
            "      Epoch    GPU_mem   box_loss   cls_loss   dfl_loss  Instances       Size\n",
            "       8/10      4.19G      1.194      1.385      1.916          8        800: 100% 44/44 [00:20<00:00,  2.17it/s]\n",
            "                 Class     Images  Instances      Box(P          R      mAP50  mAP50-95): 100% 7/7 [00:04<00:00,  1.43it/s]\n",
            "                   all        199        204      0.681      0.658      0.681      0.398\n",
            "army worm_[roboflow-100/insects-mytwu]        199         16      0.646      0.625      0.527        0.3\n",
            "legume blister beetle_[roboflow-100/insects-mytwu]        199         26      0.874      0.269      0.551      0.261\n",
            "red spider_[roboflow-100/insects-mytwu]        199         19       0.75       0.79      0.703      0.356\n",
            "rice gall midge_[roboflow-100/insects-mytwu]        199         22      0.351      0.455      0.438      0.211\n",
            "rice leaf roller_[roboflow-100/insects-mytwu]        199         23      0.746      0.826      0.832      0.549\n",
            "rice leafhopper_[roboflow-100/insects-mytwu]        199         23      0.903      0.408      0.694      0.398\n",
            "rice water weevil_[roboflow-100/insects-mytwu]        199         18      0.585      0.889      0.825      0.509\n",
            "wheat phloeothrips_[roboflow-100/insects-mytwu]        199         16      0.646      0.685       0.67      0.359\n",
            "white backed plant hopper_[roboflow-100/insects-mytwu]        199         27      0.753      0.778      0.716      0.485\n",
            "yellow rice borer_[roboflow-100/insects-mytwu]        199         14      0.556      0.857      0.853      0.551\n",
            "\n",
            "      Epoch    GPU_mem   box_loss   cls_loss   dfl_loss  Instances       Size\n",
            "       9/10      4.19G      1.193      1.314      1.871          8        800: 100% 44/44 [00:20<00:00,  2.15it/s]\n",
            "                 Class     Images  Instances      Box(P          R      mAP50  mAP50-95): 100% 7/7 [00:03<00:00,  2.04it/s]\n",
            "                   all        199        204      0.638      0.649      0.668      0.397\n",
            "army worm_[roboflow-100/insects-mytwu]        199         16      0.775      0.432      0.607      0.404\n",
            "legume blister beetle_[roboflow-100/insects-mytwu]        199         26      0.503      0.389      0.436      0.205\n",
            "red spider_[roboflow-100/insects-mytwu]        199         19       0.66      0.789      0.754      0.401\n",
            "rice gall midge_[roboflow-100/insects-mytwu]        199         22      0.347      0.591      0.514      0.231\n",
            "rice leaf roller_[roboflow-100/insects-mytwu]        199         23      0.943      0.724      0.838      0.545\n",
            "rice leafhopper_[roboflow-100/insects-mytwu]        199         23      0.737      0.608      0.638      0.349\n",
            "rice water weevil_[roboflow-100/insects-mytwu]        199         18      0.655      0.844       0.79      0.488\n",
            "wheat phloeothrips_[roboflow-100/insects-mytwu]        199         16      0.266      0.704      0.595      0.361\n",
            "white backed plant hopper_[roboflow-100/insects-mytwu]        199         27      0.729      0.698      0.678      0.405\n",
            "yellow rice borer_[roboflow-100/insects-mytwu]        199         14      0.763      0.714      0.831      0.579\n",
            "\n",
            "      Epoch    GPU_mem   box_loss   cls_loss   dfl_loss  Instances       Size\n",
            "      10/10      4.19G       1.17      1.243      1.906          8        800: 100% 44/44 [00:21<00:00,  2.09it/s]\n",
            "                 Class     Images  Instances      Box(P          R      mAP50  mAP50-95): 100% 7/7 [00:08<00:00,  1.21s/it]\n",
            "                   all        199        204      0.749       0.66      0.719      0.426\n",
            "army worm_[roboflow-100/insects-mytwu]        199         16      0.637        0.5       0.57      0.374\n",
            "legume blister beetle_[roboflow-100/insects-mytwu]        199         26      0.817      0.385      0.522      0.261\n",
            "red spider_[roboflow-100/insects-mytwu]        199         19      0.737      0.736      0.718      0.345\n",
            "rice gall midge_[roboflow-100/insects-mytwu]        199         22      0.599      0.591      0.652      0.269\n",
            "rice leaf roller_[roboflow-100/insects-mytwu]        199         23      0.897      0.739      0.839      0.531\n",
            "rice leafhopper_[roboflow-100/insects-mytwu]        199         23      0.737      0.609      0.647        0.4\n",
            "rice water weevil_[roboflow-100/insects-mytwu]        199         18      0.935      0.804      0.922      0.565\n",
            "wheat phloeothrips_[roboflow-100/insects-mytwu]        199         16      0.686      0.625       0.69      0.405\n",
            "white backed plant hopper_[roboflow-100/insects-mytwu]        199         27      0.735      0.741      0.739       0.47\n",
            "yellow rice borer_[roboflow-100/insects-mytwu]        199         14       0.71      0.875      0.893      0.645\n",
            "\n",
            "10 epochs completed in 0.074 hours.\n",
            "Optimizer stripped from runs/detect/train/weights/last.pt, 6.3MB\n",
            "Optimizer stripped from runs/detect/train/weights/best.pt, 6.3MB\n",
            "\n",
            "Validating runs/detect/train/weights/best.pt...\n",
            "Ultralytics YOLOv8.0.20 🚀 Python-3.10.12 torch-2.1.0+cu121 CUDA:0 (Tesla T4, 15102MiB)\n",
            "Model summary (fused): 168 layers, 3007598 parameters, 0 gradients, 8.1 GFLOPs\n",
            "                 Class     Images  Instances      Box(P          R      mAP50  mAP50-95): 100% 7/7 [00:09<00:00,  1.35s/it]\n",
            "                   all        199        204      0.749       0.66       0.72      0.426\n",
            "army worm_[roboflow-100/insects-mytwu]        199         16      0.638        0.5       0.57      0.374\n",
            "legume blister beetle_[roboflow-100/insects-mytwu]        199         26      0.817      0.385      0.521      0.261\n",
            "red spider_[roboflow-100/insects-mytwu]        199         19      0.736      0.733      0.717      0.344\n",
            "rice gall midge_[roboflow-100/insects-mytwu]        199         22        0.6      0.591      0.652      0.268\n",
            "rice leaf roller_[roboflow-100/insects-mytwu]        199         23      0.896      0.739      0.839      0.531\n",
            "rice leafhopper_[roboflow-100/insects-mytwu]        199         23      0.738      0.611      0.647      0.398\n",
            "rice water weevil_[roboflow-100/insects-mytwu]        199         18      0.935      0.802      0.922      0.565\n",
            "wheat phloeothrips_[roboflow-100/insects-mytwu]        199         16      0.687      0.625      0.696      0.406\n",
            "white backed plant hopper_[roboflow-100/insects-mytwu]        199         27      0.736      0.741      0.739       0.47\n",
            "yellow rice borer_[roboflow-100/insects-mytwu]        199         14      0.709      0.873      0.893       0.64\n",
            "Speed: 0.5ms pre-process, 4.6ms inference, 0.0ms loss, 6.9ms post-process per image\n",
            "Results saved to \u001b[1mruns/detect/train\u001b[0m\n",
            "2023-12-20 02:44:33.237181: E external/local_xla/xla/stream_executor/cuda/cuda_dnn.cc:9261] Unable to register cuDNN factory: Attempting to register factory for plugin cuDNN when one has already been registered\n",
            "2023-12-20 02:44:33.237230: E external/local_xla/xla/stream_executor/cuda/cuda_fft.cc:607] Unable to register cuFFT factory: Attempting to register factory for plugin cuFFT when one has already been registered\n",
            "2023-12-20 02:44:33.238518: E external/local_xla/xla/stream_executor/cuda/cuda_blas.cc:1515] Unable to register cuBLAS factory: Attempting to register factory for plugin cuBLAS when one has already been registered\n",
            "2023-12-20 02:44:34.239450: W tensorflow/compiler/tf2tensorrt/utils/py_utils.cc:38] TF-TRT Warning: Could not find TensorRT\n",
            "Ultralytics YOLOv8.0.20 🚀 Python-3.10.12 torch-2.1.0+cu121 CUDA:0 (Tesla T4, 15102MiB)\n",
            "Model summary (fused): 168 layers, 3007598 parameters, 0 gradients, 8.1 GFLOPs\n",
            "\u001b[34m\u001b[1mval: \u001b[0mScanning /content/insects-1/valid/labels.cache... 199 images, 0 backgrounds, 0 corrupt: 100% 199/199 [00:00<?, ?it/s]\n",
            "                 Class     Images  Instances      Box(P          R      mAP50  mAP50-95): 100% 13/13 [00:07<00:00,  1.79it/s]\n",
            "                   all        199        204      0.749       0.66      0.719      0.426\n",
            "army worm_[roboflow-100/insects-mytwu]        199         16      0.638        0.5      0.568      0.374\n",
            "legume blister beetle_[roboflow-100/insects-mytwu]        199         26      0.817      0.385      0.521      0.261\n",
            "red spider_[roboflow-100/insects-mytwu]        199         19      0.736      0.734      0.719      0.345\n",
            "rice gall midge_[roboflow-100/insects-mytwu]        199         22        0.6      0.591      0.651      0.269\n",
            "rice leaf roller_[roboflow-100/insects-mytwu]        199         23      0.896      0.739      0.839      0.531\n",
            "rice leafhopper_[roboflow-100/insects-mytwu]        199         23      0.737      0.609      0.647      0.398\n",
            "rice water weevil_[roboflow-100/insects-mytwu]        199         18      0.935      0.802      0.922      0.565\n",
            "wheat phloeothrips_[roboflow-100/insects-mytwu]        199         16      0.687      0.625       0.69      0.404\n",
            "white backed plant hopper_[roboflow-100/insects-mytwu]        199         27      0.735      0.741      0.738       0.47\n",
            "yellow rice borer_[roboflow-100/insects-mytwu]        199         14       0.71      0.874      0.893       0.64\n",
            "Speed: 3.8ms pre-process, 6.8ms inference, 0.0ms loss, 6.5ms post-process per image\n",
            "File dipindahkan ke: /content/drive/MyDrive/YoloEverythings/yolov8x.pt\n",
            "Direktori /content/insects-1 berhasil dihapus.\n",
            "Direktori runs berhasil dihapus.\n",
            "berhasil\n",
            "File berhasil disalin dari /content/drive/MyDrive/YoloEverythings/yolov8x.pt ke /content/yolov8x.pt\n"
          ]
        },
        {
          "output_type": "stream",
          "name": "stderr",
          "text": [
            "\n",
            "A value is trying to be set on a copy of a slice from a DataFrame\n",
            "\n",
            "See the caveats in the documentation: https://pandas.pydata.org/pandas-docs/stable/user_guide/indexing.html#returning-a-view-versus-a-copy\n"
          ]
        },
        {
          "output_type": "stream",
          "name": "stdout",
          "text": [
            "loading Roboflow workspace...\n",
            "loading Roboflow project...\n",
            "Dependency ultralytics==8.0.196 is required but found version=8.0.20, to fix: `pip install ultralytics==8.0.196`\n",
            "gagal download\n",
            "File berhasil disalin dari /content/drive/MyDrive/YoloEverythings/yolov8x.pt ke /content/yolov8x.pt\n"
          ]
        },
        {
          "output_type": "stream",
          "name": "stderr",
          "text": [
            "\n",
            "A value is trying to be set on a copy of a slice from a DataFrame\n",
            "\n",
            "See the caveats in the documentation: https://pandas.pydata.org/pandas-docs/stable/user_guide/indexing.html#returning-a-view-versus-a-copy\n"
          ]
        },
        {
          "output_type": "stream",
          "name": "stdout",
          "text": [
            "loading Roboflow workspace...\n",
            "loading Roboflow project...\n",
            "Dependency ultralytics==8.0.196 is required but found version=8.0.20, to fix: `pip install ultralytics==8.0.196`\n"
          ]
        },
        {
          "output_type": "stream",
          "name": "stderr",
          "text": [
            "Downloading Dataset Version Zip in bees-1 to yolov8:: 100%|██████████| 773854/773854 [00:16<00:00, 47484.13it/s]"
          ]
        },
        {
          "output_type": "stream",
          "name": "stdout",
          "text": [
            "\n"
          ]
        },
        {
          "output_type": "stream",
          "name": "stderr",
          "text": [
            "\n",
            "Extracting Dataset Version Zip to bees-1 in yolov8:: 100%|██████████| 16172/16172 [00:03<00:00, 4181.61it/s]\n"
          ]
        },
        {
          "output_type": "stream",
          "name": "stdout",
          "text": [
            "List berhasil diekspor ke file /content/drive/MyDrive/YoloEverythings/label/roboflow-100_bees-jt5in_label.txt.\n",
            "Modified data saved to modified_data.yaml\n",
            "yolo task=detect mode=train model=<ultralytics.yolo.engine.model.YOLO object at 0x7ef8887d8610> data=/content/bees-1/modified_data.yaml epochs=10 imgsz=800 plots=True\n",
            "Ultralytics YOLOv8.0.20 🚀 Python-3.10.12 torch-2.1.0+cu121 CUDA:0 (Tesla T4, 15102MiB)\n",
            "\u001b[34m\u001b[1myolo/engine/trainer: \u001b[0mtask=detect, mode=train, model=yolov8n.yaml, data=/content/bees-1/modified_data.yaml, epochs=10, patience=50, batch=16, imgsz=800, save=True, cache=False, device=, workers=8, project=None, name=None, exist_ok=False, pretrained=False, optimizer=SGD, verbose=True, seed=0, deterministic=True, single_cls=False, image_weights=False, rect=False, cos_lr=False, close_mosaic=10, resume=False, overlap_mask=True, mask_ratio=4, dropout=False, val=True, save_json=False, save_hybrid=False, conf=0.001, iou=0.7, max_det=300, half=False, dnn=False, plots=True, source=ultralytics/assets/, show=False, save_txt=False, save_conf=False, save_crop=False, hide_labels=False, hide_conf=False, vid_stride=1, line_thickness=3, visualize=False, augment=False, agnostic_nms=False, classes=None, retina_masks=False, boxes=True, format=torchscript, keras=False, optimize=False, int8=False, dynamic=False, simplify=False, opset=17, workspace=4, nms=False, lr0=0.01, lrf=0.01, momentum=0.937, weight_decay=0.001, warmup_epochs=3.0, warmup_momentum=0.8, warmup_bias_lr=0.1, box=7.5, cls=0.5, dfl=1.5, fl_gamma=0.0, label_smoothing=0.0, nbs=64, hsv_h=0.015, hsv_s=0.7, hsv_v=0.4, degrees=0.0, translate=0.1, scale=0.5, shear=0.0, perspective=0.0, flipud=0.0, fliplr=0.5, mosaic=1.0, mixup=0.0, copy_paste=0.0, cfg=None, v5loader=False, save_dir=runs/detect/train\n",
            "2023-12-20 02:45:24.953185: E external/local_xla/xla/stream_executor/cuda/cuda_dnn.cc:9261] Unable to register cuDNN factory: Attempting to register factory for plugin cuDNN when one has already been registered\n",
            "2023-12-20 02:45:24.953243: E external/local_xla/xla/stream_executor/cuda/cuda_fft.cc:607] Unable to register cuFFT factory: Attempting to register factory for plugin cuFFT when one has already been registered\n",
            "2023-12-20 02:45:24.955032: E external/local_xla/xla/stream_executor/cuda/cuda_blas.cc:1515] Unable to register cuBLAS factory: Attempting to register factory for plugin cuBLAS when one has already been registered\n",
            "2023-12-20 02:45:26.430012: W tensorflow/compiler/tf2tensorrt/utils/py_utils.cc:38] TF-TRT Warning: Could not find TensorRT\n",
            "Overriding model.yaml nc=10 with nc=1\n",
            "\n",
            "                   from  n    params  module                                       arguments                     \n",
            "  0                  -1  1       464  ultralytics.nn.modules.Conv                  [3, 16, 3, 2]                 \n",
            "  1                  -1  1      4672  ultralytics.nn.modules.Conv                  [16, 32, 3, 2]                \n",
            "  2                  -1  1      7360  ultralytics.nn.modules.C2f                   [32, 32, 1, True]             \n",
            "  3                  -1  1     18560  ultralytics.nn.modules.Conv                  [32, 64, 3, 2]                \n",
            "  4                  -1  2     49664  ultralytics.nn.modules.C2f                   [64, 64, 2, True]             \n",
            "  5                  -1  1     73984  ultralytics.nn.modules.Conv                  [64, 128, 3, 2]               \n",
            "  6                  -1  2    197632  ultralytics.nn.modules.C2f                   [128, 128, 2, True]           \n",
            "  7                  -1  1    295424  ultralytics.nn.modules.Conv                  [128, 256, 3, 2]              \n",
            "  8                  -1  1    460288  ultralytics.nn.modules.C2f                   [256, 256, 1, True]           \n",
            "  9                  -1  1    164608  ultralytics.nn.modules.SPPF                  [256, 256, 5]                 \n",
            " 10                  -1  1         0  torch.nn.modules.upsampling.Upsample         [None, 2, 'nearest']          \n",
            " 11             [-1, 6]  1         0  ultralytics.nn.modules.Concat                [1]                           \n",
            " 12                  -1  1    148224  ultralytics.nn.modules.C2f                   [384, 128, 1]                 \n",
            " 13                  -1  1         0  torch.nn.modules.upsampling.Upsample         [None, 2, 'nearest']          \n",
            " 14             [-1, 4]  1         0  ultralytics.nn.modules.Concat                [1]                           \n",
            " 15                  -1  1     37248  ultralytics.nn.modules.C2f                   [192, 64, 1]                  \n",
            " 16                  -1  1     36992  ultralytics.nn.modules.Conv                  [64, 64, 3, 2]                \n",
            " 17            [-1, 12]  1         0  ultralytics.nn.modules.Concat                [1]                           \n",
            " 18                  -1  1    123648  ultralytics.nn.modules.C2f                   [192, 128, 1]                 \n",
            " 19                  -1  1    147712  ultralytics.nn.modules.Conv                  [128, 128, 3, 2]              \n",
            " 20             [-1, 9]  1         0  ultralytics.nn.modules.Concat                [1]                           \n",
            " 21                  -1  1    493056  ultralytics.nn.modules.C2f                   [384, 256, 1]                 \n",
            " 22        [15, 18, 21]  1    751507  ultralytics.nn.modules.Detect                [1, [64, 128, 256]]           \n",
            "Model summary: 225 layers, 3011043 parameters, 3011027 gradients, 8.2 GFLOPs\n",
            "\n",
            "Transferred 349/355 items from pretrained weights\n",
            "\u001b[34m\u001b[1moptimizer:\u001b[0m SGD(lr=0.01) with parameter groups 57 weight(decay=0.0), 64 weight(decay=0.001), 63 bias\n",
            "\u001b[34m\u001b[1mtrain: \u001b[0mScanning /content/bees-1/train/labels... 5640 images, 892 backgrounds, 0 corrupt: 100% 5640/5640 [00:02<00:00, 2392.79it/s]\n",
            "\u001b[34m\u001b[1mtrain: \u001b[0mNew cache created: /content/bees-1/train/labels.cache\n",
            "\u001b[34m\u001b[1malbumentations: \u001b[0mBlur(p=0.01, blur_limit=(3, 7)), MedianBlur(p=0.01, blur_limit=(3, 7)), ToGray(p=0.01), CLAHE(p=0.01, clip_limit=(1, 4.0), tile_grid_size=(8, 8))\n",
            "\u001b[34m\u001b[1mval: \u001b[0mScanning /content/bees-1/valid/labels... 1604 images, 237 backgrounds, 0 corrupt: 100% 1604/1604 [00:00<00:00, 2530.98it/s]\n",
            "\u001b[34m\u001b[1mval: \u001b[0mNew cache created: /content/bees-1/valid/labels.cache\n",
            "Image sizes 800 train, 800 val\n",
            "Using 2 dataloader workers\n",
            "Logging results to \u001b[1mruns/detect/train\u001b[0m\n",
            "Starting training for 10 epochs...\n",
            "Closing dataloader mosaic\n",
            "\u001b[34m\u001b[1malbumentations: \u001b[0mBlur(p=0.01, blur_limit=(3, 7)), MedianBlur(p=0.01, blur_limit=(3, 7)), ToGray(p=0.01), CLAHE(p=0.01, clip_limit=(1, 4.0), tile_grid_size=(8, 8))\n",
            "\n",
            "      Epoch    GPU_mem   box_loss   cls_loss   dfl_loss  Instances       Size\n",
            "       1/10       3.7G      2.009       1.92      1.592          7        800: 100% 353/353 [02:49<00:00,  2.08it/s]\n",
            "                 Class     Images  Instances      Box(P          R      mAP50  mAP50-95): 100% 51/51 [00:29<00:00,  1.74it/s]\n",
            "                   all       1604       1950      0.793       0.71       0.78      0.346\n",
            "\n",
            "      Epoch    GPU_mem   box_loss   cls_loss   dfl_loss  Instances       Size\n",
            "       2/10      4.68G      1.874       1.32      1.448          9        800: 100% 353/353 [02:45<00:00,  2.13it/s]\n",
            "                 Class     Images  Instances      Box(P          R      mAP50  mAP50-95): 100% 51/51 [00:32<00:00,  1.56it/s]\n",
            "                   all       1604       1950      0.765      0.721       0.77      0.336\n",
            "\n",
            "      Epoch    GPU_mem   box_loss   cls_loss   dfl_loss  Instances       Size\n",
            "       3/10      4.68G      1.869      1.343      1.437          9        800: 100% 353/353 [02:45<00:00,  2.14it/s]\n",
            "                 Class     Images  Instances      Box(P          R      mAP50  mAP50-95): 100% 51/51 [00:28<00:00,  1.76it/s]\n",
            "                   all       1604       1950      0.764      0.661      0.735      0.334\n",
            "\n",
            "      Epoch    GPU_mem   box_loss   cls_loss   dfl_loss  Instances       Size\n",
            "       4/10      4.68G      1.884      1.359      1.451          8        800: 100% 353/353 [02:45<00:00,  2.14it/s]\n",
            "                 Class     Images  Instances      Box(P          R      mAP50  mAP50-95): 100% 51/51 [00:29<00:00,  1.75it/s]\n",
            "                   all       1604       1950      0.775      0.704       0.76      0.335\n",
            "\n",
            "      Epoch    GPU_mem   box_loss   cls_loss   dfl_loss  Instances       Size\n",
            "       5/10      4.68G      1.873      1.312      1.463         10        800: 100% 353/353 [02:46<00:00,  2.11it/s]\n",
            "                 Class     Images  Instances      Box(P          R      mAP50  mAP50-95): 100% 51/51 [00:27<00:00,  1.86it/s]\n",
            "                   all       1604       1950      0.781      0.739      0.784      0.329\n",
            "\n",
            "      Epoch    GPU_mem   box_loss   cls_loss   dfl_loss  Instances       Size\n",
            "       6/10      4.68G      1.854      1.268      1.444          6        800: 100% 353/353 [02:44<00:00,  2.14it/s]\n",
            "                 Class     Images  Instances      Box(P          R      mAP50  mAP50-95): 100% 51/51 [00:27<00:00,  1.83it/s]\n",
            "                   all       1604       1950      0.779      0.739      0.781      0.362\n",
            "\n",
            "      Epoch    GPU_mem   box_loss   cls_loss   dfl_loss  Instances       Size\n",
            "       7/10      4.68G       1.84      1.216      1.426          7        800: 100% 353/353 [02:50<00:00,  2.07it/s]\n",
            "                 Class     Images  Instances      Box(P          R      mAP50  mAP50-95): 100% 51/51 [00:28<00:00,  1.82it/s]\n",
            "                   all       1604       1950       0.78      0.688      0.764      0.346\n",
            "\n",
            "      Epoch    GPU_mem   box_loss   cls_loss   dfl_loss  Instances       Size\n",
            "       8/10      4.68G      1.801      1.187      1.405          9        800: 100% 353/353 [02:46<00:00,  2.12it/s]\n",
            "                 Class     Images  Instances      Box(P          R      mAP50  mAP50-95): 100% 51/51 [00:28<00:00,  1.80it/s]\n",
            "                   all       1604       1950      0.783      0.736      0.795      0.369\n",
            "\n",
            "      Epoch    GPU_mem   box_loss   cls_loss   dfl_loss  Instances       Size\n",
            "       9/10      4.69G      1.795      1.147       1.39          7        800: 100% 353/353 [02:44<00:00,  2.14it/s]\n",
            "                 Class     Images  Instances      Box(P          R      mAP50  mAP50-95): 100% 51/51 [00:32<00:00,  1.57it/s]\n",
            "                   all       1604       1950      0.816      0.747      0.805      0.381\n",
            "\n",
            "      Epoch    GPU_mem   box_loss   cls_loss   dfl_loss  Instances       Size\n",
            "      10/10      4.69G      1.755      1.093      1.371         11        800: 100% 353/353 [02:46<00:00,  2.12it/s]\n",
            "                 Class     Images  Instances      Box(P          R      mAP50  mAP50-95): 100% 51/51 [00:34<00:00,  1.47it/s]\n",
            "                   all       1604       1950       0.82      0.798      0.836        0.4\n",
            "\n",
            "10 epochs completed in 0.548 hours.\n",
            "Optimizer stripped from runs/detect/train/weights/last.pt, 6.3MB\n",
            "Optimizer stripped from runs/detect/train/weights/best.pt, 6.3MB\n",
            "\n",
            "Validating runs/detect/train/weights/best.pt...\n",
            "Ultralytics YOLOv8.0.20 🚀 Python-3.10.12 torch-2.1.0+cu121 CUDA:0 (Tesla T4, 15102MiB)\n",
            "Model summary (fused): 168 layers, 3005843 parameters, 0 gradients, 8.1 GFLOPs\n",
            "                 Class     Images  Instances      Box(P          R      mAP50  mAP50-95): 100% 51/51 [00:34<00:00,  1.49it/s]\n",
            "                   all       1604       1950       0.82      0.799      0.836        0.4\n",
            "Speed: 0.4ms pre-process, 3.3ms inference, 0.0ms loss, 3.3ms post-process per image\n",
            "Results saved to \u001b[1mruns/detect/train\u001b[0m\n",
            "2023-12-20 03:19:13.580993: E external/local_xla/xla/stream_executor/cuda/cuda_dnn.cc:9261] Unable to register cuDNN factory: Attempting to register factory for plugin cuDNN when one has already been registered\n",
            "2023-12-20 03:19:13.581047: E external/local_xla/xla/stream_executor/cuda/cuda_fft.cc:607] Unable to register cuFFT factory: Attempting to register factory for plugin cuFFT when one has already been registered\n",
            "2023-12-20 03:19:13.582458: E external/local_xla/xla/stream_executor/cuda/cuda_blas.cc:1515] Unable to register cuBLAS factory: Attempting to register factory for plugin cuBLAS when one has already been registered\n",
            "2023-12-20 03:19:14.637056: W tensorflow/compiler/tf2tensorrt/utils/py_utils.cc:38] TF-TRT Warning: Could not find TensorRT\n",
            "Ultralytics YOLOv8.0.20 🚀 Python-3.10.12 torch-2.1.0+cu121 CUDA:0 (Tesla T4, 15102MiB)\n",
            "Model summary (fused): 168 layers, 3005843 parameters, 0 gradients, 8.1 GFLOPs\n",
            "\u001b[34m\u001b[1mval: \u001b[0mScanning /content/bees-1/valid/labels.cache... 1604 images, 237 backgrounds, 0 corrupt: 100% 1604/1604 [00:00<?, ?it/s]\n",
            "                 Class     Images  Instances      Box(P          R      mAP50  mAP50-95): 100% 101/101 [00:30<00:00,  3.31it/s]\n",
            "                   all       1604       1950      0.821      0.798      0.838      0.401\n",
            "Speed: 1.3ms pre-process, 6.0ms inference, 0.0ms loss, 2.7ms post-process per image\n",
            "File dipindahkan ke: /content/drive/MyDrive/YoloEverythings/yolov8x.pt\n",
            "Direktori /content/bees-1 berhasil dihapus.\n",
            "Direktori runs berhasil dihapus.\n",
            "berhasil\n"
          ]
        },
        {
          "output_type": "stream",
          "name": "stderr",
          "text": [
            "\n",
            "A value is trying to be set on a copy of a slice from a DataFrame\n",
            "\n",
            "See the caveats in the documentation: https://pandas.pydata.org/pandas-docs/stable/user_guide/indexing.html#returning-a-view-versus-a-copy\n"
          ]
        }
      ]
    },
    {
      "cell_type": "code",
      "source": [
        "df"
      ],
      "metadata": {
        "id": "clg55ARgVXCU"
      },
      "execution_count": null,
      "outputs": []
    },
    {
      "cell_type": "code",
      "source": [
        "list_dataframe[0]"
      ],
      "metadata": {
        "id": "gCgh6V8q6U76"
      },
      "execution_count": null,
      "outputs": []
    },
    {
      "cell_type": "code",
      "source": [
        "# def run_train_large_yolo_model(df):\n",
        "#   for i in range(len(df)):\n",
        "#     lym = LargeYoloModel(df['workspace'][i], df['project'][i], 10)\n",
        "#     lym.run()"
      ],
      "metadata": {
        "id": "ZYIqPUtO7TrJ"
      },
      "execution_count": null,
      "outputs": []
    },
    {
      "cell_type": "code",
      "source": [
        "lym = LargeYoloModel(\"krisna-wijaya-sxuzy\", \"kerusakan-jalan-yolov8\", 10)\n",
        "lym.run()"
      ],
      "metadata": {
        "id": "brwqye-1OxnL"
      },
      "execution_count": null,
      "outputs": []
    }
  ],
  "metadata": {
    "accelerator": "GPU",
    "colab": {
      "provenance": [],
      "gpuType": "T4"
    },
    "kernelspec": {
      "display_name": "Python 3",
      "name": "python3"
    },
    "language_info": {
      "name": "python"
    }
  },
  "nbformat": 4,
  "nbformat_minor": 0
}