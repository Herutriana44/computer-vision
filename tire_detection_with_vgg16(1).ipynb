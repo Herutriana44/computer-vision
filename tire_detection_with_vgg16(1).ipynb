{
  "nbformat": 4,
  "nbformat_minor": 0,
  "metadata": {
    "colab": {
      "provenance": [],
      "gpuType": "T4"
    },
    "kernelspec": {
      "name": "python3",
      "display_name": "Python 3"
    },
    "language_info": {
      "name": "python"
    },
    "accelerator": "GPU"
  },
  "cells": [
    {
      "cell_type": "code",
      "execution_count": null,
      "metadata": {
        "id": "ilvTps-2dhlZ"
      },
      "outputs": [],
      "source": [
        "import tensorflow as tf\n",
        "from keras.layers import Input, Lambda, Dense, Flatten, Conv2D, MaxPooling2D, Dropout, BatchNormalization\n",
        "from keras.models import Model\n",
        "from tensorflow.keras.optimizers import SGD, Adam\n",
        "from keras.applications import VGG16\n",
        "from keras.preprocessing import image\n",
        "from keras.preprocessing.image import ImageDataGenerator\n",
        "from keras.models import Sequential\n",
        "#from tensorflow.keras.applications.imagenet_utils import preprocess_input\n",
        "import numpy as np\n",
        "from glob import glob\n",
        "import matplotlib.pyplot as plt\n",
        "# time libraries\n",
        "import time\n",
        "import datetime\n",
        "import os"
      ]
    },
    {
      "cell_type": "code",
      "source": [
        "from google.colab import drive\n",
        "drive.mount('/content/drive')"
      ],
      "metadata": {
        "colab": {
          "base_uri": "https://localhost:8080/"
        },
        "id": "CdWf4ZIsgdYv",
        "outputId": "9c776edd-81fd-443b-dba0-9b260ceb82c1"
      },
      "execution_count": null,
      "outputs": [
        {
          "output_type": "stream",
          "name": "stdout",
          "text": [
            "Mounted at /content/drive\n"
          ]
        }
      ]
    },
    {
      "cell_type": "code",
      "source": [
        "data_dir = '/content/drive/MyDrive/BAN'\n",
        "train_dir = data_dir+'/TRAIN'\n",
        "test_dir = data_dir+'/TEST'"
      ],
      "metadata": {
        "id": "0Hsco-HioBcQ"
      },
      "execution_count": null,
      "outputs": []
    },
    {
      "cell_type": "code",
      "source": [
        "# Define image size\n",
        "IMAGE_SIZE = (224, 224)\n",
        "\n",
        "# Define batch size\n",
        "BATCH_SIZE = 64\n",
        "\n",
        "\n",
        "# Create ImageDataGenerator for training set with data augmentation\n",
        "train_datagen = ImageDataGenerator(rescale=1./255,\n",
        "                                   zoom_range=0.1,\n",
        "                                   rotation_range=20,\n",
        "                                   width_shift_range=0.1,\n",
        "                                   height_shift_range=0.1,\n",
        "                                   horizontal_flip = True)\n",
        "\n",
        "# Create ImageDataGenerator for validation and test sets without data augmentation\n",
        "val_test_datagen = ImageDataGenerator(rescale=1./255)"
      ],
      "metadata": {
        "id": "R05BPrBuoU_v"
      },
      "execution_count": null,
      "outputs": []
    },
    {
      "cell_type": "code",
      "source": [
        "# Create train, validation, and test generators\n",
        "train_generator = train_datagen.flow_from_directory(\n",
        "    train_dir,\n",
        "    target_size=IMAGE_SIZE,\n",
        "    batch_size=BATCH_SIZE,\n",
        "    class_mode='binary',\n",
        "    shuffle=True,\n",
        "    seed=42\n",
        "    )\n",
        "\n",
        "test_generator = val_test_datagen.flow_from_directory(\n",
        "    test_dir,\n",
        "    target_size=IMAGE_SIZE,\n",
        "    batch_size=BATCH_SIZE,\n",
        "    class_mode='binary',\n",
        "    shuffle=False\n",
        "    )"
      ],
      "metadata": {
        "colab": {
          "base_uri": "https://localhost:8080/"
        },
        "id": "oq0WAWE4oZfd",
        "outputId": "1a54ac34-ebfe-42a2-b891-fcaa3cf3c9ac"
      },
      "execution_count": null,
      "outputs": [
        {
          "output_type": "stream",
          "name": "stdout",
          "text": [
            "Found 703 images belonging to 2 classes.\n",
            "Found 325 images belonging to 2 classes.\n"
          ]
        }
      ]
    },
    {
      "cell_type": "code",
      "source": [
        "train_generator.class_indices"
      ],
      "metadata": {
        "id": "Os05WrAkod75",
        "colab": {
          "base_uri": "https://localhost:8080/"
        },
        "outputId": "d4887fb5-a652-45d3-894d-2fc37d2ca7ce"
      },
      "execution_count": null,
      "outputs": [
        {
          "output_type": "execute_result",
          "data": {
            "text/plain": [
              "{'CRACKED': 0, 'NORMAL': 1}"
            ]
          },
          "metadata": {},
          "execution_count": 6
        }
      ]
    },
    {
      "cell_type": "code",
      "source": [
        "from sklearn.utils.class_weight import compute_class_weight\n",
        "cls_train = train_generator.classes\n",
        "from collections import OrderedDict\n",
        "classes = list(train_generator.class_indices.keys())\n",
        "num_values = []\n",
        "unique, counts = np.unique(cls_train, return_counts=True)\n",
        "valdict=OrderedDict(zip(unique, counts))\n",
        "for i in range(2):\n",
        "    num_values.append(valdict[i])\n",
        "plt.figure(figsize=(10,5))\n",
        "x = np.arange(len(num_values))\n",
        "xlabel = classes\n",
        "plt.bar(x, num_values)\n",
        "plt.xticks(x, xlabel)\n",
        "plt.show()"
      ],
      "metadata": {
        "id": "rlxe2vhRoipH",
        "colab": {
          "base_uri": "https://localhost:8080/",
          "height": 445
        },
        "outputId": "af8bbe84-04c9-4d1f-912c-104de0f86bf3"
      },
      "execution_count": null,
      "outputs": [
        {
          "output_type": "display_data",
          "data": {
            "text/plain": [
              "<Figure size 1000x500 with 1 Axes>"
            ],
            "image/png": "[encoded data removed]"
          },
          "metadata": {}
        }
      ]
    },
    {
      "cell_type": "code",
      "source": [
        "# Get the first batch of images\n",
        "images, _ = next(train_generator)\n",
        "\n",
        "# Get the shape of the images\n",
        "shape = images[0].shape\n",
        "\n",
        "# Print the shape of the images\n",
        "print(f'The shape of the images is: {shape}')"
      ],
      "metadata": {
        "id": "rIRyUEP6okM5",
        "colab": {
          "base_uri": "https://localhost:8080/"
        },
        "outputId": "c2601270-2d39-4db3-b8b7-51edc814d031"
      },
      "execution_count": null,
      "outputs": [
        {
          "output_type": "stream",
          "name": "stdout",
          "text": [
            "The shape of the images is: (224, 224, 3)\n"
          ]
        }
      ]
    },
    {
      "cell_type": "code",
      "source": [
        "# Create VGG16 model with pre-trained weights\n",
        "vgg16_model = VGG16(weights='imagenet', include_top=False, input_shape=(224, 224, 3))"
      ],
      "metadata": {
        "id": "-_5MHa6_o2T1",
        "colab": {
          "base_uri": "https://localhost:8080/"
        },
        "outputId": "ae6ca296-3be0-4643-8c66-5e1bef3c82d7"
      },
      "execution_count": null,
      "outputs": [
        {
          "output_type": "stream",
          "name": "stdout",
          "text": [
            "Downloading data from https://storage.googleapis.com/tensorflow/keras-applications/vgg16/vgg16_weights_tf_dim_ordering_tf_kernels_notop.h5\n",
            "58889256/58889256 [==============================] - 3s 0us/step\n"
          ]
        }
      ]
    },
    {
      "cell_type": "code",
      "source": [
        "# Freeze pre-trained layers\n",
        "for layer in vgg16_model.layers:\n",
        "    layer.trainable = False"
      ],
      "metadata": {
        "id": "_gUGCtZdpGSZ"
      },
      "execution_count": null,
      "outputs": []
    },
    {
      "cell_type": "code",
      "source": [
        "train_generator.num_classes"
      ],
      "metadata": {
        "id": "LILxN4Vdu8qO",
        "colab": {
          "base_uri": "https://localhost:8080/"
        },
        "outputId": "41101404-66f2-4cf1-fdbd-e6e715f95b7a"
      },
      "execution_count": null,
      "outputs": [
        {
          "output_type": "execute_result",
          "data": {
            "text/plain": [
              "2"
            ]
          },
          "metadata": {},
          "execution_count": 11
        }
      ]
    },
    {
      "cell_type": "code",
      "source": [
        "# Add new classification layers\n",
        "top_model = tf.keras.models.Sequential()\n",
        "top_model.add(tf.keras.layers.Flatten(input_shape=vgg16_model.output_shape[1:]))\n",
        "top_model.add(tf.keras.layers.Dense(256, activation='relu'))\n",
        "top_model.add(tf.keras.layers.Dense(1, activation='sigmoid'))\n",
        "# Create new model\n",
        "model = tf.keras.models.Model(inputs=vgg16_model.input, outputs=top_model(vgg16_model.output))"
      ],
      "metadata": {
        "id": "M81C7WuIpXTe"
      },
      "execution_count": null,
      "outputs": []
    },
    {
      "cell_type": "code",
      "source": [
        "vgg16_model.summary()"
      ],
      "metadata": {
        "id": "FFST6vnKpZCI",
        "colab": {
          "base_uri": "https://localhost:8080/"
        },
        "outputId": "8f83ab66-1485-4bb1-e4e7-c703607e5904"
      },
      "execution_count": null,
      "outputs": [
        {
          "output_type": "stream",
          "name": "stdout",
          "text": [
            "Model: \"vgg16\"\n",
            "_________________________________________________________________\n",
            " Layer (type)                Output Shape              Param #   \n",
            "=================================================================\n",
            " input_1 (InputLayer)        [(None, 224, 224, 3)]     0         \n",
            "                                                                 \n",
            " block1_conv1 (Conv2D)       (None, 224, 224, 64)      1792      \n",
            "                                                                 \n",
            " block1_conv2 (Conv2D)       (None, 224, 224, 64)      36928     \n",
            "                                                                 \n",
            " block1_pool (MaxPooling2D)  (None, 112, 112, 64)      0         \n",
            "                                                                 \n",
            " block2_conv1 (Conv2D)       (None, 112, 112, 128)     73856     \n",
            "                                                                 \n",
            " block2_conv2 (Conv2D)       (None, 112, 112, 128)     147584    \n",
            "                                                                 \n",
            " block2_pool (MaxPooling2D)  (None, 56, 56, 128)       0         \n",
            "                                                                 \n",
            " block3_conv1 (Conv2D)       (None, 56, 56, 256)       295168    \n",
            "                                                                 \n",
            " block3_conv2 (Conv2D)       (None, 56, 56, 256)       590080    \n",
            "                                                                 \n",
            " block3_conv3 (Conv2D)       (None, 56, 56, 256)       590080    \n",
            "                                                                 \n",
            " block3_pool (MaxPooling2D)  (None, 28, 28, 256)       0         \n",
            "                                                                 \n",
            " block4_conv1 (Conv2D)       (None, 28, 28, 512)       1180160   \n",
            "                                                                 \n",
            " block4_conv2 (Conv2D)       (None, 28, 28, 512)       2359808   \n",
            "                                                                 \n",
            " block4_conv3 (Conv2D)       (None, 28, 28, 512)       2359808   \n",
            "                                                                 \n",
            " block4_pool (MaxPooling2D)  (None, 14, 14, 512)       0         \n",
            "                                                                 \n",
            " block5_conv1 (Conv2D)       (None, 14, 14, 512)       2359808   \n",
            "                                                                 \n",
            " block5_conv2 (Conv2D)       (None, 14, 14, 512)       2359808   \n",
            "                                                                 \n",
            " block5_conv3 (Conv2D)       (None, 14, 14, 512)       2359808   \n",
            "                                                                 \n",
            " block5_pool (MaxPooling2D)  (None, 7, 7, 512)         0         \n",
            "                                                                 \n",
            "=================================================================\n",
            "Total params: 14,714,688\n",
            "Trainable params: 0\n",
            "Non-trainable params: 14,714,688\n",
            "_________________________________________________________________\n"
          ]
        }
      ]
    },
    {
      "cell_type": "code",
      "source": [
        "model.summary()"
      ],
      "metadata": {
        "id": "6bkjH0XFpeNE",
        "colab": {
          "base_uri": "https://localhost:8080/"
        },
        "outputId": "4d872510-56d1-4249-921a-c2b7e284c0b2"
      },
      "execution_count": null,
      "outputs": [
        {
          "output_type": "stream",
          "name": "stdout",
          "text": [
            "Model: \"model\"\n",
            "_________________________________________________________________\n",
            " Layer (type)                Output Shape              Param #   \n",
            "=================================================================\n",
            " input_1 (InputLayer)        [(None, 224, 224, 3)]     0         \n",
            "                                                                 \n",
            " block1_conv1 (Conv2D)       (None, 224, 224, 64)      1792      \n",
            "                                                                 \n",
            " block1_conv2 (Conv2D)       (None, 224, 224, 64)      36928     \n",
            "                                                                 \n",
            " block1_pool (MaxPooling2D)  (None, 112, 112, 64)      0         \n",
            "                                                                 \n",
            " block2_conv1 (Conv2D)       (None, 112, 112, 128)     73856     \n",
            "                                                                 \n",
            " block2_conv2 (Conv2D)       (None, 112, 112, 128)     147584    \n",
            "                                                                 \n",
            " block2_pool (MaxPooling2D)  (None, 56, 56, 128)       0         \n",
            "                                                                 \n",
            " block3_conv1 (Conv2D)       (None, 56, 56, 256)       295168    \n",
            "                                                                 \n",
            " block3_conv2 (Conv2D)       (None, 56, 56, 256)       590080    \n",
            "                                                                 \n",
            " block3_conv3 (Conv2D)       (None, 56, 56, 256)       590080    \n",
            "                                                                 \n",
            " block3_pool (MaxPooling2D)  (None, 28, 28, 256)       0         \n",
            "                                                                 \n",
            " block4_conv1 (Conv2D)       (None, 28, 28, 512)       1180160   \n",
            "                                                                 \n",
            " block4_conv2 (Conv2D)       (None, 28, 28, 512)       2359808   \n",
            "                                                                 \n",
            " block4_conv3 (Conv2D)       (None, 28, 28, 512)       2359808   \n",
            "                                                                 \n",
            " block4_pool (MaxPooling2D)  (None, 14, 14, 512)       0         \n",
            "                                                                 \n",
            " block5_conv1 (Conv2D)       (None, 14, 14, 512)       2359808   \n",
            "                                                                 \n",
            " block5_conv2 (Conv2D)       (None, 14, 14, 512)       2359808   \n",
            "                                                                 \n",
            " block5_conv3 (Conv2D)       (None, 14, 14, 512)       2359808   \n",
            "                                                                 \n",
            " block5_pool (MaxPooling2D)  (None, 7, 7, 512)         0         \n",
            "                                                                 \n",
            " sequential (Sequential)     (None, 1)                 6423041   \n",
            "                                                                 \n",
            "=================================================================\n",
            "Total params: 21,137,729\n",
            "Trainable params: 6,423,041\n",
            "Non-trainable params: 14,714,688\n",
            "_________________________________________________________________\n"
          ]
        }
      ]
    },
    {
      "cell_type": "code",
      "source": [
        "model.compile(optimizer=Adam(learning_rate=0.0001),\n",
        "              loss='binary_crossentropy',\n",
        "              metrics=['accuracy']\n",
        ")"
      ],
      "metadata": {
        "id": "S5iQi8QNphl4"
      },
      "execution_count": null,
      "outputs": []
    },
    {
      "cell_type": "code",
      "source": [
        "checkpoint_path = \"training_1/cp-{epoch:04d}.ckpt\" #pake yang ini\n",
        "checkpoint_dir = os.path.dirname(checkpoint_path)\n",
        "\n",
        "# Create a callback that saves the model's weights\n",
        "cp_callback = tf.keras.callbacks.ModelCheckpoint(filepath=checkpoint_path,\n",
        "                                                 save_weights_only=True,\n",
        "                                                 monitor='val_accuracy',\n",
        "                                                 mode='max',\n",
        "                                                 save_best_only=True,\n",
        "                                                 verbose=1)\n",
        "\n",
        "\n",
        "class EpochEndByAcc(tf.keras.callbacks.Callback):\n",
        "  def on_epoch_end(self, epoch, logs={}):\n",
        "    if(logs.get('val_accuracy') >= 0.80):\n",
        "      print(\"\\nAkurasi di atas 80%, hentikan training!\")\n",
        "      self.model.stop_training = True\n",
        "\n",
        "valacc = EpochEndByAcc()"
      ],
      "metadata": {
        "id": "F9ZaBvoeplAZ"
      },
      "execution_count": null,
      "outputs": []
    },
    {
      "cell_type": "code",
      "source": [
        "# calculating computational time\n",
        "t = time.perf_counter()\n",
        "\n",
        "# Train model\n",
        "history = model.fit(\n",
        "    train_generator,\n",
        "    epochs=50,\n",
        "    validation_data=test_generator,\n",
        "    callbacks=[cp_callback,valacc],\n",
        "    verbose=2)\n",
        "\n",
        "# show total elapsed time\n",
        "elapsed_time = datetime.timedelta(seconds=(time.perf_counter() - t))\n",
        "print('\\nTraining time:', elapsed_time)"
      ],
      "metadata": {
        "id": "fgswRXCGpogb",
        "colab": {
          "base_uri": "https://localhost:8080/"
        },
        "outputId": "a6eae2be-5b92-4109-9aae-59314da8949c"
      },
      "execution_count": null,
      "outputs": [
        {
          "output_type": "stream",
          "name": "stdout",
          "text": [
            "Epoch 1/50\n",
            "\n",
            "Epoch 1: val_accuracy improved from -inf to 0.75077, saving model to training_1/cp-0001.ckpt\n",
            "11/11 - 62s - loss: 0.2191 - accuracy: 0.9246 - val_loss: 0.5876 - val_accuracy: 0.7508 - 62s/epoch - 6s/step\n",
            "Epoch 2/50\n",
            "\n",
            "Epoch 2: val_accuracy did not improve from 0.75077\n",
            "11/11 - 59s - loss: 0.1843 - accuracy: 0.9331 - val_loss: 0.7267 - val_accuracy: 0.7046 - 59s/epoch - 5s/step\n",
            "Epoch 3/50\n",
            "\n",
            "Epoch 3: val_accuracy did not improve from 0.75077\n",
            "11/11 - 56s - loss: 0.1938 - accuracy: 0.9303 - val_loss: 0.6677 - val_accuracy: 0.7200 - 56s/epoch - 5s/step\n",
            "Epoch 4/50\n",
            "\n",
            "Epoch 4: val_accuracy did not improve from 0.75077\n",
            "11/11 - 57s - loss: 0.1789 - accuracy: 0.9445 - val_loss: 0.6776 - val_accuracy: 0.7169 - 57s/epoch - 5s/step\n",
            "Epoch 5/50\n",
            "\n",
            "Epoch 5: val_accuracy did not improve from 0.75077\n",
            "11/11 - 77s - loss: 0.1841 - accuracy: 0.9374 - val_loss: 0.6717 - val_accuracy: 0.7169 - 77s/epoch - 7s/step\n",
            "Epoch 6/50\n",
            "\n",
            "Epoch 6: val_accuracy did not improve from 0.75077\n",
            "11/11 - 56s - loss: 0.1692 - accuracy: 0.9431 - val_loss: 0.7274 - val_accuracy: 0.6954 - 56s/epoch - 5s/step\n",
            "Epoch 7/50\n",
            "\n",
            "Epoch 7: val_accuracy did not improve from 0.75077\n",
            "11/11 - 78s - loss: 0.1612 - accuracy: 0.9403 - val_loss: 0.8634 - val_accuracy: 0.6677 - 78s/epoch - 7s/step\n",
            "Epoch 8/50\n",
            "\n",
            "Epoch 8: val_accuracy did not improve from 0.75077\n",
            "11/11 - 56s - loss: 0.1506 - accuracy: 0.9474 - val_loss: 0.8906 - val_accuracy: 0.6585 - 56s/epoch - 5s/step\n",
            "Epoch 9/50\n",
            "\n",
            "Epoch 9: val_accuracy did not improve from 0.75077\n",
            "11/11 - 58s - loss: 0.1368 - accuracy: 0.9587 - val_loss: 0.7268 - val_accuracy: 0.6954 - 58s/epoch - 5s/step\n",
            "Epoch 10/50\n",
            "\n",
            "Epoch 10: val_accuracy did not improve from 0.75077\n",
            "11/11 - 60s - loss: 0.1434 - accuracy: 0.9474 - val_loss: 0.6354 - val_accuracy: 0.7323 - 60s/epoch - 5s/step\n",
            "Epoch 11/50\n",
            "\n",
            "Epoch 11: val_accuracy did not improve from 0.75077\n",
            "11/11 - 61s - loss: 0.1327 - accuracy: 0.9516 - val_loss: 0.7472 - val_accuracy: 0.7046 - 61s/epoch - 6s/step\n",
            "Epoch 12/50\n",
            "\n",
            "Epoch 12: val_accuracy did not improve from 0.75077\n",
            "11/11 - 63s - loss: 0.1412 - accuracy: 0.9545 - val_loss: 0.7064 - val_accuracy: 0.7200 - 63s/epoch - 6s/step\n",
            "Epoch 13/50\n",
            "\n",
            "Epoch 13: val_accuracy improved from 0.75077 to 0.76923, saving model to training_1/cp-0013.ckpt\n",
            "11/11 - 63s - loss: 0.1331 - accuracy: 0.9531 - val_loss: 0.5284 - val_accuracy: 0.7692 - 63s/epoch - 6s/step\n",
            "Epoch 14/50\n",
            "\n",
            "Epoch 14: val_accuracy did not improve from 0.76923\n",
            "11/11 - 61s - loss: 0.1387 - accuracy: 0.9516 - val_loss: 0.5941 - val_accuracy: 0.7477 - 61s/epoch - 6s/step\n",
            "Epoch 15/50\n",
            "\n",
            "Epoch 15: val_accuracy did not improve from 0.76923\n",
            "11/11 - 59s - loss: 0.1227 - accuracy: 0.9616 - val_loss: 0.6178 - val_accuracy: 0.7354 - 59s/epoch - 5s/step\n",
            "Epoch 16/50\n",
            "\n",
            "Epoch 16: val_accuracy did not improve from 0.76923\n",
            "11/11 - 58s - loss: 0.1178 - accuracy: 0.9587 - val_loss: 0.6447 - val_accuracy: 0.7415 - 58s/epoch - 5s/step\n",
            "Epoch 17/50\n",
            "\n",
            "Epoch 17: val_accuracy did not improve from 0.76923\n",
            "11/11 - 78s - loss: 0.1325 - accuracy: 0.9545 - val_loss: 0.6689 - val_accuracy: 0.7385 - 78s/epoch - 7s/step\n",
            "Epoch 18/50\n",
            "\n",
            "Epoch 18: val_accuracy did not improve from 0.76923\n",
            "11/11 - 57s - loss: 0.1160 - accuracy: 0.9673 - val_loss: 0.7620 - val_accuracy: 0.7108 - 57s/epoch - 5s/step\n",
            "Epoch 19/50\n",
            "\n",
            "Epoch 19: val_accuracy did not improve from 0.76923\n",
            "11/11 - 78s - loss: 0.1044 - accuracy: 0.9616 - val_loss: 0.6175 - val_accuracy: 0.7385 - 78s/epoch - 7s/step\n",
            "Epoch 20/50\n",
            "\n",
            "Epoch 20: val_accuracy did not improve from 0.76923\n",
            "11/11 - 58s - loss: 0.1090 - accuracy: 0.9687 - val_loss: 0.6334 - val_accuracy: 0.7415 - 58s/epoch - 5s/step\n",
            "Epoch 21/50\n",
            "\n",
            "Epoch 21: val_accuracy did not improve from 0.76923\n",
            "11/11 - 78s - loss: 0.1020 - accuracy: 0.9716 - val_loss: 0.5784 - val_accuracy: 0.7446 - 78s/epoch - 7s/step\n",
            "Epoch 22/50\n",
            "\n",
            "Epoch 22: val_accuracy did not improve from 0.76923\n",
            "11/11 - 58s - loss: 0.1003 - accuracy: 0.9758 - val_loss: 0.8233 - val_accuracy: 0.7015 - 58s/epoch - 5s/step\n",
            "Epoch 23/50\n",
            "\n",
            "Epoch 23: val_accuracy did not improve from 0.76923\n",
            "11/11 - 78s - loss: 0.0956 - accuracy: 0.9744 - val_loss: 0.6948 - val_accuracy: 0.7292 - 78s/epoch - 7s/step\n",
            "Epoch 24/50\n",
            "\n",
            "Epoch 24: val_accuracy did not improve from 0.76923\n",
            "11/11 - 59s - loss: 0.0953 - accuracy: 0.9716 - val_loss: 0.5806 - val_accuracy: 0.7415 - 59s/epoch - 5s/step\n",
            "Epoch 25/50\n",
            "\n",
            "Epoch 25: val_accuracy improved from 0.76923 to 0.78154, saving model to training_1/cp-0025.ckpt\n",
            "11/11 - 58s - loss: 0.1049 - accuracy: 0.9687 - val_loss: 0.5057 - val_accuracy: 0.7815 - 58s/epoch - 5s/step\n",
            "Epoch 26/50\n",
            "\n",
            "Epoch 26: val_accuracy did not improve from 0.78154\n",
            "11/11 - 57s - loss: 0.0934 - accuracy: 0.9744 - val_loss: 0.5398 - val_accuracy: 0.7600 - 57s/epoch - 5s/step\n",
            "Epoch 27/50\n",
            "\n",
            "Epoch 27: val_accuracy did not improve from 0.78154\n",
            "11/11 - 57s - loss: 0.0957 - accuracy: 0.9687 - val_loss: 0.6211 - val_accuracy: 0.7385 - 57s/epoch - 5s/step\n",
            "Epoch 28/50\n",
            "\n",
            "Epoch 28: val_accuracy did not improve from 0.78154\n",
            "11/11 - 61s - loss: 0.0823 - accuracy: 0.9801 - val_loss: 0.6227 - val_accuracy: 0.7446 - 61s/epoch - 6s/step\n",
            "Epoch 29/50\n",
            "\n",
            "Epoch 29: val_accuracy did not improve from 0.78154\n",
            "11/11 - 60s - loss: 0.0901 - accuracy: 0.9730 - val_loss: 0.7547 - val_accuracy: 0.7138 - 60s/epoch - 5s/step\n",
            "Epoch 30/50\n",
            "\n",
            "Epoch 30: val_accuracy did not improve from 0.78154\n",
            "11/11 - 59s - loss: 0.0893 - accuracy: 0.9730 - val_loss: 0.7076 - val_accuracy: 0.7231 - 59s/epoch - 5s/step\n",
            "Epoch 31/50\n",
            "\n",
            "Epoch 31: val_accuracy did not improve from 0.78154\n",
            "11/11 - 79s - loss: 0.0739 - accuracy: 0.9829 - val_loss: 0.6361 - val_accuracy: 0.7354 - 79s/epoch - 7s/step\n",
            "Epoch 32/50\n",
            "\n",
            "Epoch 32: val_accuracy did not improve from 0.78154\n",
            "11/11 - 59s - loss: 0.0860 - accuracy: 0.9673 - val_loss: 0.5089 - val_accuracy: 0.7723 - 59s/epoch - 5s/step\n",
            "Epoch 33/50\n",
            "\n",
            "Epoch 33: val_accuracy did not improve from 0.78154\n",
            "11/11 - 57s - loss: 0.0800 - accuracy: 0.9744 - val_loss: 0.5662 - val_accuracy: 0.7446 - 57s/epoch - 5s/step\n",
            "Epoch 34/50\n",
            "\n",
            "Epoch 34: val_accuracy did not improve from 0.78154\n",
            "11/11 - 59s - loss: 0.0677 - accuracy: 0.9844 - val_loss: 0.7524 - val_accuracy: 0.7231 - 59s/epoch - 5s/step\n",
            "Epoch 35/50\n",
            "\n",
            "Epoch 35: val_accuracy did not improve from 0.78154\n",
            "11/11 - 78s - loss: 0.0762 - accuracy: 0.9772 - val_loss: 0.7948 - val_accuracy: 0.7108 - 78s/epoch - 7s/step\n",
            "Epoch 36/50\n",
            "\n",
            "Epoch 36: val_accuracy did not improve from 0.78154\n",
            "11/11 - 57s - loss: 0.0757 - accuracy: 0.9758 - val_loss: 0.6545 - val_accuracy: 0.7415 - 57s/epoch - 5s/step\n",
            "Epoch 37/50\n",
            "\n",
            "Epoch 37: val_accuracy did not improve from 0.78154\n",
            "11/11 - 57s - loss: 0.0810 - accuracy: 0.9730 - val_loss: 0.5132 - val_accuracy: 0.7754 - 57s/epoch - 5s/step\n",
            "Epoch 38/50\n",
            "\n",
            "Epoch 38: val_accuracy did not improve from 0.78154\n",
            "11/11 - 58s - loss: 0.0762 - accuracy: 0.9772 - val_loss: 0.6122 - val_accuracy: 0.7538 - 58s/epoch - 5s/step\n",
            "Epoch 39/50\n",
            "\n",
            "Epoch 39: val_accuracy did not improve from 0.78154\n",
            "11/11 - 57s - loss: 0.0711 - accuracy: 0.9772 - val_loss: 0.6954 - val_accuracy: 0.7323 - 57s/epoch - 5s/step\n",
            "Epoch 40/50\n",
            "\n",
            "Epoch 40: val_accuracy did not improve from 0.78154\n",
            "11/11 - 57s - loss: 0.0739 - accuracy: 0.9744 - val_loss: 0.5912 - val_accuracy: 0.7631 - 57s/epoch - 5s/step\n",
            "Epoch 41/50\n",
            "\n",
            "Epoch 41: val_accuracy did not improve from 0.78154\n",
            "11/11 - 57s - loss: 0.0722 - accuracy: 0.9787 - val_loss: 0.5971 - val_accuracy: 0.7600 - 57s/epoch - 5s/step\n",
            "Epoch 42/50\n",
            "\n",
            "Epoch 42: val_accuracy did not improve from 0.78154\n",
            "11/11 - 58s - loss: 0.0674 - accuracy: 0.9787 - val_loss: 0.6509 - val_accuracy: 0.7477 - 58s/epoch - 5s/step\n",
            "Epoch 43/50\n",
            "\n",
            "Epoch 43: val_accuracy did not improve from 0.78154\n",
            "11/11 - 57s - loss: 0.0754 - accuracy: 0.9772 - val_loss: 0.5183 - val_accuracy: 0.7754 - 57s/epoch - 5s/step\n",
            "Epoch 44/50\n",
            "\n",
            "Epoch 44: val_accuracy did not improve from 0.78154\n",
            "11/11 - 57s - loss: 0.0599 - accuracy: 0.9829 - val_loss: 0.6627 - val_accuracy: 0.7385 - 57s/epoch - 5s/step\n",
            "Epoch 45/50\n",
            "\n",
            "Epoch 45: val_accuracy improved from 0.78154 to 0.80000, saving model to training_1/cp-0045.ckpt\n",
            "11/11 - 58s - loss: 0.0725 - accuracy: 0.9772 - val_loss: 0.4869 - val_accuracy: 0.8000 - 58s/epoch - 5s/step\n",
            "Epoch 46/50\n",
            "\n",
            "Epoch 46: val_accuracy did not improve from 0.80000\n",
            "11/11 - 56s - loss: 0.0623 - accuracy: 0.9787 - val_loss: 0.5799 - val_accuracy: 0.7662 - 56s/epoch - 5s/step\n",
            "Epoch 47/50\n",
            "\n",
            "Epoch 47: val_accuracy did not improve from 0.80000\n",
            "11/11 - 57s - loss: 0.0641 - accuracy: 0.9801 - val_loss: 0.6154 - val_accuracy: 0.7508 - 57s/epoch - 5s/step\n",
            "Epoch 48/50\n",
            "\n",
            "Epoch 48: val_accuracy did not improve from 0.80000\n",
            "11/11 - 57s - loss: 0.0673 - accuracy: 0.9744 - val_loss: 0.6747 - val_accuracy: 0.7385 - 57s/epoch - 5s/step\n",
            "Epoch 49/50\n",
            "\n",
            "Epoch 49: val_accuracy did not improve from 0.80000\n",
            "11/11 - 56s - loss: 0.0618 - accuracy: 0.9829 - val_loss: 0.7691 - val_accuracy: 0.7169 - 56s/epoch - 5s/step\n",
            "Epoch 50/50\n",
            "\n",
            "Epoch 50: val_accuracy did not improve from 0.80000\n",
            "11/11 - 58s - loss: 0.0535 - accuracy: 0.9872 - val_loss: 0.6033 - val_accuracy: 0.7631 - 58s/epoch - 5s/step\n",
            "\n",
            "Training time: 0:58:06.432822\n"
          ]
        }
      ]
    },
    {
      "cell_type": "code",
      "source": [
        "# loss\n",
        "plt.plot(history.history['loss'], label='train loss')\n",
        "plt.plot(history.history['val_loss'], label='val loss')\n",
        "plt.legend()\n",
        "plt.show()\n",
        "plt.savefig('LossVal_loss')"
      ],
      "metadata": {
        "id": "fmbPyoMj2muY",
        "colab": {
          "base_uri": "https://localhost:8080/",
          "height": 447
        },
        "outputId": "8b89adbc-89f7-4976-d339-eeea18f3c819"
      },
      "execution_count": null,
      "outputs": [
        {
          "output_type": "display_data",
          "data": {
            "text/plain": [
              "<Figure size 640x480 with 1 Axes>"
            ],
            "image/png": "[encoded data removed]"
          },
          "metadata": {}
        },
        {
          "output_type": "display_data",
          "data": {
            "text/plain": [
              "<Figure size 640x480 with 0 Axes>"
            ]
          },
          "metadata": {}
        }
      ]
    },
    {
      "cell_type": "code",
      "source": [
        "# accuracies\n",
        "plt.plot(history.history['accuracy'], label='train acc')\n",
        "plt.plot(history.history['val_accuracy'], label='val acc')\n",
        "plt.legend()\n",
        "plt.show()\n",
        "plt.savefig('AccVal_acc')"
      ],
      "metadata": {
        "id": "o0rnjbvz2zGg",
        "colab": {
          "base_uri": "https://localhost:8080/",
          "height": 449
        },
        "outputId": "3a3392ea-65df-438a-832b-30bddc4102aa"
      },
      "execution_count": null,
      "outputs": [
        {
          "output_type": "display_data",
          "data": {
            "text/plain": [
              "<Figure size 640x480 with 1 Axes>"
            ],
            "image/png": "[encoded data removed]"
          },
          "metadata": {}
        },
        {
          "output_type": "display_data",
          "data": {
            "text/plain": [
              "<Figure size 640x480 with 0 Axes>"
            ]
          },
          "metadata": {}
        }
      ]
    },
    {
      "cell_type": "code",
      "source": [
        "from sklearn.metrics import classification_report, confusion_matrix\n",
        "import itertools\n",
        "\n",
        "def plot_confusion_matrix(cm, classes,\n",
        "                          normalize=False,\n",
        "                          title='Confusion matrix',\n",
        "                          cmap=plt.cm.Blues):\n",
        "    plt.imshow(cm, interpolation='nearest', cmap=cmap)\n",
        "    plt.title(title)\n",
        "    plt.colorbar()\n",
        "    tick_marks = np.arange(len(classes))\n",
        "    plt.xticks(tick_marks, classes, rotation=45)\n",
        "    plt.yticks(tick_marks, classes)\n",
        "\n",
        "    if normalize:\n",
        "        cm = cm.astype('float') / cm.sum(axis=1)[:, np.newaxis]\n",
        "        cm = np.around(cm, decimals=2)\n",
        "        cm[np.isnan(cm)] = 0.0\n",
        "        print(\"Normalized confusion matrix\")\n",
        "    else:\n",
        "        print('Confusion matrix, without normalization')\n",
        "    thresh = cm.max() / 2.\n",
        "\n",
        "    for i, j in itertools.product(range(cm.shape[0]), range(cm.shape[1])):\n",
        "      plt.text(j, i, cm[i, j],\n",
        "               horizontalalignment=\"center\",\n",
        "               color=\"white\" if cm[i, j] > thresh else \"black\")\n",
        "\n",
        "    plt.tight_layout()\n",
        "    plt.ylabel('True label')\n",
        "    plt.xlabel('Predicted label')\n",
        "\n",
        "\n",
        "target_names = []\n",
        "for key in train_generator.class_indices:\n",
        "  target_names.append(key)\n",
        "\n",
        "Y_pred = model.predict(test_generator)\n",
        "y_pred = np.argmax(Y_pred, axis=1)\n",
        "print('Confusion Matrix')\n",
        "cm = confusion_matrix(test_generator.classes, y_pred)\n",
        "plot_confusion_matrix(cm, target_names, title='Confusion Matrix')\n",
        "print('Classification report')\n",
        "print(classification_report(test_generator.classes, y_pred, target_names=target_names))"
      ],
      "metadata": {
        "id": "PANT89hNbhHQ",
        "colab": {
          "base_uri": "https://localhost:8080/",
          "height": 856
        },
        "outputId": "ff63b607-cc3f-4126-b6aa-72c438da6490"
      },
      "execution_count": null,
      "outputs": [
        {
          "output_type": "stream",
          "name": "stdout",
          "text": [
            "6/6 [==============================] - 23s 4s/step\n",
            "Confusion Matrix\n",
            "Confusion matrix, without normalization\n",
            "Classification report\n",
            "              precision    recall  f1-score   support\n",
            "\n",
            "     CRACKED       0.65      1.00      0.79       210\n",
            "      NORMAL       0.00      0.00      0.00       115\n",
            "\n",
            "    accuracy                           0.65       325\n",
            "   macro avg       0.32      0.50      0.39       325\n",
            "weighted avg       0.42      0.65      0.51       325\n",
            "\n"
          ]
        },
        {
          "output_type": "stream",
          "name": "stderr",
          "text": [
            "/usr/local/lib/python3.10/dist-packages/sklearn/metrics/_classification.py:1344: UndefinedMetricWarning: Precision and F-score are ill-defined and being set to 0.0 in labels with no predicted samples. Use `zero_division` parameter to control this behavior.\n",
            "  _warn_prf(average, modifier, msg_start, len(result))\n",
            "/usr/local/lib/python3.10/dist-packages/sklearn/metrics/_classification.py:1344: UndefinedMetricWarning: Precision and F-score are ill-defined and being set to 0.0 in labels with no predicted samples. Use `zero_division` parameter to control this behavior.\n",
            "  _warn_prf(average, modifier, msg_start, len(result))\n",
            "/usr/local/lib/python3.10/dist-packages/sklearn/metrics/_classification.py:1344: UndefinedMetricWarning: Precision and F-score are ill-defined and being set to 0.0 in labels with no predicted samples. Use `zero_division` parameter to control this behavior.\n",
            "  _warn_prf(average, modifier, msg_start, len(result))\n"
          ]
        },
        {
          "output_type": "display_data",
          "data": {
            "text/plain": [
              "<Figure size 640x480 with 2 Axes>"
            ],
            "image/png": "[encoded data removed]"
          },
          "metadata": {}
        }
      ]
    },
    {
      "cell_type": "code",
      "source": [],
      "metadata": {
        "id": "hwCIrKabblYe"
      },
      "execution_count": null,
      "outputs": []
    }
  ]
}