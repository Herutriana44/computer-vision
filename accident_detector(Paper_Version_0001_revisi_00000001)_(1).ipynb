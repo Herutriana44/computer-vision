{
  "nbformat": 4,
  "nbformat_minor": 0,
  "metadata": {
    "colab": {
      "provenance": [],
      "gpuType": "T4"
    },
    "kernelspec": {
      "display_name": "Python 3",
      "name": "python3"
    },
    "language_info": {
      "name": "python"
    },
    "accelerator": "GPU",
    "gpuClass": "standard"
  },
  "cells": [
    {
      "cell_type": "code",
      "metadata": {
        "colab": {
          "base_uri": "https://localhost:8080/"
        },
        "id": "VqV5IS6shddX",
        "outputId": "242555b5-41de-4e8b-c614-7245d9262602"
      },
      "source": [
        "!pip install kaggle"
      ],
      "execution_count": null,
      "outputs": [
        {
          "output_type": "stream",
          "name": "stdout",
          "text": [
            "Looking in indexes: https://pypi.org/simple, https://us-python.pkg.dev/colab-wheels/public/simple/\n",
            "Requirement already satisfied: kaggle in /usr/local/lib/python3.10/dist-packages (1.5.13)\n",
            "Requirement already satisfied: six>=1.10 in /usr/local/lib/python3.10/dist-packages (from kaggle) (1.16.0)\n",
            "Requirement already satisfied: certifi in /usr/local/lib/python3.10/dist-packages (from kaggle) (2022.12.7)\n",
            "Requirement already satisfied: python-dateutil in /usr/local/lib/python3.10/dist-packages (from kaggle) (2.8.2)\n",
            "Requirement already satisfied: requests in /usr/local/lib/python3.10/dist-packages (from kaggle) (2.27.1)\n",
            "Requirement already satisfied: tqdm in /usr/local/lib/python3.10/dist-packages (from kaggle) (4.65.0)\n",
            "Requirement already satisfied: python-slugify in /usr/local/lib/python3.10/dist-packages (from kaggle) (8.0.1)\n",
            "Requirement already satisfied: urllib3 in /usr/local/lib/python3.10/dist-packages (from kaggle) (1.26.15)\n",
            "Requirement already satisfied: text-unidecode>=1.3 in /usr/local/lib/python3.10/dist-packages (from python-slugify->kaggle) (1.3)\n",
            "Requirement already satisfied: charset-normalizer~=2.0.0 in /usr/local/lib/python3.10/dist-packages (from requests->kaggle) (2.0.12)\n",
            "Requirement already satisfied: idna<4,>=2.5 in /usr/local/lib/python3.10/dist-packages (from requests->kaggle) (3.4)\n"
          ]
        }
      ]
    },
    {
      "cell_type": "code",
      "metadata": {
        "colab": {
          "base_uri": "https://localhost:8080/",
          "height": 90
        },
        "id": "DS3jaZ8Phef6",
        "outputId": "7ac54835-5d36-4a1d-830d-a5c9aa1e7192"
      },
      "source": [
        "from google.colab import files\n",
        "files.upload()"
      ],
      "execution_count": null,
      "outputs": [
        {
          "output_type": "display_data",
          "data": {
            "text/plain": [
              "<IPython.core.display.HTML object>"
            ],
            "text/html": [
              "\n",
              "     <input type=\"file\" id=\"files-cab6a7e0-c0e8-4452-950f-1e9d79d0c8bd\" name=\"files[]\" multiple disabled\n",
              "        style=\"border:none\" />\n",
              "     <output id=\"result-cab6a7e0-c0e8-4452-950f-1e9d79d0c8bd\">\n",
              "      Upload widget is only available when the cell has been executed in the\n",
              "      current browser session. Please rerun this cell to enable.\n",
              "      </output>\n",
              "      <script>// Copyright 2017 Google LLC\n",
              "//\n",
              "// Licensed under the Apache License, Version 2.0 (the \"License\");\n",
              "// you may not use this file except in compliance with the License.\n",
              "// You may obtain a copy of the License at\n",
              "//\n",
              "//      http://www.apache.org/licenses/LICENSE-2.0\n",
              "//\n",
              "// Unless required by applicable law or agreed to in writing, software\n",
              "// distributed under the License is distributed on an \"AS IS\" BASIS,\n",
              "// WITHOUT WARRANTIES OR CONDITIONS OF ANY KIND, either express or implied.\n",
              "// See the License for the specific language governing permissions and\n",
              "// limitations under the License.\n",
              "\n",
              "/**\n",
              " * @fileoverview Helpers for google.colab Python module.\n",
              " */\n",
              "(function(scope) {\n",
              "function span(text, styleAttributes = {}) {\n",
              "  const element = document.createElement('span');\n",
              "  element.textContent = text;\n",
              "  for (const key of Object.keys(styleAttributes)) {\n",
              "    element.style[key] = styleAttributes[key];\n",
              "  }\n",
              "  return element;\n",
              "}\n",
              "\n",
              "// Max number of bytes which will be uploaded at a time.\n",
              "const MAX_PAYLOAD_SIZE = 100 * 1024;\n",
              "\n",
              "function _uploadFiles(inputId, outputId) {\n",
              "  const steps = uploadFilesStep(inputId, outputId);\n",
              "  const outputElement = document.getElementById(outputId);\n",
              "  // Cache steps on the outputElement to make it available for the next call\n",
              "  // to uploadFilesContinue from Python.\n",
              "  outputElement.steps = steps;\n",
              "\n",
              "  return _uploadFilesContinue(outputId);\n",
              "}\n",
              "\n",
              "// This is roughly an async generator (not supported in the browser yet),\n",
              "// where there are multiple asynchronous steps and the Python side is going\n",
              "// to poll for completion of each step.\n",
              "// This uses a Promise to block the python side on completion of each step,\n",
              "// then passes the result of the previous step as the input to the next step.\n",
              "function _uploadFilesContinue(outputId) {\n",
              "  const outputElement = document.getElementById(outputId);\n",
              "  const steps = outputElement.steps;\n",
              "\n",
              "  const next = steps.next(outputElement.lastPromiseValue);\n",
              "  return Promise.resolve(next.value.promise).then((value) => {\n",
              "    // Cache the last promise value to make it available to the next\n",
              "    // step of the generator.\n",
              "    outputElement.lastPromiseValue = value;\n",
              "    return next.value.response;\n",
              "  });\n",
              "}\n",
              "\n",
              "/**\n",
              " * Generator function which is called between each async step of the upload\n",
              " * process.\n",
              " * @param {string} inputId Element ID of the input file picker element.\n",
              " * @param {string} outputId Element ID of the output display.\n",
              " * @return {!Iterable<!Object>} Iterable of next steps.\n",
              " */\n",
              "function* uploadFilesStep(inputId, outputId) {\n",
              "  const inputElement = document.getElementById(inputId);\n",
              "  inputElement.disabled = false;\n",
              "\n",
              "  const outputElement = document.getElementById(outputId);\n",
              "  outputElement.innerHTML = '';\n",
              "\n",
              "  const pickedPromise = new Promise((resolve) => {\n",
              "    inputElement.addEventListener('change', (e) => {\n",
              "      resolve(e.target.files);\n",
              "    });\n",
              "  });\n",
              "\n",
              "  const cancel = document.createElement('button');\n",
              "  inputElement.parentElement.appendChild(cancel);\n",
              "  cancel.textContent = 'Cancel upload';\n",
              "  const cancelPromise = new Promise((resolve) => {\n",
              "    cancel.onclick = () => {\n",
              "      resolve(null);\n",
              "    };\n",
              "  });\n",
              "\n",
              "  // Wait for the user to pick the files.\n",
              "  const files = yield {\n",
              "    promise: Promise.race([pickedPromise, cancelPromise]),\n",
              "    response: {\n",
              "      action: 'starting',\n",
              "    }\n",
              "  };\n",
              "\n",
              "  cancel.remove();\n",
              "\n",
              "  // Disable the input element since further picks are not allowed.\n",
              "  inputElement.disabled = true;\n",
              "\n",
              "  if (!files) {\n",
              "    return {\n",
              "      response: {\n",
              "        action: 'complete',\n",
              "      }\n",
              "    };\n",
              "  }\n",
              "\n",
              "  for (const file of files) {\n",
              "    const li = document.createElement('li');\n",
              "    li.append(span(file.name, {fontWeight: 'bold'}));\n",
              "    li.append(span(\n",
              "        `(${file.type || 'n/a'}) - ${file.size} bytes, ` +\n",
              "        `last modified: ${\n",
              "            file.lastModifiedDate ? file.lastModifiedDate.toLocaleDateString() :\n",
              "                                    'n/a'} - `));\n",
              "    const percent = span('0% done');\n",
              "    li.appendChild(percent);\n",
              "\n",
              "    outputElement.appendChild(li);\n",
              "\n",
              "    const fileDataPromise = new Promise((resolve) => {\n",
              "      const reader = new FileReader();\n",
              "      reader.onload = (e) => {\n",
              "        resolve(e.target.result);\n",
              "      };\n",
              "      reader.readAsArrayBuffer(file);\n",
              "    });\n",
              "    // Wait for the data to be ready.\n",
              "    let fileData = yield {\n",
              "      promise: fileDataPromise,\n",
              "      response: {\n",
              "        action: 'continue',\n",
              "      }\n",
              "    };\n",
              "\n",
              "    // Use a chunked sending to avoid message size limits. See b/62115660.\n",
              "    let position = 0;\n",
              "    do {\n",
              "      const length = Math.min(fileData.byteLength - position, MAX_PAYLOAD_SIZE);\n",
              "      const chunk = new Uint8Array(fileData, position, length);\n",
              "      position += length;\n",
              "\n",
              "      const base64 = btoa(String.fromCharCode.apply(null, chunk));\n",
              "      yield {\n",
              "        response: {\n",
              "          action: 'append',\n",
              "          file: file.name,\n",
              "          data: base64,\n",
              "        },\n",
              "      };\n",
              "\n",
              "      let percentDone = fileData.byteLength === 0 ?\n",
              "          100 :\n",
              "          Math.round((position / fileData.byteLength) * 100);\n",
              "      percent.textContent = `${percentDone}% done`;\n",
              "\n",
              "    } while (position < fileData.byteLength);\n",
              "  }\n",
              "\n",
              "  // All done.\n",
              "  yield {\n",
              "    response: {\n",
              "      action: 'complete',\n",
              "    }\n",
              "  };\n",
              "}\n",
              "\n",
              "scope.google = scope.google || {};\n",
              "scope.google.colab = scope.google.colab || {};\n",
              "scope.google.colab._files = {\n",
              "  _uploadFiles,\n",
              "  _uploadFilesContinue,\n",
              "};\n",
              "})(self);\n",
              "</script> "
            ]
          },
          "metadata": {}
        },
        {
          "output_type": "stream",
          "name": "stdout",
          "text": [
            "Saving kaggle.json to kaggle.json\n"
          ]
        },
        {
          "output_type": "execute_result",
          "data": {
            "text/plain": [
              "{'kaggle.json': b'{\"username\":\"syahidnr\",\"key\":\"41d53f2b5ab1412dd3a32a34ebc7f47e\"}'}"
            ]
          },
          "metadata": {},
          "execution_count": 5
        }
      ]
    },
    {
      "cell_type": "code",
      "metadata": {
        "id": "uKMKTF_vhepW"
      },
      "source": [
        "!mkdir -p ~/.kaggle\n",
        "!cp kaggle.json ~/.kaggle/\n",
        "!chmod 600 ~/.kaggle/kaggle.json"
      ],
      "execution_count": null,
      "outputs": []
    },
    {
      "cell_type": "code",
      "metadata": {
        "colab": {
          "base_uri": "https://localhost:8080/"
        },
        "id": "s1IO7CLPhew0",
        "outputId": "2147973d-7466-433e-c082-6b3c7c7c9e70"
      },
      "source": [
        "!kaggle datasets download -d raingel/rice-leaf-disease"
      ],
      "execution_count": null,
      "outputs": [
        {
          "output_type": "stream",
          "name": "stdout",
          "text": [
            "Downloading rice-leaf-disease.zip to /content\n",
            "100% 2.47G/2.47G [02:07<00:00, 23.9MB/s]\n",
            "100% 2.47G/2.47G [02:07<00:00, 20.8MB/s]\n"
          ]
        }
      ]
    },
    {
      "cell_type": "code",
      "metadata": {
        "id": "itLIrDI8hq3c"
      },
      "source": [
        "import tensorflow as tensor\n",
        "from tensorflow.keras.optimizers import RMSprop\n",
        "from tensorflow.keras.preprocessing.image import ImageDataGenerator"
      ],
      "execution_count": null,
      "outputs": []
    },
    {
      "cell_type": "code",
      "metadata": {
        "id": "j5ugLFKfiScO"
      },
      "source": [
        "import zipfile,os\n",
        "zip_lcl = '/content/rice-leaf-disease.zip'\n",
        "rzip = zipfile.ZipFile(zip_lcl, 'r')\n",
        "rzip.extractall('/tmp')\n",
        "rzip.close()"
      ],
      "execution_count": null,
      "outputs": []
    },
    {
      "cell_type": "code",
      "source": [
        "alllabel = [\n",
        "    'BO',\n",
        "    'MO',\n",
        "    'NO_DISEASE'\n",
        "]"
      ],
      "metadata": {
        "id": "bOf04OIhL8fR"
      },
      "execution_count": null,
      "outputs": []
    },
    {
      "cell_type": "code",
      "source": [
        "!mkdir /tmp/rice_leaf_disease"
      ],
      "metadata": {
        "id": "EjdsF8XpMITF"
      },
      "execution_count": null,
      "outputs": []
    },
    {
      "cell_type": "code",
      "source": [
        "import os\n",
        "import shutil\n",
        "\n",
        "# Path ke direktori tujuan\n",
        "target_dir = '/tmp/rice_leaf_disease/'\n",
        "\n",
        "# Membuat direktori tujuan jika belum ada\n",
        "if not os.path.exists(target_dir):\n",
        "    os.makedirs(target_dir)\n",
        "\n",
        "# Melakukan iterasi pada setiap label\n",
        "for label in alllabel:\n",
        "    # Path ke direktori sumber\n",
        "    source_dir = f'/tmp/{label}/'\n",
        "\n",
        "    # Memindahkan direktori ke direktori tujuan\n",
        "    shutil.move(source_dir, target_dir)\n",
        "\n",
        "    # Memberikan pesan keberhasilan\n",
        "    print(f'{source_dir} berhasil dipindahkan ke {target_dir}')\n"
      ],
      "metadata": {
        "colab": {
          "base_uri": "https://localhost:8080/"
        },
        "id": "XQ41VuazMTX4",
        "outputId": "8b7d2efb-922c-42ed-816f-cb7aa9695288"
      },
      "execution_count": null,
      "outputs": [
        {
          "output_type": "stream",
          "name": "stdout",
          "text": [
            "/tmp/BO/ berhasil dipindahkan ke /tmp/rice_leaf_disease/\n",
            "/tmp/MO/ berhasil dipindahkan ke /tmp/rice_leaf_disease/\n",
            "/tmp/NO_DISEASE/ berhasil dipindahkan ke /tmp/rice_leaf_disease/\n"
          ]
        }
      ]
    },
    {
      "cell_type": "code",
      "source": [
        "dirbase = '/tmp/rice_leaf_disease/'"
      ],
      "metadata": {
        "id": "Lr84WpNiJJBx"
      },
      "execution_count": null,
      "outputs": []
    },
    {
      "cell_type": "code",
      "source": [
        "import os\n",
        "import random\n",
        "import shutil\n",
        "\n",
        "# Path ke direktori sumber\n",
        "source_dir = dirbase\n",
        "\n",
        "# Path ke direktori tujuan train\n",
        "train_dir = dirbase+'train/'\n",
        "\n",
        "# Path ke direktori tujuan validation\n",
        "val_dir = dirbase+'val/'\n",
        "\n",
        "# Daftar label\n",
        "labels = [\n",
        "    'BO',\n",
        "    'MO',\n",
        "    'NO_DISEASE'\n",
        "]\n",
        "\n",
        "# Rasio data train dan validation\n",
        "train_ratio = 0.8\n",
        "val_ratio = 0.2\n",
        "\n",
        "# Membuat direktori train dan val jika belum ada\n",
        "if not os.path.exists(train_dir):\n",
        "    os.makedirs(train_dir)\n",
        "\n",
        "if not os.path.exists(val_dir):\n",
        "    os.makedirs(val_dir)\n",
        "\n",
        "# Melakukan iterasi pada setiap label\n",
        "for label in labels:\n",
        "    # Path ke direktori label\n",
        "    label_dir = f'{source_dir}{label}/'\n",
        "\n",
        "    # Path ke direktori train label\n",
        "    train_label_dir = f'{train_dir}{label}/'\n",
        "\n",
        "    # Path ke direktori val label\n",
        "    val_label_dir = f'{val_dir}{label}/'\n",
        "\n",
        "    # Membuat direktori train dan val label jika belum ada\n",
        "    if not os.path.exists(train_label_dir):\n",
        "        os.makedirs(train_label_dir)\n",
        "\n",
        "    if not os.path.exists(val_label_dir):\n",
        "        os.makedirs(val_label_dir)\n",
        "\n",
        "    # Mendapatkan daftar nama file dalam direktori label\n",
        "    filenames = os.listdir(label_dir)\n",
        "\n",
        "    # Mengacak urutan file\n",
        "    random.shuffle(filenames)\n",
        "\n",
        "    # Menghitung jumlah data train dan val\n",
        "    train_count = int(len(filenames) * train_ratio)\n",
        "    val_count = len(filenames) - train_count\n",
        "\n",
        "    # Memindahkan data train\n",
        "    for i in range(train_count):\n",
        "        src = f'{label_dir}{filenames[i]}'\n",
        "        dst = f'{train_label_dir}{filenames[i]}'\n",
        "        shutil.move(src, dst)\n",
        "\n",
        "    # Memindahkan data val\n",
        "    for i in range(train_count, train_count+val_count):\n",
        "        src = f'{label_dir}{filenames[i]}'\n",
        "        dst = f'{val_label_dir}{filenames[i]}'\n",
        "        shutil.move(src, dst)\n",
        "\n",
        "    # Memberikan pesan keberhasilan\n",
        "    print(f'{label} berhasil dibagi menjadi data train dan val')\n"
      ],
      "metadata": {
        "colab": {
          "base_uri": "https://localhost:8080/"
        },
        "id": "q1uU4dhjODoL",
        "outputId": "a7cff899-ca55-48e3-f627-b9768f0043c3"
      },
      "execution_count": null,
      "outputs": [
        {
          "output_type": "stream",
          "name": "stdout",
          "text": [
            "BO berhasil dibagi menjadi data train dan val\n",
            "MO berhasil dibagi menjadi data train dan val\n",
            "NO_DISEASE berhasil dibagi menjadi data train dan val\n"
          ]
        }
      ]
    },
    {
      "cell_type": "code",
      "source": [
        "dir_latih = os.path.join(dirbase, 'train')\n",
        "dir_valid = os.path.join(dirbase, 'val')"
      ],
      "metadata": {
        "id": "Om3En1GBJmfl"
      },
      "execution_count": null,
      "outputs": []
    },
    {
      "cell_type": "code",
      "metadata": {
        "colab": {
          "base_uri": "https://localhost:8080/"
        },
        "id": "lY5jPnsIi0kA",
        "outputId": "48d35d41-c973-4e43-be95-86dbc7246e82"
      },
      "source": [
        "os.listdir(f'{train_dir}')"
      ],
      "execution_count": null,
      "outputs": [
        {
          "output_type": "execute_result",
          "data": {
            "text/plain": [
              "['BO', 'NO_DISEASE', 'MO']"
            ]
          },
          "metadata": {},
          "execution_count": 16
        }
      ]
    },
    {
      "cell_type": "code",
      "metadata": {
        "colab": {
          "base_uri": "https://localhost:8080/"
        },
        "id": "r1qpWCEOi67F",
        "outputId": "d16224d2-3b9e-4fde-842d-35e3dc6cd4fa"
      },
      "source": [
        "os.listdir(f'{val_dir}')"
      ],
      "execution_count": null,
      "outputs": [
        {
          "output_type": "execute_result",
          "data": {
            "text/plain": [
              "['BO', 'NO_DISEASE', 'MO']"
            ]
          },
          "metadata": {},
          "execution_count": 17
        }
      ]
    },
    {
      "cell_type": "code",
      "metadata": {
        "id": "oIMQEYABjPI_"
      },
      "source": [
        "data_latih = ImageDataGenerator(\n",
        "    rescale=1./255,\n",
        "    rotation_range=20,\n",
        "    horizontal_flip=True,\n",
        "    shear_range=0)\n",
        "data_valid = ImageDataGenerator(\n",
        "    rescale=1./255,\n",
        "    rotation_range=20,\n",
        "    horizontal_flip=True,\n",
        "    validation_split=0.9,\n",
        "    shear_range=0)"
      ],
      "execution_count": null,
      "outputs": []
    },
    {
      "cell_type": "code",
      "metadata": {
        "colab": {
          "base_uri": "https://localhost:8080/"
        },
        "id": "pD6CEho-jRQF",
        "outputId": "08e91631-d2fb-4645-8e17-60d02c50b605"
      },
      "source": [
        "generator_latih = data_latih.flow_from_directory(\n",
        "    directory=dir_latih,\n",
        "    target_size=(150,150),\n",
        "    batch_size=50,\n",
        "    subset='training',)\n",
        "generator_valid = data_valid.flow_from_directory(\n",
        "    directory=dir_valid,\n",
        "    target_size=(150,150),\n",
        "    batch_size=50,\n",
        "    subset='validation')"
      ],
      "execution_count": null,
      "outputs": [
        {
          "output_type": "stream",
          "name": "stdout",
          "text": [
            "Found 740 images belonging to 3 classes.\n",
            "Found 167 images belonging to 3 classes.\n"
          ]
        }
      ]
    },
    {
      "cell_type": "code",
      "metadata": {
        "id": "iofodE51kk8h"
      },
      "source": [
        "model = tensor.keras.models.Sequential([\n",
        "  tensor.keras.layers.Conv2D(32,3,activation='relu',input_shape=(150,150,3)),\n",
        "  tensor.keras.layers.MaxPooling2D(),\n",
        "  tensor.keras.layers.Conv2D(64,3,activation='relu',kernel_regularizer='l2'),\n",
        "  tensor.keras.layers.MaxPooling2D(),\n",
        "  tensor.keras.layers.Conv2D(128,3,activation='relu',kernel_regularizer='l2'),\n",
        "  tensor.keras.layers.MaxPooling2D(),\n",
        "  tensor.keras.layers.Flatten(),\n",
        "  tensor.keras.layers.Dense(256, activation='relu',kernel_regularizer='l2'),\n",
        "  tensor.keras.layers.Dense(3, activation='softmax')\n",
        "  ])"
      ],
      "execution_count": null,
      "outputs": []
    },
    {
      "cell_type": "code",
      "metadata": {
        "id": "xZnGzmcJjxze"
      },
      "source": [
        "model.compile(loss='categorical_crossentropy',\n",
        "              optimizer='adam',\n",
        "              metrics=['accuracy'])"
      ],
      "execution_count": null,
      "outputs": []
    },
    {
      "cell_type": "code",
      "source": [
        "model.build([150,150,3])"
      ],
      "metadata": {
        "id": "fVITAQLpi1TH"
      },
      "execution_count": null,
      "outputs": []
    },
    {
      "cell_type": "code",
      "metadata": {
        "colab": {
          "base_uri": "https://localhost:8080/",
          "height": 630
        },
        "id": "yaHXnfTmcDhl",
        "outputId": "2dee1c74-454c-44b6-97bb-e0fd822ace16"
      },
      "source": [
        "model_viz = tensor.keras.utils.plot_model(model,\n",
        "                          to_file='model.png',\n",
        "                          show_shapes=True,\n",
        "                          show_layer_names=True,\n",
        "                          rankdir='TB',\n",
        "                          expand_nested=True,\n",
        "                          dpi=55)\n",
        "model_viz"
      ],
      "execution_count": null,
      "outputs": [
        {
          "output_type": "execute_result",
          "data": {
            "image/png": "[encoded data removed]",
            "text/plain": [
              "<IPython.core.display.Image object>"
            ]
          },
          "metadata": {},
          "execution_count": 23
        }
      ]
    },
    {
      "cell_type": "code",
      "metadata": {
        "id": "2eqwNrC1jztW"
      },
      "source": [
        "from tensorflow.keras.callbacks import EarlyStopping\n",
        "from tensorflow.keras.callbacks import ModelCheckpoint\n",
        "\n",
        "cekmodel = ModelCheckpoint(filepath='model.hdf5',monitor='val_accuracy',mode='max',verbose=2,save_best_only=True)"
      ],
      "execution_count": null,
      "outputs": []
    },
    {
      "cell_type": "code",
      "metadata": {
        "id": "q4_Pgl4Be0YN"
      },
      "source": [
        "class myCallback(tensor.keras.callbacks.Callback):\n",
        "  def on_epoch_end(self, epoch, logs={}):\n",
        "    if(logs.get('val_accuracy') > 0.80):\n",
        "      print(\"\\nAkurasi di atas 80%, hentikan training!\")\n",
        "      self.model.stop_training = True\n",
        "\n",
        "callbacks = myCallback()"
      ],
      "execution_count": null,
      "outputs": []
    },
    {
      "cell_type": "code",
      "metadata": {
        "colab": {
          "base_uri": "https://localhost:8080/"
        },
        "id": "5W3Q26DZj14O",
        "outputId": "9060d890-135d-412a-f002-a6c8a60137e8"
      },
      "source": [
        "history = model.fit(\n",
        "    generator_latih,\n",
        "    #steps_per_epoch=25, # 634 images = batch_size * steps\n",
        "    epochs=150,\n",
        "    validation_data=generator_valid,\n",
        "    #validation_steps=6, # 96 images = batch_size * steps\n",
        "    verbose=2,\n",
        "    callbacks=[callbacks])"
      ],
      "execution_count": null,
      "outputs": [
        {
          "output_type": "stream",
          "name": "stdout",
          "text": [
            "Epoch 1/150\n",
            "15/15 - 195s - loss: 4.0880 - accuracy: 0.5851 - val_loss: 2.2181 - val_accuracy: 0.7425 - 195s/epoch - 13s/step\n",
            "Epoch 2/150\n",
            "15/15 - 175s - loss: 1.9126 - accuracy: 0.7257 - val_loss: 1.3988 - val_accuracy: 0.7665 - 175s/epoch - 12s/step\n",
            "Epoch 3/150\n",
            "15/15 - 174s - loss: 1.2709 - accuracy: 0.7649 - val_loss: 1.0539 - val_accuracy: 0.7904 - 174s/epoch - 12s/step\n",
            "Epoch 4/150\n",
            "15/15 - 172s - loss: 1.0152 - accuracy: 0.8027 - val_loss: 0.8919 - val_accuracy: 0.7904 - 172s/epoch - 11s/step\n",
            "Epoch 5/150\n",
            "\n",
            "Akurasi di atas 80%, hentikan training!\n",
            "15/15 - 172s - loss: 0.9479 - accuracy: 0.8027 - val_loss: 0.8033 - val_accuracy: 0.8144 - 172s/epoch - 11s/step\n"
          ]
        }
      ]
    },
    {
      "cell_type": "code",
      "source": [
        "model.save('model.h5')"
      ],
      "metadata": {
        "id": "J38_Cq7mOyjz"
      },
      "execution_count": null,
      "outputs": []
    },
    {
      "cell_type": "code",
      "metadata": {
        "id": "TC902yTpj6jn",
        "colab": {
          "base_uri": "https://localhost:8080/",
          "height": 927
        },
        "outputId": "479a8952-b2c8-4850-93a7-cbf0a07b29fd"
      },
      "source": [
        "import matplotlib.pyplot as plt\n",
        "plt.plot(history.history['accuracy'])\n",
        "plt.plot(history.history['val_accuracy'])\n",
        "plt.title('Akurasi Model')\n",
        "plt.ylabel('Accuracy')\n",
        "plt.xlabel('Epochs')\n",
        "plt.legend(['train', 'validation'], loc='upper left')\n",
        "plt.show()\n",
        "\n",
        "plt.plot(history.history['loss'])\n",
        "plt.plot(history.history['val_loss'])\n",
        "plt.title('Loss Model')\n",
        "plt.ylabel('Loss')\n",
        "plt.xlabel('Epochs')\n",
        "plt.legend(['train', 'validation'], loc='upper left')\n",
        "plt.show()"
      ],
      "execution_count": null,
      "outputs": [
        {
          "output_type": "display_data",
          "data": {
            "text/plain": [
              "<Figure size 640x480 with 1 Axes>"
            ],
            "image/png": "[encoded data removed]"
          },
          "metadata": {}
        },
        {
          "output_type": "display_data",
          "data": {
            "text/plain": [
              "<Figure size 640x480 with 1 Axes>"
            ],
            "image/png": "[encoded data removed]"
          },
          "metadata": {}
        }
      ]
    }
  ]
}