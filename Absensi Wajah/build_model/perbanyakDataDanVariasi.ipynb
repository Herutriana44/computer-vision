{
 "cells": [
  {
   "cell_type": "code",
   "execution_count": 9,
   "metadata": {},
   "outputs": [],
   "source": [
    "import os\n",
    "import random as rd\n",
    "import numpy as np\n",
    "import matplotlib.pyplot as plt\n",
    "\n",
    "data_dir = 'dataset'\n",
    "\n",
    "# List all image files in the dataset directory\n",
    "image_files = [os.path.join(data_dir, f) for f in os.listdir(data_dir) if f.endswith('.jpeg')]\n",
    "\n",
    "# buat variasi gambar dengan flip rotate dan zoom\n",
    "from keras.preprocessing.image import ImageDataGenerator\n",
    "\n",
    "# buat objek ImageDataGenerator\n",
    "datagen = ImageDataGenerator(\n",
    "    rotation_range=40,\n",
    "    width_shift_range=0.2,\n",
    "    height_shift_range=0.2,\n",
    "    rescale=1./255,\n",
    "    shear_range=0.2,\n",
    "    zoom_range=0.2,\n",
    "    horizontal_flip=True,\n",
    "    fill_mode='nearest')\n",
    "\n",
    "# buat direktori untuk menyimpan gambar yang telah di augmentasi\n",
    "augmented_dir = 'dataset'\n",
    "\n",
    "# simpan gambar yang telah di augmentasi dengan nama file sesuai label\n",
    "for image_file in image_files:\n",
    "    # baca gambar\n",
    "    img = plt.imread(image_file)\n",
    "    # ubah dimensi gambar menjadi (1, x, y, channel)\n",
    "    img = img.reshape((1,) + img.shape)\n",
    "    # buat nama file baru\n",
    "    label = image_file.split('/')[-1].split('.')[0]\n",
    "    i = 0\n",
    "    for batch in datagen.flow(img, batch_size=1, save_to_dir=augmented_dir, save_prefix=label, save_format='jpg'):\n",
    "        i += 1\n",
    "        if i > 20:\n",
    "            break\n",
    "\n",
    "# Path: BuildModel/latihModel.ipynb"
   ]
  },
  {
   "cell_type": "code",
   "execution_count": 3,
   "metadata": {},
   "outputs": [],
   "source": [
    "import mediapipe as mp\n",
    "import cv2\n",
    "import matplotlib.pyplot as plt\n",
    "\n",
    "mp_face_detection = mp.solutions.face_detection\n",
    "\n",
    "# Load gambar\n",
    "image = cv2.imread(\"dataset/1.jpeg\")\n",
    "\n",
    "# Konversi gambar ke RGB\n",
    "#image = cv2.cvtColor(image, cv2.COLOR_BGR2RGB)\n",
    "\n",
    "# Deteksi wajah pada gambar\n",
    "with mp_face_detection.FaceDetection(min_detection_confidence=0.5) as face_detection:\n",
    "    results = face_detection.process(image)\n",
    "    if results.detections:\n",
    "        for detection in results.detections:\n",
    "            bbox = detection.location_data.relative_bounding_box\n",
    "            h, w, c = image.shape\n",
    "            x = int(bbox.xmin * w)\n",
    "            y = int(bbox.ymin * h)\n",
    "            width = int(bbox.width * w)\n",
    "            height = int(bbox.height * h)\n",
    "            crop_img = image[y:y+height, x:x+width]\n",
    "\n",
    "# Tampilkan gambar hasil crop\n",
    "cv2.imshow(\"Cropped Image\", crop_img)\n",
    "cv2.waitKey(0)\n"
   ]
  },
  {
   "cell_type": "code",
   "execution_count": 3,
   "metadata": {},
   "outputs": [],
   "source": [
    "import mediapipe as mp\n",
    "import cv2\n",
    "\n",
    "mp_face_detection = mp.solutions.face_detection\n",
    "\n",
    "def crop_face(image_path):\n",
    "    # Load gambar\n",
    "    image = cv2.imread(image_path)\n",
    "    # Deteksi wajah pada gambar\n",
    "    with mp_face_detection.FaceDetection(min_detection_confidence=0.5) as face_detection:\n",
    "        results = face_detection.process(image)\n",
    "        if results.detections:\n",
    "            for detection in results.detections:\n",
    "                bbox = detection.location_data.relative_bounding_box\n",
    "                h, w, c = image.shape\n",
    "                x = int(bbox.xmin * w)\n",
    "                y = int(bbox.ymin * h)\n",
    "                width = int(bbox.width * w)\n",
    "                height = int(bbox.height * h)\n",
    "                crop_img = image[y:y+height, x:x+width]\n",
    "    cv2.imwrite(image_path, crop_img)\n",
    "    return crop_img\n"
   ]
  },
  {
   "cell_type": "code",
   "execution_count": 4,
   "metadata": {},
   "outputs": [
    {
     "name": "stdout",
     "output_type": "stream",
     "text": [
      "dataset/4.jpeg\n",
      "dataset/1.jpeg\n",
      "dataset/7.jpeg\n",
      "dataset/0.jpeg\n",
      "dataset/2.jpeg\n",
      "dataset/3.jpeg\n",
      "dataset/6.jpeg\n",
      "dataset/5.jpeg\n",
      "dataset/8.jpeg\n",
      "dataset/11.jpeg\n"
     ]
    },
    {
     "name": "stderr",
     "output_type": "stream",
     "text": [
      "INFO: Created TensorFlow Lite XNNPACK delegate for CPU.\n"
     ]
    },
    {
     "name": "stdout",
     "output_type": "stream",
     "text": [
      "dataset/10.jpeg\n",
      "dataset/9.jpeg\n"
     ]
    }
   ],
   "source": [
    "import os\n",
    "\n",
    "data_dir = 'dataset'\n",
    "image_files = [os.path.join(data_dir, f) for f in os.listdir(data_dir) if f.endswith('.jpeg')]\n",
    "\n",
    "for image in image_files:\n",
    "    print(image)\n",
    "    crop_face(image)"
   ]
  },
  {
   "cell_type": "code",
   "execution_count": 10,
   "metadata": {},
   "outputs": [
    {
     "ename": "NotADirectoryError",
     "evalue": "[Errno 20] Not a directory: 'dataset/4.jpeg/4.jpeg'",
     "output_type": "error",
     "traceback": [
      "\u001b[0;31m---------------------------------------------------------------------------\u001b[0m",
      "\u001b[0;31mNotADirectoryError\u001b[0m                        Traceback (most recent call last)",
      "File \u001b[0;32m/usr/lib/python3.9/shutil.py:806\u001b[0m, in \u001b[0;36mmove\u001b[0;34m(src, dst, copy_function)\u001b[0m\n\u001b[1;32m    805\u001b[0m \u001b[39mtry\u001b[39;00m:\n\u001b[0;32m--> 806\u001b[0m     os\u001b[39m.\u001b[39;49mrename(src, real_dst)\n\u001b[1;32m    807\u001b[0m \u001b[39mexcept\u001b[39;00m \u001b[39mOSError\u001b[39;00m:\n",
      "\u001b[0;31mNotADirectoryError\u001b[0m: [Errno 20] Not a directory: 'dataset/4.jpeg' -> 'dataset/4.jpeg/4.jpeg'",
      "\nDuring handling of the above exception, another exception occurred:\n",
      "\u001b[0;31mNotADirectoryError\u001b[0m                        Traceback (most recent call last)",
      "Cell \u001b[0;32mIn[10], line 21\u001b[0m\n\u001b[1;32m     19\u001b[0m file_path \u001b[39m=\u001b[39m os\u001b[39m.\u001b[39mpath\u001b[39m.\u001b[39mjoin(path, file_name)\n\u001b[1;32m     20\u001b[0m new_file_path \u001b[39m=\u001b[39m os\u001b[39m.\u001b[39mpath\u001b[39m.\u001b[39mjoin(sub_dir_path, file_name)\n\u001b[0;32m---> 21\u001b[0m shutil\u001b[39m.\u001b[39;49mmove(file_path, new_file_path)\n",
      "File \u001b[0;32m/usr/lib/python3.9/shutil.py:820\u001b[0m, in \u001b[0;36mmove\u001b[0;34m(src, dst, copy_function)\u001b[0m\n\u001b[1;32m    818\u001b[0m         rmtree(src)\n\u001b[1;32m    819\u001b[0m     \u001b[39melse\u001b[39;00m:\n\u001b[0;32m--> 820\u001b[0m         copy_function(src, real_dst)\n\u001b[1;32m    821\u001b[0m         os\u001b[39m.\u001b[39munlink(src)\n\u001b[1;32m    822\u001b[0m \u001b[39mreturn\u001b[39;00m real_dst\n",
      "File \u001b[0;32m/usr/lib/python3.9/shutil.py:435\u001b[0m, in \u001b[0;36mcopy2\u001b[0;34m(src, dst, follow_symlinks)\u001b[0m\n\u001b[1;32m    433\u001b[0m \u001b[39mif\u001b[39;00m os\u001b[39m.\u001b[39mpath\u001b[39m.\u001b[39misdir(dst):\n\u001b[1;32m    434\u001b[0m     dst \u001b[39m=\u001b[39m os\u001b[39m.\u001b[39mpath\u001b[39m.\u001b[39mjoin(dst, os\u001b[39m.\u001b[39mpath\u001b[39m.\u001b[39mbasename(src))\n\u001b[0;32m--> 435\u001b[0m copyfile(src, dst, follow_symlinks\u001b[39m=\u001b[39;49mfollow_symlinks)\n\u001b[1;32m    436\u001b[0m copystat(src, dst, follow_symlinks\u001b[39m=\u001b[39mfollow_symlinks)\n\u001b[1;32m    437\u001b[0m \u001b[39mreturn\u001b[39;00m dst\n",
      "File \u001b[0;32m/usr/lib/python3.9/shutil.py:264\u001b[0m, in \u001b[0;36mcopyfile\u001b[0;34m(src, dst, follow_symlinks)\u001b[0m\n\u001b[1;32m    262\u001b[0m     os\u001b[39m.\u001b[39msymlink(os\u001b[39m.\u001b[39mreadlink(src), dst)\n\u001b[1;32m    263\u001b[0m \u001b[39melse\u001b[39;00m:\n\u001b[0;32m--> 264\u001b[0m     \u001b[39mwith\u001b[39;00m \u001b[39mopen\u001b[39m(src, \u001b[39m'\u001b[39m\u001b[39mrb\u001b[39m\u001b[39m'\u001b[39m) \u001b[39mas\u001b[39;00m fsrc, \u001b[39mopen\u001b[39;49m(dst, \u001b[39m'\u001b[39;49m\u001b[39mwb\u001b[39;49m\u001b[39m'\u001b[39;49m) \u001b[39mas\u001b[39;00m fdst:\n\u001b[1;32m    265\u001b[0m         \u001b[39m# macOS\u001b[39;00m\n\u001b[1;32m    266\u001b[0m         \u001b[39mif\u001b[39;00m _HAS_FCOPYFILE:\n\u001b[1;32m    267\u001b[0m             \u001b[39mtry\u001b[39;00m:\n",
      "\u001b[0;31mNotADirectoryError\u001b[0m: [Errno 20] Not a directory: 'dataset/4.jpeg/4.jpeg'"
     ]
    }
   ],
   "source": [
    "import os\n",
    "import shutil\n",
    "\n",
    "# Path ke direktori gambar\n",
    "path = \"dataset\"\n",
    "\n",
    "# Looping melalui semua file gambar dalam direktori\n",
    "for file_name in os.listdir(path):\n",
    "    if file_name.endswith(\".jpeg\") or file_name.endswith(\".jpg\"):\n",
    "        # Mendapatkan nama direktori sub berdasarkan nama file\n",
    "        sub_dir_name = file_name.split(\"_\")[0]\n",
    "        \n",
    "        # Membuat sub direktori jika belum ada\n",
    "        sub_dir_path = os.path.join(path, sub_dir_name)\n",
    "        if not os.path.exists(sub_dir_path):\n",
    "            os.mkdir(sub_dir_path)\n",
    "            \n",
    "        # Memindahkan file gambar ke sub direktori\n",
    "        file_path = os.path.join(path, file_name)\n",
    "        new_file_path = os.path.join(sub_dir_path, file_name)\n",
    "        shutil.move(file_path, new_file_path)\n"
   ]
  }
 ],
 "metadata": {
  "kernelspec": {
   "display_name": "Python 3",
   "language": "python",
   "name": "python3"
  },
  "language_info": {
   "codemirror_mode": {
    "name": "ipython",
    "version": 3
   },
   "file_extension": ".py",
   "mimetype": "text/x-python",
   "name": "python",
   "nbconvert_exporter": "python",
   "pygments_lexer": "ipython3",
   "version": "3.9.2 (default, Feb 28 2021, 17:03:44) \n[GCC 10.2.1 20210110]"
  },
  "orig_nbformat": 4,
  "vscode": {
   "interpreter": {
    "hash": "916dbcbb3f70747c44a77c7bcd40155683ae19c65e1c03b4aa3499c5328201f1"
   }
  }
 },
 "nbformat": 4,
 "nbformat_minor": 2
}
