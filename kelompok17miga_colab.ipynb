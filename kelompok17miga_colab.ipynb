{
  "metadata": {
    "kernelspec": {
      "language": "python",
      "display_name": "Python 3",
      "name": "python3"
    },
    "language_info": {
      "name": "python",
      "version": "3.7.12",
      "mimetype": "text/x-python",
      "codemirror_mode": {
        "name": "ipython",
        "version": 3
      },
      "pygments_lexer": "ipython3",
      "nbconvert_exporter": "python",
      "file_extension": ".py"
    },
    "colab": {
      "provenance": []
    },
    "gpuClass": "standard"
  },
  "nbformat_minor": 0,
  "nbformat": 4,
  "cells": [
    {
      "cell_type": "code",
      "source": [
        "!pip install kaggle"
      ],
      "metadata": {
        "colab": {
          "base_uri": "https://localhost:8080/"
        },
        "id": "uWggAwuKAkgy",
        "outputId": "c9d9d0e0-546e-441c-edf2-c7e5edab12d5"
      },
      "execution_count": null,
      "outputs": [
        {
          "output_type": "stream",
          "name": "stdout",
          "text": [
            "Looking in indexes: https://pypi.org/simple, https://us-python.pkg.dev/colab-wheels/public/simple/\n",
            "Requirement already satisfied: kaggle in /usr/local/lib/python3.7/dist-packages (1.5.12)\n",
            "Requirement already satisfied: six>=1.10 in /usr/local/lib/python3.7/dist-packages (from kaggle) (1.15.0)\n",
            "Requirement already satisfied: python-dateutil in /usr/local/lib/python3.7/dist-packages (from kaggle) (2.8.2)\n",
            "Requirement already satisfied: requests in /usr/local/lib/python3.7/dist-packages (from kaggle) (2.23.0)\n",
            "Requirement already satisfied: python-slugify in /usr/local/lib/python3.7/dist-packages (from kaggle) (6.1.2)\n",
            "Requirement already satisfied: tqdm in /usr/local/lib/python3.7/dist-packages (from kaggle) (4.64.0)\n",
            "Requirement already satisfied: certifi in /usr/local/lib/python3.7/dist-packages (from kaggle) (2022.6.15)\n",
            "Requirement already satisfied: urllib3 in /usr/local/lib/python3.7/dist-packages (from kaggle) (1.24.3)\n",
            "Requirement already satisfied: text-unidecode>=1.3 in /usr/local/lib/python3.7/dist-packages (from python-slugify->kaggle) (1.3)\n",
            "Requirement already satisfied: idna<3,>=2.5 in /usr/local/lib/python3.7/dist-packages (from requests->kaggle) (2.10)\n",
            "Requirement already satisfied: chardet<4,>=3.0.2 in /usr/local/lib/python3.7/dist-packages (from requests->kaggle) (3.0.4)\n"
          ]
        }
      ]
    },
    {
      "cell_type": "code",
      "source": [
        "from google.colab import files\n",
        "files.upload()"
      ],
      "metadata": {
        "colab": {
          "resources": {
            "http://localhost:8080/nbextensions/google.colab/files.js": {
              "data": "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",
              "ok": true,
              "headers": [
                [
                  "content-type",
                  "application/javascript"
                ]
              ],
              "status": 200,
              "status_text": ""
            }
          },
          "base_uri": "https://localhost:8080/",
          "height": 90
        },
        "id": "Rwt8zjLbA7_6",
        "outputId": "9a6d3597-f40e-4ce6-914f-acaad55868aa"
      },
      "execution_count": null,
      "outputs": [
        {
          "output_type": "display_data",
          "data": {
            "text/plain": [
              "<IPython.core.display.HTML object>"
            ],
            "text/html": [
              "\n",
              "     <input type=\"file\" id=\"files-880df483-2976-4f53-b8be-33847de91db4\" name=\"files[]\" multiple disabled\n",
              "        style=\"border:none\" />\n",
              "     <output id=\"result-880df483-2976-4f53-b8be-33847de91db4\">\n",
              "      Upload widget is only available when the cell has been executed in the\n",
              "      current browser session. Please rerun this cell to enable.\n",
              "      </output>\n",
              "      <script src=\"/nbextensions/google.colab/files.js\"></script> "
            ]
          },
          "metadata": {}
        },
        {
          "output_type": "stream",
          "name": "stdout",
          "text": [
            "Saving kaggle.json to kaggle.json\n"
          ]
        },
        {
          "output_type": "execute_result",
          "data": {
            "text/plain": [
              "{'kaggle.json': b'{\"username\":\"herutriana\",\"key\":\"2c1f797ca47ea0ac874fea831a498631\"}'}"
            ]
          },
          "metadata": {},
          "execution_count": 7
        }
      ]
    },
    {
      "cell_type": "code",
      "source": [
        "!mkdir -p ~/.kaggle\n",
        "!cp kaggle.json ~/.kaggle/\n",
        "!chmod 600 ~/.kaggle/kaggle.json"
      ],
      "metadata": {
        "id": "VgNlPsHcA8H5"
      },
      "execution_count": null,
      "outputs": []
    },
    {
      "cell_type": "code",
      "source": [
        "!kaggle datasets download -d auliapebiani/deeplearningtim17gami"
      ],
      "metadata": {
        "colab": {
          "base_uri": "https://localhost:8080/"
        },
        "id": "MPHni8uBBAZe",
        "outputId": "bdca2636-92f3-45c0-9129-8e102c569a45"
      },
      "execution_count": null,
      "outputs": [
        {
          "output_type": "stream",
          "name": "stdout",
          "text": [
            "Downloading deeplearningtim17gami.zip to /content\n",
            " 88% 185M/211M [00:01<00:00, 144MB/s]\n",
            "100% 211M/211M [00:01<00:00, 157MB/s]\n"
          ]
        }
      ]
    },
    {
      "cell_type": "code",
      "source": [
        "c"
      ],
      "metadata": {
        "id": "Z9Gb1q79Bhcw"
      },
      "execution_count": null,
      "outputs": []
    },
    {
      "cell_type": "code",
      "source": [
        "import os\n",
        "import matplotlib.pyplot as plt\n",
        "import seaborn as sn\n",
        "\n",
        "import cv2\n",
        "from random import randint\n",
        "\n",
        "import numpy as np"
      ],
      "metadata": {
        "papermill": {
          "duration": 1.134881,
          "end_time": "2022-06-15T23:46:22.680302",
          "exception": false,
          "start_time": "2022-06-15T23:46:21.545421",
          "status": "completed"
        },
        "tags": [],
        "execution": {
          "iopub.status.busy": "2022-06-19T11:39:15.546002Z",
          "iopub.execute_input": "2022-06-19T11:39:15.546466Z",
          "iopub.status.idle": "2022-06-19T11:39:16.238934Z",
          "shell.execute_reply.started": "2022-06-19T11:39:15.546375Z",
          "shell.execute_reply": "2022-06-19T11:39:16.238151Z"
        },
        "trusted": true,
        "id": "Ce6FxCYFAPXu"
      },
      "execution_count": null,
      "outputs": []
    },
    {
      "cell_type": "code",
      "source": [
        "CLASSES, gems = [], [] # names of classes, count of images for each class\n",
        "\n",
        "for root, dirs, files in os.walk('/content/IMAGE CLASIFICATION BUNGA DAUN SAYUR'):\n",
        "    f = os.path.basename(root)    # get class name - Amethyst, Onyx, etc\n",
        "\n",
        "    if len(files) > 0:\n",
        "        gems.append(len(files))\n",
        "        if f not in CLASSES:\n",
        "            CLASSES.append(f) # add folder name\n",
        "\n",
        "    # uncomment this block if you want a text output about each subfolder\n",
        "    #count_dirs = 0\n",
        "    #for f in dirs:           # count subfolders\n",
        "        #count_dirs += 1\n",
        "    #depth = root.split(os.sep)\n",
        "    #print((len(depth) - 2) * '--'+'>', '{}:\\t {} folders, {} imgs'.format(os.path.basename(root), count_dirs, gems[-1] if gems!=[] else 0))\n",
        "\n",
        "gems_count = len(CLASSES) # 87 = number of classes\n",
        "print('{} classes with {} images in total'.format(len(CLASSES), sum(gems)))"
      ],
      "metadata": {
        "_cell_guid": "b1076dfc-b9ad-4769-8c92-a6c4dae69d19",
        "_kg_hide-input": true,
        "_uuid": "8f2839f25d086af736a60e9eeb907d3b93b6e0e5",
        "papermill": {
          "duration": 0.406036,
          "end_time": "2022-06-15T23:46:23.126024",
          "exception": true,
          "start_time": "2022-06-15T23:46:22.719988",
          "status": "failed"
        },
        "tags": [],
        "execution": {
          "iopub.status.busy": "2022-06-19T11:39:16.240345Z",
          "iopub.execute_input": "2022-06-19T11:39:16.240843Z",
          "iopub.status.idle": "2022-06-19T11:39:16.382433Z",
          "shell.execute_reply.started": "2022-06-19T11:39:16.240800Z",
          "shell.execute_reply": "2022-06-19T11:39:16.381649Z"
        },
        "trusted": true,
        "id": "cMis4ti1APXy"
      },
      "execution_count": null,
      "outputs": []
    },
    {
      "cell_type": "code",
      "source": [
        "img_w, img_h = 220, 220    # width and height of image\n",
        "train_dir = '/content/IMAGE CLASIFICATION BUNGA DAUN SAYUR/TRAIN'"
      ],
      "metadata": {
        "_cell_guid": "79c7e3d0-c299-4dcb-8224-4455121ee9b0",
        "_uuid": "d629ff2d2480ee46fbb7e2d37f6b5fab8052498a",
        "papermill": {
          "duration": null,
          "end_time": null,
          "exception": null,
          "start_time": null,
          "status": "pending"
        },
        "tags": [],
        "execution": {
          "iopub.status.busy": "2022-06-19T11:39:16.383660Z",
          "iopub.execute_input": "2022-06-19T11:39:16.384111Z",
          "iopub.status.idle": "2022-06-19T11:39:16.388122Z",
          "shell.execute_reply.started": "2022-06-19T11:39:16.384080Z",
          "shell.execute_reply": "2022-06-19T11:39:16.387424Z"
        },
        "trusted": true,
        "id": "UKZXgZq8APXz"
      },
      "execution_count": null,
      "outputs": []
    },
    {
      "cell_type": "code",
      "source": [
        "def read_imgs_lbls(_dir):\n",
        "    Images, Labels = [], []\n",
        "    for root, dirs, files in os.walk(_dir):\n",
        "        f = os.path.basename(root)  # get class name - Amethyst, Onyx, etc\n",
        "        for file in files:\n",
        "            Labels.append(f)\n",
        "            try:\n",
        "                image = cv2.imread(root+'/'+file)              # read the image (OpenCV)\n",
        "                image = cv2.resize(image,(int(img_w*1.5), int(img_h*1.5)))       # resize the image (images are different sizes)\n",
        "                image = cv2.cvtColor(image, cv2.COLOR_BGR2RGB) # converts an image from BGR color space to RGB\n",
        "                Images.append(image)\n",
        "            except Exception as e:\n",
        "                print(e)\n",
        "    Images = np.array(Images)\n",
        "    return (Images, Labels)"
      ],
      "metadata": {
        "papermill": {
          "duration": null,
          "end_time": null,
          "exception": null,
          "start_time": null,
          "status": "pending"
        },
        "tags": [],
        "execution": {
          "iopub.status.busy": "2022-06-19T11:39:16.390314Z",
          "iopub.execute_input": "2022-06-19T11:39:16.390882Z",
          "iopub.status.idle": "2022-06-19T11:39:16.403346Z",
          "shell.execute_reply.started": "2022-06-19T11:39:16.390849Z",
          "shell.execute_reply": "2022-06-19T11:39:16.402392Z"
        },
        "trusted": true,
        "id": "FaSMAyZcAPX0"
      },
      "execution_count": null,
      "outputs": []
    },
    {
      "cell_type": "code",
      "source": [
        "def get_class_index(Labels):\n",
        "    for i, n in enumerate(Labels):\n",
        "        for j, k in enumerate(CLASSES):    # foreach CLASSES\n",
        "            if n == k:\n",
        "                Labels[i] = j\n",
        "    Labels = np.array(Labels)\n",
        "    return Labels"
      ],
      "metadata": {
        "papermill": {
          "duration": null,
          "end_time": null,
          "exception": null,
          "start_time": null,
          "status": "pending"
        },
        "tags": [],
        "execution": {
          "iopub.status.busy": "2022-06-19T11:39:16.404526Z",
          "iopub.execute_input": "2022-06-19T11:39:16.405164Z",
          "iopub.status.idle": "2022-06-19T11:39:16.416367Z",
          "shell.execute_reply.started": "2022-06-19T11:39:16.405128Z",
          "shell.execute_reply": "2022-06-19T11:39:16.415626Z"
        },
        "trusted": true,
        "id": "q1K_RQxHAPX1"
      },
      "execution_count": null,
      "outputs": []
    },
    {
      "cell_type": "code",
      "source": [
        "Train_Imgs, Train_Lbls = read_imgs_lbls(train_dir)\n",
        "Train_Lbls = get_class_index(Train_Lbls)\n",
        "print('Shape of train images: {}'.format(Train_Imgs.shape))\n",
        "print('Shape of train labels: {}'.format(Train_Lbls.shape))"
      ],
      "metadata": {
        "papermill": {
          "duration": null,
          "end_time": null,
          "exception": null,
          "start_time": null,
          "status": "pending"
        },
        "tags": [],
        "execution": {
          "iopub.status.busy": "2022-06-19T11:39:16.417594Z",
          "iopub.execute_input": "2022-06-19T11:39:16.418056Z",
          "iopub.status.idle": "2022-06-19T11:40:22.008250Z",
          "shell.execute_reply.started": "2022-06-19T11:39:16.418025Z",
          "shell.execute_reply": "2022-06-19T11:40:22.007260Z"
        },
        "trusted": true,
        "id": "Uc3W7H1DAPX1"
      },
      "execution_count": null,
      "outputs": []
    },
    {
      "cell_type": "code",
      "source": [
        "dim = 4 #you can change it;  4x4 dimension flat plot\n",
        "\n",
        "f,ax = plt.subplots(dim,dim)\n",
        "f.subplots_adjust(0,0,2,2)\n",
        "for i in range(0,dim):\n",
        "    for j in range(0,dim):\n",
        "        rnd_number = randint(0,len(Train_Lbls))\n",
        "        cl = Train_Lbls[rnd_number]\n",
        "        ax[i,j].imshow(Train_Imgs[rnd_number])\n",
        "        ax[i,j].set_title(CLASSES[cl]+': ' + str(cl))\n",
        "        ax[i,j].axis('off')"
      ],
      "metadata": {
        "_kg_hide-input": true,
        "papermill": {
          "duration": null,
          "end_time": null,
          "exception": null,
          "start_time": null,
          "status": "pending"
        },
        "tags": [],
        "execution": {
          "iopub.status.busy": "2022-06-19T11:40:22.009592Z",
          "iopub.execute_input": "2022-06-19T11:40:22.010407Z",
          "iopub.status.idle": "2022-06-19T11:40:23.029256Z",
          "shell.execute_reply.started": "2022-06-19T11:40:22.010368Z",
          "shell.execute_reply": "2022-06-19T11:40:23.028152Z"
        },
        "trusted": true,
        "id": "DCR8Xx8qAPX2"
      },
      "execution_count": null,
      "outputs": []
    },
    {
      "cell_type": "code",
      "source": [
        "def edge_and_cut(img):\n",
        "    try:\n",
        "        edges = cv2.Canny(img, img_w, img_h)\n",
        "\n",
        "        if(np.count_nonzero(edges)>edges.size/10000):\n",
        "            pts = np.argwhere(edges>0)\n",
        "            y1,x1 = pts.min(axis=0)\n",
        "            y2,x2 = pts.max(axis=0)\n",
        "\n",
        "            new_img = img[y1:y2, x1:x2]           # crop the region\n",
        "            new_img = cv2.resize(new_img,(img_w, img_h))  # Convert back\n",
        "        else:\n",
        "            new_img = cv2.resize(img,(img_w, img_h))\n",
        "\n",
        "    except Exception as e:\n",
        "        print(e)\n",
        "        new_img = cv2.resize(img,(img_w, img_h))\n",
        "\n",
        "    return new_img"
      ],
      "metadata": {
        "papermill": {
          "duration": null,
          "end_time": null,
          "exception": null,
          "start_time": null,
          "status": "pending"
        },
        "tags": [],
        "execution": {
          "iopub.status.busy": "2022-06-19T11:40:23.030374Z",
          "iopub.execute_input": "2022-06-19T11:40:23.030742Z",
          "iopub.status.idle": "2022-06-19T11:40:23.038664Z",
          "shell.execute_reply.started": "2022-06-19T11:40:23.030708Z",
          "shell.execute_reply": "2022-06-19T11:40:23.037827Z"
        },
        "trusted": true,
        "id": "XANFIzgSAPX3"
      },
      "execution_count": null,
      "outputs": []
    },
    {
      "cell_type": "code",
      "source": [
        "def show_cropped(img):\n",
        "    emb_img = img.copy()\n",
        "    edges = cv2.Canny(img, img_w, img_h)\n",
        "\n",
        "    if(np.count_nonzero(edges)>edges.size/10000):\n",
        "        pts = np.argwhere(edges>0)\n",
        "        y1,x1 = pts.min(axis=0)\n",
        "        y2,x2 = pts.max(axis=0)\n",
        "\n",
        "        new_img = img[y1:y2, x1:x2]\n",
        "\n",
        "        edge_size = 1 #replace it with bigger size for larger images\n",
        "\n",
        "        emb_img[y1-edge_size:y1+edge_size, x1:x2] = [255, 0, 0]\n",
        "        emb_img[y2-edge_size:y2+edge_size, x1:x2] = [255, 0, 0]\n",
        "        emb_img[y1:y2, x1-edge_size:x1+edge_size] = [255, 0, 0]\n",
        "        emb_img[y1:y2, x2-edge_size:x2+edge_size] = [255, 0, 0]\n",
        "\n",
        "        new_img = cv2.resize(new_img,(img_w, img_h))  # Convert to primary size\n",
        "\n",
        "    else:\n",
        "        new_img = cv2.resize(img,(img_w, img_h))\n",
        "\n",
        "    fig, ax = plt.subplots(nrows=1, ncols=4, figsize=(10, 10))\n",
        "    ax[0].imshow(img, cmap='gray')\n",
        "    ax[0].set_title('Original Image', fontsize=14)\n",
        "    ax[1].imshow(edges, cmap='gray')\n",
        "    ax[1].set_title('Canny Edges', fontsize=14)\n",
        "    ax[2].imshow(emb_img, cmap='gray')\n",
        "    ax[2].set_title('Bounding Box', fontsize=14)\n",
        "    ax[3].imshow(new_img, cmap='gray')\n",
        "    ax[3].set_title('Cropped', fontsize=14)"
      ],
      "metadata": {
        "_kg_hide-input": true,
        "papermill": {
          "duration": null,
          "end_time": null,
          "exception": null,
          "start_time": null,
          "status": "pending"
        },
        "tags": [],
        "execution": {
          "iopub.status.busy": "2022-06-19T11:40:23.039699Z",
          "iopub.execute_input": "2022-06-19T11:40:23.040203Z",
          "iopub.status.idle": "2022-06-19T11:40:23.054232Z",
          "shell.execute_reply.started": "2022-06-19T11:40:23.040173Z",
          "shell.execute_reply": "2022-06-19T11:40:23.052938Z"
        },
        "trusted": true,
        "id": "3Rg7SFZcAPX4"
      },
      "execution_count": null,
      "outputs": []
    },
    {
      "cell_type": "code",
      "source": [
        "for x in range(0,3):\n",
        "    show_cropped(Train_Imgs[randint(0,len(Train_Imgs))])"
      ],
      "metadata": {
        "papermill": {
          "duration": null,
          "end_time": null,
          "exception": null,
          "start_time": null,
          "status": "pending"
        },
        "tags": [],
        "execution": {
          "iopub.status.busy": "2022-06-19T11:40:23.057257Z",
          "iopub.execute_input": "2022-06-19T11:40:23.057836Z",
          "iopub.status.idle": "2022-06-19T11:40:24.671374Z",
          "shell.execute_reply.started": "2022-06-19T11:40:23.057797Z",
          "shell.execute_reply": "2022-06-19T11:40:24.670639Z"
        },
        "trusted": true,
        "id": "pFMHppeCAPX5"
      },
      "execution_count": null,
      "outputs": []
    },
    {
      "cell_type": "code",
      "source": [
        "def crop_images(Imgs):\n",
        "    CroppedImages = np.ndarray(shape=(len(Imgs), img_w, img_h, 3), dtype=np.int)\n",
        "\n",
        "    ind = 0\n",
        "    for im in Imgs:\n",
        "        x = edge_and_cut(im)\n",
        "        CroppedImages[ind] = x\n",
        "        ind += 1\n",
        "\n",
        "    return CroppedImages"
      ],
      "metadata": {
        "papermill": {
          "duration": null,
          "end_time": null,
          "exception": null,
          "start_time": null,
          "status": "pending"
        },
        "tags": [],
        "execution": {
          "iopub.status.busy": "2022-06-19T11:40:24.672573Z",
          "iopub.execute_input": "2022-06-19T11:40:24.673054Z",
          "iopub.status.idle": "2022-06-19T11:40:24.678193Z",
          "shell.execute_reply.started": "2022-06-19T11:40:24.673020Z",
          "shell.execute_reply": "2022-06-19T11:40:24.677377Z"
        },
        "trusted": true,
        "id": "67oUjGNPAPX5"
      },
      "execution_count": null,
      "outputs": []
    },
    {
      "cell_type": "code",
      "source": [
        "Train_Imgs = crop_images(Train_Imgs)\n",
        "print('Final shape of images in train set: {} '.format(Train_Imgs.shape))"
      ],
      "metadata": {
        "papermill": {
          "duration": null,
          "end_time": null,
          "exception": null,
          "start_time": null,
          "status": "pending"
        },
        "tags": [],
        "execution": {
          "iopub.status.busy": "2022-06-19T11:40:24.679426Z",
          "iopub.execute_input": "2022-06-19T11:40:24.679773Z",
          "iopub.status.idle": "2022-06-19T11:40:25.568099Z",
          "shell.execute_reply.started": "2022-06-19T11:40:24.679743Z",
          "shell.execute_reply": "2022-06-19T11:40:25.567092Z"
        },
        "trusted": true,
        "id": "xCCSL2E9APX6"
      },
      "execution_count": null,
      "outputs": []
    },
    {
      "cell_type": "code",
      "source": [
        "from sklearn.model_selection import train_test_split\n",
        "X_train, X_val, y_train, y_val = train_test_split(Train_Imgs, Train_Lbls, shuffle = True, test_size = 0.2, random_state = 42)\n",
        "print('Shape of X_train: {}, y_train: {} '.format(X_train.shape, y_train.shape))\n",
        "print('Shape of X_val: {}, y_val: {} '.format(X_val.shape, y_val.shape))"
      ],
      "metadata": {
        "papermill": {
          "duration": null,
          "end_time": null,
          "exception": null,
          "start_time": null,
          "status": "pending"
        },
        "tags": [],
        "execution": {
          "iopub.status.busy": "2022-06-19T11:40:25.569359Z",
          "iopub.execute_input": "2022-06-19T11:40:25.569719Z",
          "iopub.status.idle": "2022-06-19T11:40:25.844448Z",
          "shell.execute_reply.started": "2022-06-19T11:40:25.569688Z",
          "shell.execute_reply": "2022-06-19T11:40:25.843639Z"
        },
        "trusted": true,
        "id": "ymwLZYYjAPX6"
      },
      "execution_count": null,
      "outputs": []
    },
    {
      "cell_type": "code",
      "source": [
        "from keras.models import Sequential\n",
        "from keras.layers import Conv2D, MaxPooling2D, AveragePooling2D\n",
        "from keras.layers import Activation, Dropout, Flatten, Dense\n",
        "from keras import optimizers"
      ],
      "metadata": {
        "papermill": {
          "duration": null,
          "end_time": null,
          "exception": null,
          "start_time": null,
          "status": "pending"
        },
        "tags": [],
        "execution": {
          "iopub.status.busy": "2022-06-19T11:40:31.302257Z",
          "iopub.execute_input": "2022-06-19T11:40:31.303401Z",
          "iopub.status.idle": "2022-06-19T11:40:32.006156Z",
          "shell.execute_reply.started": "2022-06-19T11:40:31.303363Z",
          "shell.execute_reply": "2022-06-19T11:40:32.005116Z"
        },
        "trusted": true,
        "id": "Pyt9PquiAPX7"
      },
      "execution_count": null,
      "outputs": []
    },
    {
      "cell_type": "code",
      "source": [
        "filters = 32      # the dimensionality of the output space\n",
        "kernel_size = 3   # length of the 2D convolution window\n",
        "max_pool = 2      # size of the max pooling windows"
      ],
      "metadata": {
        "papermill": {
          "duration": null,
          "end_time": null,
          "exception": null,
          "start_time": null,
          "status": "pending"
        },
        "tags": [],
        "execution": {
          "iopub.status.busy": "2022-06-19T11:40:32.007416Z",
          "iopub.execute_input": "2022-06-19T11:40:32.007844Z",
          "iopub.status.idle": "2022-06-19T11:40:32.013117Z",
          "shell.execute_reply.started": "2022-06-19T11:40:32.007806Z",
          "shell.execute_reply": "2022-06-19T11:40:32.012154Z"
        },
        "trusted": true,
        "id": "NYD2HClxAPX7"
      },
      "execution_count": null,
      "outputs": []
    },
    {
      "cell_type": "code",
      "source": [
        "EPOCHS = 70                                  # while testing you can change it\n",
        "batch_size = 32                              # number of training samples using in each mini batch during GD (gradient descent)\n",
        "iter_per_epoch = len(X_train) // batch_size  # each sample will be passed [iter_per_epoch] times during training\n",
        "val_per_epoch = len(X_val) // batch_size     # each sample will be passed [val_per_epoch] times during validation"
      ],
      "metadata": {
        "papermill": {
          "duration": null,
          "end_time": null,
          "exception": null,
          "start_time": null,
          "status": "pending"
        },
        "tags": [],
        "execution": {
          "iopub.status.busy": "2022-06-19T11:40:32.014515Z",
          "iopub.execute_input": "2022-06-19T11:40:32.015013Z",
          "iopub.status.idle": "2022-06-19T11:40:32.028847Z",
          "shell.execute_reply.started": "2022-06-19T11:40:32.014982Z",
          "shell.execute_reply": "2022-06-19T11:40:32.027827Z"
        },
        "trusted": true,
        "id": "zcq9TNcWAPX8"
      },
      "execution_count": null,
      "outputs": []
    },
    {
      "cell_type": "code",
      "source": [
        "model = Sequential()\n",
        "\n",
        "# first layer\n",
        "model.add(Conv2D(batch_size, (kernel_size, kernel_size), activation='relu', padding='same', input_shape=(img_w, img_h, 3))) # 32\n",
        "model.add(MaxPooling2D((max_pool, max_pool))) #reduce the spatial size of incoming features\n",
        "\n",
        "# second layer\n",
        "model.add(Conv2D(2*batch_size, (kernel_size, kernel_size), activation='relu', padding='same')) # 64\n",
        "model.add(MaxPooling2D((max_pool, max_pool)))\n",
        "\n",
        "# third layer\n",
        "model.add(Conv2D(4*batch_size, (kernel_size, kernel_size), activation='relu', padding='same')) # 128\n",
        "model.add(MaxPooling2D((max_pool, max_pool)))\n",
        "\n",
        "# fourth layer\n",
        "model.add(Conv2D(4*batch_size, (kernel_size, kernel_size), activation='relu', padding='same')) # 128\n",
        "model.add(AveragePooling2D(pool_size= (2, 2), strides= (2, 2)))\n",
        "\n",
        "# fifth layer\n",
        "model.add(Conv2D(4*batch_size, (kernel_size, kernel_size), activation='relu', padding='same')) # 128\n",
        "model.add(MaxPooling2D((max_pool, max_pool)))\n",
        "\n",
        "model.add(Flatten())\n",
        "model.add(Dropout(0.5))\n",
        "model.add(Dense(16*batch_size, activation='relu'))                                             # 512\n",
        "model.add(Dense(87, activation='softmax'))\n",
        "model.summary()"
      ],
      "metadata": {
        "_kg_hide-input": true,
        "papermill": {
          "duration": null,
          "end_time": null,
          "exception": null,
          "start_time": null,
          "status": "pending"
        },
        "tags": [],
        "execution": {
          "iopub.status.busy": "2022-06-19T11:40:32.030317Z",
          "iopub.execute_input": "2022-06-19T11:40:32.031153Z",
          "iopub.status.idle": "2022-06-19T11:40:32.245677Z",
          "shell.execute_reply.started": "2022-06-19T11:40:32.031096Z",
          "shell.execute_reply": "2022-06-19T11:40:32.245015Z"
        },
        "trusted": true,
        "id": "atKIFWdlAPX8"
      },
      "execution_count": null,
      "outputs": []
    },
    {
      "cell_type": "code",
      "source": [
        "model.compile(optimizer='adam',loss='sparse_categorical_crossentropy',metrics=['accuracy'])"
      ],
      "metadata": {
        "papermill": {
          "duration": null,
          "end_time": null,
          "exception": null,
          "start_time": null,
          "status": "pending"
        },
        "tags": [],
        "execution": {
          "iopub.status.busy": "2022-06-19T11:40:32.246747Z",
          "iopub.execute_input": "2022-06-19T11:40:32.247187Z",
          "iopub.status.idle": "2022-06-19T11:40:32.452903Z",
          "shell.execute_reply.started": "2022-06-19T11:40:32.247155Z",
          "shell.execute_reply": "2022-06-19T11:40:32.452198Z"
        },
        "trusted": true,
        "id": "4dtSvn0DAPX8"
      },
      "execution_count": null,
      "outputs": []
    },
    {
      "cell_type": "code",
      "source": [
        "from keras.preprocessing.image import ImageDataGenerator\n",
        "\n",
        "train_datagen = ImageDataGenerator(              # this is the augmentation configuration used for training\n",
        "        rotation_range=25,\n",
        "        zoom_range=0.1,\n",
        "        width_shift_range=0.1,\n",
        "        height_shift_range=0.1,\n",
        "        shear_range=0.2,\n",
        "        horizontal_flip=True\n",
        "        )\n",
        "\n",
        "val_datagen = ImageDataGenerator()                # for val/testing only rescaling function"
      ],
      "metadata": {
        "papermill": {
          "duration": null,
          "end_time": null,
          "exception": null,
          "start_time": null,
          "status": "pending"
        },
        "tags": [],
        "execution": {
          "iopub.status.busy": "2022-06-19T11:40:32.453886Z",
          "iopub.execute_input": "2022-06-19T11:40:32.454713Z",
          "iopub.status.idle": "2022-06-19T11:40:32.459989Z",
          "shell.execute_reply.started": "2022-06-19T11:40:32.454680Z",
          "shell.execute_reply": "2022-06-19T11:40:32.459362Z"
        },
        "trusted": true,
        "id": "WgvMar_kAPX9"
      },
      "execution_count": null,
      "outputs": []
    },
    {
      "cell_type": "code",
      "source": [
        "n = randint(0,len(X_train))\n",
        "samples = np.expand_dims(X_train[n], 0)\n",
        "it = train_datagen.flow(samples, batch_size=batch_size)\n",
        "cols = 7\n",
        "\n",
        "fig, ax = plt.subplots(nrows=1, ncols=cols, figsize=(15, 10))\n",
        "ax[0].imshow(X_train[n], cmap='gray')\n",
        "ax[0].set_title('Original', fontsize=10)\n",
        "\n",
        "for i in range(1,cols):\n",
        "    batch = it.next()    # generate batch of images\n",
        "    image = batch[0].astype('uint32') # convert to unsigned int for viewing\n",
        "    ax[i].set_title('augmented {}'.format(i), fontsize=10)\n",
        "    ax[i].imshow(image, cmap='gray')"
      ],
      "metadata": {
        "_kg_hide-input": true,
        "papermill": {
          "duration": null,
          "end_time": null,
          "exception": null,
          "start_time": null,
          "status": "pending"
        },
        "tags": [],
        "execution": {
          "iopub.status.busy": "2022-06-19T11:40:32.460862Z",
          "iopub.execute_input": "2022-06-19T11:40:32.461617Z",
          "iopub.status.idle": "2022-06-19T11:40:33.754984Z",
          "shell.execute_reply.started": "2022-06-19T11:40:32.461555Z",
          "shell.execute_reply": "2022-06-19T11:40:33.753865Z"
        },
        "trusted": true,
        "id": "d61faTAIAPX9"
      },
      "execution_count": null,
      "outputs": []
    },
    {
      "cell_type": "markdown",
      "source": [
        "Create two numpy array iterators `train_gen` and `val_gen` and fill them with additional images:"
      ],
      "metadata": {
        "papermill": {
          "duration": null,
          "end_time": null,
          "exception": null,
          "start_time": null,
          "status": "pending"
        },
        "tags": [],
        "id": "HmShJh0zAPX9"
      }
    },
    {
      "cell_type": "code",
      "source": [
        "train_gen = train_datagen.flow(X_train, y_train, batch_size=batch_size)\n",
        "val_gen = val_datagen.flow(X_val, y_val, batch_size=batch_size)"
      ],
      "metadata": {
        "papermill": {
          "duration": null,
          "end_time": null,
          "exception": null,
          "start_time": null,
          "status": "pending"
        },
        "tags": [],
        "execution": {
          "iopub.status.busy": "2022-06-19T11:40:33.756463Z",
          "iopub.execute_input": "2022-06-19T11:40:33.756923Z",
          "iopub.status.idle": "2022-06-19T11:40:33.875457Z",
          "shell.execute_reply.started": "2022-06-19T11:40:33.756882Z",
          "shell.execute_reply": "2022-06-19T11:40:33.874542Z"
        },
        "trusted": true,
        "id": "Pbfd3KsMAPX_"
      },
      "execution_count": null,
      "outputs": []
    },
    {
      "cell_type": "code",
      "source": [
        "from tensorflow.keras.callbacks import EarlyStopping\n",
        "from tensorflow.keras.callbacks import ModelCheckpoint\n",
        "earstop = EarlyStopping(monitor='val_loss',mode='min',verbose=1,patience=10)\n",
        "cekmodel = ModelCheckpoint(filepath='model.hdf5',monitor='val_loss',mode='min',verbose=1,save_best_only=True)"
      ],
      "metadata": {
        "papermill": {
          "duration": null,
          "end_time": null,
          "exception": null,
          "start_time": null,
          "status": "pending"
        },
        "tags": [],
        "execution": {
          "iopub.status.busy": "2022-06-19T12:41:34.147307Z",
          "iopub.execute_input": "2022-06-19T12:41:34.147759Z",
          "iopub.status.idle": "2022-06-19T12:41:34.154608Z",
          "shell.execute_reply.started": "2022-06-19T12:41:34.147722Z",
          "shell.execute_reply": "2022-06-19T12:41:34.153761Z"
        },
        "trusted": true,
        "id": "JXp6j8vsAPYA"
      },
      "execution_count": null,
      "outputs": []
    },
    {
      "cell_type": "code",
      "source": [
        "import tensorflow as tf\n",
        "class myCallback(tf.keras.callbacks.Callback):\n",
        "  def on_epoch_end(self, epoch, logs={}):\n",
        "    if(logs.get('val_accuracy') > 0.92):\n",
        "      print(\"\\nAkurasi di atas 90%, hentikan training!\")\n",
        "      self.model.stop_training = True\n",
        "\n",
        "stop = myCallback()"
      ],
      "metadata": {
        "execution": {
          "iopub.status.busy": "2022-06-19T12:41:40.619041Z",
          "iopub.execute_input": "2022-06-19T12:41:40.619452Z",
          "iopub.status.idle": "2022-06-19T12:41:40.626091Z",
          "shell.execute_reply.started": "2022-06-19T12:41:40.619417Z",
          "shell.execute_reply": "2022-06-19T12:41:40.625280Z"
        },
        "trusted": true,
        "id": "hmfVmWwTAPYB"
      },
      "execution_count": null,
      "outputs": []
    },
    {
      "cell_type": "code",
      "source": [
        "m = model.fit_generator(\n",
        "       train_gen,\n",
        "       steps_per_epoch= iter_per_epoch,\n",
        "       epochs=162,\n",
        "       validation_data = val_gen,\n",
        "       validation_steps = val_per_epoch,\n",
        "       verbose = 1,\n",
        "       callbacks = [stop,cekmodel]\n",
        "       )"
      ],
      "metadata": {
        "papermill": {
          "duration": null,
          "end_time": null,
          "exception": null,
          "start_time": null,
          "status": "pending"
        },
        "tags": [],
        "execution": {
          "iopub.status.busy": "2022-06-19T12:41:43.150982Z",
          "iopub.execute_input": "2022-06-19T12:41:43.151426Z",
          "iopub.status.idle": "2022-06-19T12:57:44.286701Z",
          "shell.execute_reply.started": "2022-06-19T12:41:43.151387Z",
          "shell.execute_reply": "2022-06-19T12:57:44.285650Z"
        },
        "trusted": true,
        "id": "XKbYNDjKAPYB"
      },
      "execution_count": null,
      "outputs": []
    },
    {
      "cell_type": "code",
      "source": [
        "fig, axs = plt.subplots(nrows=1, ncols=2, figsize=(15,5))\n",
        "axs[0].plot(m.history['accuracy'])\n",
        "axs[0].plot(m.history['val_accuracy'])\n",
        "axs[0].set_title('Model accuracy')\n",
        "axs[0].legend(['Train', 'Val'], loc='upper left')\n",
        "\n",
        "axs[1].plot(m.history['loss'])\n",
        "axs[1].plot(m.history['val_loss'])\n",
        "axs[1].set_title('Model loss')\n",
        "axs[1].legend(['Train', 'Val'], loc='upper left')\n",
        "\n",
        "for ax in axs.flat:\n",
        "    ax.set(xlabel='Epoch')"
      ],
      "metadata": {
        "_kg_hide-input": true,
        "papermill": {
          "duration": null,
          "end_time": null,
          "exception": null,
          "start_time": null,
          "status": "pending"
        },
        "tags": [],
        "execution": {
          "iopub.status.busy": "2022-06-19T12:57:44.288285Z",
          "iopub.execute_input": "2022-06-19T12:57:44.288635Z",
          "iopub.status.idle": "2022-06-19T12:57:53.708352Z",
          "shell.execute_reply.started": "2022-06-19T12:57:44.288604Z",
          "shell.execute_reply": "2022-06-19T12:57:53.707575Z"
        },
        "trusted": true,
        "id": "2GGXqKGcAPYC"
      },
      "execution_count": null,
      "outputs": []
    },
    {
      "cell_type": "code",
      "source": [
        "score = model.evaluate_generator(val_gen, steps= len(val_gen))\n",
        "\n",
        "for idx, metric in enumerate(model.metrics_names):\n",
        "    print('{}:{}'.format(metric, score[idx]))"
      ],
      "metadata": {
        "papermill": {
          "duration": null,
          "end_time": null,
          "exception": null,
          "start_time": null,
          "status": "pending"
        },
        "tags": [],
        "execution": {
          "iopub.status.busy": "2022-06-19T12:57:53.709438Z",
          "iopub.execute_input": "2022-06-19T12:57:53.710219Z",
          "iopub.status.idle": "2022-06-19T12:57:54.426998Z",
          "shell.execute_reply.started": "2022-06-19T12:57:53.710182Z",
          "shell.execute_reply": "2022-06-19T12:57:54.426177Z"
        },
        "trusted": true,
        "id": "_KlxdFmTAPYC"
      },
      "execution_count": null,
      "outputs": []
    },
    {
      "cell_type": "code",
      "source": [
        "from sklearn.metrics import confusion_matrix\n",
        "y_pre_test=model.predict(X_val)\n",
        "y_pre_test=np.argmax(y_pre_test,axis=1)\n",
        "cm=confusion_matrix(y_val,y_pre_test)\n",
        "\n",
        "plt.figure(figsize = (15,15))\n",
        "sn.heatmap(cm, annot=True)"
      ],
      "metadata": {
        "_kg_hide-input": true,
        "papermill": {
          "duration": null,
          "end_time": null,
          "exception": null,
          "start_time": null,
          "status": "pending"
        },
        "tags": [],
        "execution": {
          "iopub.status.busy": "2022-06-19T12:57:54.428762Z",
          "iopub.execute_input": "2022-06-19T12:57:54.429105Z",
          "iopub.status.idle": "2022-06-19T12:57:55.362711Z",
          "shell.execute_reply.started": "2022-06-19T12:57:54.429073Z",
          "shell.execute_reply": "2022-06-19T12:57:55.361586Z"
        },
        "trusted": true,
        "id": "2qnPt-q0APYD"
      },
      "execution_count": null,
      "outputs": []
    },
    {
      "cell_type": "code",
      "source": [
        "model.save('model_daun_sayur_buah.h5')"
      ],
      "metadata": {
        "papermill": {
          "duration": null,
          "end_time": null,
          "exception": null,
          "start_time": null,
          "status": "pending"
        },
        "tags": [],
        "execution": {
          "iopub.status.busy": "2022-06-19T12:57:55.943044Z",
          "iopub.execute_input": "2022-06-19T12:57:55.943495Z",
          "iopub.status.idle": "2022-06-19T12:57:56.063264Z",
          "shell.execute_reply.started": "2022-06-19T12:57:55.943448Z",
          "shell.execute_reply": "2022-06-19T12:57:56.062491Z"
        },
        "trusted": true,
        "id": "Rp3PToFXAPYE"
      },
      "execution_count": null,
      "outputs": []
    }
  ]
}