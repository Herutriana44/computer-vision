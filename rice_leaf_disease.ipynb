{
  "cells": [
    {
      "cell_type": "code",
      "execution_count": null,
      "metadata": {
        "colab": {
          "base_uri": "https://localhost:8080/"
        },
        "id": "VqV5IS6shddX",
        "outputId": "0decf913-2cca-4df0-91fb-72639ef2d9e2"
      },
      "outputs": [
        {
          "output_type": "stream",
          "name": "stdout",
          "text": [
            "Requirement already satisfied: kaggle in /usr/local/lib/python3.10/dist-packages (1.5.13)\n",
            "Requirement already satisfied: six>=1.10 in /usr/local/lib/python3.10/dist-packages (from kaggle) (1.16.0)\n",
            "Requirement already satisfied: certifi in /usr/local/lib/python3.10/dist-packages (from kaggle) (2023.5.7)\n",
            "Requirement already satisfied: python-dateutil in /usr/local/lib/python3.10/dist-packages (from kaggle) (2.8.2)\n",
            "Requirement already satisfied: requests in /usr/local/lib/python3.10/dist-packages (from kaggle) (2.27.1)\n",
            "Requirement already satisfied: tqdm in /usr/local/lib/python3.10/dist-packages (from kaggle) (4.65.0)\n",
            "Requirement already satisfied: python-slugify in /usr/local/lib/python3.10/dist-packages (from kaggle) (8.0.1)\n",
            "Requirement already satisfied: urllib3 in /usr/local/lib/python3.10/dist-packages (from kaggle) (1.26.16)\n",
            "Requirement already satisfied: text-unidecode>=1.3 in /usr/local/lib/python3.10/dist-packages (from python-slugify->kaggle) (1.3)\n",
            "Requirement already satisfied: charset-normalizer~=2.0.0 in /usr/local/lib/python3.10/dist-packages (from requests->kaggle) (2.0.12)\n",
            "Requirement already satisfied: idna<4,>=2.5 in /usr/local/lib/python3.10/dist-packages (from requests->kaggle) (3.4)\n"
          ]
        }
      ],
      "source": [
        "!pip install kaggle"
      ]
    },
    {
      "cell_type": "code",
      "execution_count": null,
      "metadata": {
        "colab": {
          "base_uri": "https://localhost:8080/",
          "height": 90
        },
        "id": "DS3jaZ8Phef6",
        "outputId": "a9b4bb9f-3b21-4fa6-f616-e45300968c06"
      },
      "outputs": [
        {
          "output_type": "display_data",
          "data": {
            "text/plain": [
              "<IPython.core.display.HTML object>"
            ],
            "text/html": [
              "\n",
              "     <input type=\"file\" id=\"files-a9029a38-ecf6-45a0-bdd1-9885e9ef0f30\" name=\"files[]\" multiple disabled\n",
              "        style=\"border:none\" />\n",
              "     <output id=\"result-a9029a38-ecf6-45a0-bdd1-9885e9ef0f30\">\n",
              "      Upload widget is only available when the cell has been executed in the\n",
              "      current browser session. Please rerun this cell to enable.\n",
              "      </output>\n",
              "      <script>// Copyright 2017 Google LLC\n",
              "//\n",
              "// Licensed under the Apache License, Version 2.0 (the \"License\");\n",
              "// you may not use this file except in compliance with the License.\n",
              "// You may obtain a copy of the License at\n",
              "//\n",
              "//      http://www.apache.org/licenses/LICENSE-2.0\n",
              "//\n",
              "// Unless required by applicable law or agreed to in writing, software\n",
              "// distributed under the License is distributed on an \"AS IS\" BASIS,\n",
              "// WITHOUT WARRANTIES OR CONDITIONS OF ANY KIND, either express or implied.\n",
              "// See the License for the specific language governing permissions and\n",
              "// limitations under the License.\n",
              "\n",
              "/**\n",
              " * @fileoverview Helpers for google.colab Python module.\n",
              " */\n",
              "(function(scope) {\n",
              "function span(text, styleAttributes = {}) {\n",
              "  const element = document.createElement('span');\n",
              "  element.textContent = text;\n",
              "  for (const key of Object.keys(styleAttributes)) {\n",
              "    element.style[key] = styleAttributes[key];\n",
              "  }\n",
              "  return element;\n",
              "}\n",
              "\n",
              "// Max number of bytes which will be uploaded at a time.\n",
              "const MAX_PAYLOAD_SIZE = 100 * 1024;\n",
              "\n",
              "function _uploadFiles(inputId, outputId) {\n",
              "  const steps = uploadFilesStep(inputId, outputId);\n",
              "  const outputElement = document.getElementById(outputId);\n",
              "  // Cache steps on the outputElement to make it available for the next call\n",
              "  // to uploadFilesContinue from Python.\n",
              "  outputElement.steps = steps;\n",
              "\n",
              "  return _uploadFilesContinue(outputId);\n",
              "}\n",
              "\n",
              "// This is roughly an async generator (not supported in the browser yet),\n",
              "// where there are multiple asynchronous steps and the Python side is going\n",
              "// to poll for completion of each step.\n",
              "// This uses a Promise to block the python side on completion of each step,\n",
              "// then passes the result of the previous step as the input to the next step.\n",
              "function _uploadFilesContinue(outputId) {\n",
              "  const outputElement = document.getElementById(outputId);\n",
              "  const steps = outputElement.steps;\n",
              "\n",
              "  const next = steps.next(outputElement.lastPromiseValue);\n",
              "  return Promise.resolve(next.value.promise).then((value) => {\n",
              "    // Cache the last promise value to make it available to the next\n",
              "    // step of the generator.\n",
              "    outputElement.lastPromiseValue = value;\n",
              "    return next.value.response;\n",
              "  });\n",
              "}\n",
              "\n",
              "/**\n",
              " * Generator function which is called between each async step of the upload\n",
              " * process.\n",
              " * @param {string} inputId Element ID of the input file picker element.\n",
              " * @param {string} outputId Element ID of the output display.\n",
              " * @return {!Iterable<!Object>} Iterable of next steps.\n",
              " */\n",
              "function* uploadFilesStep(inputId, outputId) {\n",
              "  const inputElement = document.getElementById(inputId);\n",
              "  inputElement.disabled = false;\n",
              "\n",
              "  const outputElement = document.getElementById(outputId);\n",
              "  outputElement.innerHTML = '';\n",
              "\n",
              "  const pickedPromise = new Promise((resolve) => {\n",
              "    inputElement.addEventListener('change', (e) => {\n",
              "      resolve(e.target.files);\n",
              "    });\n",
              "  });\n",
              "\n",
              "  const cancel = document.createElement('button');\n",
              "  inputElement.parentElement.appendChild(cancel);\n",
              "  cancel.textContent = 'Cancel upload';\n",
              "  const cancelPromise = new Promise((resolve) => {\n",
              "    cancel.onclick = () => {\n",
              "      resolve(null);\n",
              "    };\n",
              "  });\n",
              "\n",
              "  // Wait for the user to pick the files.\n",
              "  const files = yield {\n",
              "    promise: Promise.race([pickedPromise, cancelPromise]),\n",
              "    response: {\n",
              "      action: 'starting',\n",
              "    }\n",
              "  };\n",
              "\n",
              "  cancel.remove();\n",
              "\n",
              "  // Disable the input element since further picks are not allowed.\n",
              "  inputElement.disabled = true;\n",
              "\n",
              "  if (!files) {\n",
              "    return {\n",
              "      response: {\n",
              "        action: 'complete',\n",
              "      }\n",
              "    };\n",
              "  }\n",
              "\n",
              "  for (const file of files) {\n",
              "    const li = document.createElement('li');\n",
              "    li.append(span(file.name, {fontWeight: 'bold'}));\n",
              "    li.append(span(\n",
              "        `(${file.type || 'n/a'}) - ${file.size} bytes, ` +\n",
              "        `last modified: ${\n",
              "            file.lastModifiedDate ? file.lastModifiedDate.toLocaleDateString() :\n",
              "                                    'n/a'} - `));\n",
              "    const percent = span('0% done');\n",
              "    li.appendChild(percent);\n",
              "\n",
              "    outputElement.appendChild(li);\n",
              "\n",
              "    const fileDataPromise = new Promise((resolve) => {\n",
              "      const reader = new FileReader();\n",
              "      reader.onload = (e) => {\n",
              "        resolve(e.target.result);\n",
              "      };\n",
              "      reader.readAsArrayBuffer(file);\n",
              "    });\n",
              "    // Wait for the data to be ready.\n",
              "    let fileData = yield {\n",
              "      promise: fileDataPromise,\n",
              "      response: {\n",
              "        action: 'continue',\n",
              "      }\n",
              "    };\n",
              "\n",
              "    // Use a chunked sending to avoid message size limits. See b/62115660.\n",
              "    let position = 0;\n",
              "    do {\n",
              "      const length = Math.min(fileData.byteLength - position, MAX_PAYLOAD_SIZE);\n",
              "      const chunk = new Uint8Array(fileData, position, length);\n",
              "      position += length;\n",
              "\n",
              "      const base64 = btoa(String.fromCharCode.apply(null, chunk));\n",
              "      yield {\n",
              "        response: {\n",
              "          action: 'append',\n",
              "          file: file.name,\n",
              "          data: base64,\n",
              "        },\n",
              "      };\n",
              "\n",
              "      let percentDone = fileData.byteLength === 0 ?\n",
              "          100 :\n",
              "          Math.round((position / fileData.byteLength) * 100);\n",
              "      percent.textContent = `${percentDone}% done`;\n",
              "\n",
              "    } while (position < fileData.byteLength);\n",
              "  }\n",
              "\n",
              "  // All done.\n",
              "  yield {\n",
              "    response: {\n",
              "      action: 'complete',\n",
              "    }\n",
              "  };\n",
              "}\n",
              "\n",
              "scope.google = scope.google || {};\n",
              "scope.google.colab = scope.google.colab || {};\n",
              "scope.google.colab._files = {\n",
              "  _uploadFiles,\n",
              "  _uploadFilesContinue,\n",
              "};\n",
              "})(self);\n",
              "</script> "
            ]
          },
          "metadata": {}
        },
        {
          "output_type": "stream",
          "name": "stdout",
          "text": [
            "Saving kaggle.json to kaggle.json\n"
          ]
        },
        {
          "output_type": "execute_result",
          "data": {
            "text/plain": [
              "{'kaggle.json': b'{\"username\":\"herutriana\",\"key\":\"3f924bd6c797ed7a1ab88cd2b498cf01\"}'}"
            ]
          },
          "metadata": {},
          "execution_count": 2
        }
      ],
      "source": [
        "from google.colab import files\n",
        "files.upload()"
      ]
    },
    {
      "cell_type": "code",
      "execution_count": null,
      "metadata": {
        "id": "uKMKTF_vhepW"
      },
      "outputs": [],
      "source": [
        "!mkdir -p ~/.kaggle\n",
        "!cp kaggle.json ~/.kaggle/\n",
        "!chmod 600 ~/.kaggle/kaggle.json"
      ]
    },
    {
      "cell_type": "code",
      "execution_count": null,
      "metadata": {
        "colab": {
          "base_uri": "https://localhost:8080/"
        },
        "id": "s1IO7CLPhew0",
        "outputId": "483ea50d-522d-48b6-a49a-b8baf001f6af"
      },
      "outputs": [
        {
          "output_type": "stream",
          "name": "stdout",
          "text": [
            "Downloading rice-leaf-disease.zip to /content\n",
            "100% 2.47G/2.47G [02:24<00:00, 11.1MB/s]\n",
            "100% 2.47G/2.47G [02:24<00:00, 18.4MB/s]\n"
          ]
        }
      ],
      "source": [
        "!kaggle datasets download -d raingel/rice-leaf-disease"
      ]
    },
    {
      "cell_type": "code",
      "execution_count": null,
      "metadata": {
        "id": "itLIrDI8hq3c"
      },
      "outputs": [],
      "source": [
        "import tensorflow as tensor\n",
        "from tensorflow.keras.optimizers import RMSprop\n",
        "from tensorflow.keras.preprocessing.image import ImageDataGenerator"
      ]
    },
    {
      "cell_type": "code",
      "execution_count": null,
      "metadata": {
        "id": "j5ugLFKfiScO"
      },
      "outputs": [],
      "source": [
        "import zipfile,os\n",
        "zip_lcl = '/content/rice-leaf-disease.zip'\n",
        "rzip = zipfile.ZipFile(zip_lcl, 'r')\n",
        "rzip.extractall('/tmp')\n",
        "rzip.close()"
      ]
    },
    {
      "cell_type": "code",
      "execution_count": null,
      "metadata": {
        "id": "bOf04OIhL8fR"
      },
      "outputs": [],
      "source": [
        "alllabel = [\n",
        "    'BO',\n",
        "    'MO',\n",
        "    'NO_DISEASE'\n",
        "]"
      ]
    },
    {
      "cell_type": "code",
      "execution_count": null,
      "metadata": {
        "id": "EjdsF8XpMITF"
      },
      "outputs": [],
      "source": [
        "!mkdir /tmp/rice_leaf_disease"
      ]
    },
    {
      "cell_type": "code",
      "execution_count": null,
      "metadata": {
        "colab": {
          "base_uri": "https://localhost:8080/"
        },
        "id": "XQ41VuazMTX4",
        "outputId": "de78c9e0-3ca6-4976-8204-7c4da705b447"
      },
      "outputs": [
        {
          "output_type": "stream",
          "name": "stdout",
          "text": [
            "/tmp/BO/ berhasil dipindahkan ke /tmp/rice_leaf_disease/\n",
            "/tmp/MO/ berhasil dipindahkan ke /tmp/rice_leaf_disease/\n",
            "/tmp/NO_DISEASE/ berhasil dipindahkan ke /tmp/rice_leaf_disease/\n"
          ]
        }
      ],
      "source": [
        "import os\n",
        "import shutil\n",
        "\n",
        "# Path ke direktori tujuan\n",
        "target_dir = '/tmp/rice_leaf_disease/'\n",
        "\n",
        "# Membuat direktori tujuan jika belum ada\n",
        "if not os.path.exists(target_dir):\n",
        "    os.makedirs(target_dir)\n",
        "\n",
        "# Melakukan iterasi pada setiap label\n",
        "for label in alllabel:\n",
        "    # Path ke direktori sumber\n",
        "    source_dir = f'/tmp/{label}/'\n",
        "\n",
        "    # Memindahkan direktori ke direktori tujuan\n",
        "    shutil.move(source_dir, target_dir)\n",
        "\n",
        "    # Memberikan pesan keberhasilan\n",
        "    print(f'{source_dir} berhasil dipindahkan ke {target_dir}')\n"
      ]
    },
    {
      "cell_type": "code",
      "execution_count": null,
      "metadata": {
        "id": "Lr84WpNiJJBx"
      },
      "outputs": [],
      "source": [
        "dirbase = '/tmp/rice_leaf_disease/'"
      ]
    },
    {
      "cell_type": "code",
      "execution_count": null,
      "metadata": {
        "colab": {
          "base_uri": "https://localhost:8080/"
        },
        "id": "q1uU4dhjODoL",
        "outputId": "6bb1c30d-76ff-4eda-976d-8f9cd29a6a37"
      },
      "outputs": [
        {
          "output_type": "stream",
          "name": "stdout",
          "text": [
            "BO berhasil dibagi menjadi data train dan val\n",
            "MO berhasil dibagi menjadi data train dan val\n",
            "NO_DISEASE berhasil dibagi menjadi data train dan val\n"
          ]
        }
      ],
      "source": [
        "import os\n",
        "import random\n",
        "import shutil\n",
        "\n",
        "# Path ke direktori sumber\n",
        "source_dir = dirbase\n",
        "\n",
        "# Path ke direktori tujuan train\n",
        "train_dir = dirbase+'train/'\n",
        "\n",
        "# Path ke direktori tujuan validation\n",
        "val_dir = dirbase+'val/'\n",
        "\n",
        "# Daftar label\n",
        "labels = [\n",
        "    'BO',\n",
        "    'MO',\n",
        "    'NO_DISEASE'\n",
        "]\n",
        "\n",
        "# Rasio data train dan validation\n",
        "train_ratio = 0.8\n",
        "val_ratio = 0.2\n",
        "\n",
        "# Membuat direktori train dan val jika belum ada\n",
        "if not os.path.exists(train_dir):\n",
        "    os.makedirs(train_dir)\n",
        "\n",
        "if not os.path.exists(val_dir):\n",
        "    os.makedirs(val_dir)\n",
        "\n",
        "# Melakukan iterasi pada setiap label\n",
        "for label in labels:\n",
        "    # Path ke direktori label\n",
        "    label_dir = f'{source_dir}{label}/'\n",
        "\n",
        "    # Path ke direktori train label\n",
        "    train_label_dir = f'{train_dir}{label}/'\n",
        "\n",
        "    # Path ke direktori val label\n",
        "    val_label_dir = f'{val_dir}{label}/'\n",
        "\n",
        "    # Membuat direktori train dan val label jika belum ada\n",
        "    if not os.path.exists(train_label_dir):\n",
        "        os.makedirs(train_label_dir)\n",
        "\n",
        "    if not os.path.exists(val_label_dir):\n",
        "        os.makedirs(val_label_dir)\n",
        "\n",
        "    # Mendapatkan daftar nama file dalam direktori label\n",
        "    filenames = os.listdir(label_dir)\n",
        "\n",
        "    # Mengacak urutan file\n",
        "    random.shuffle(filenames)\n",
        "\n",
        "    # Menghitung jumlah data train dan val\n",
        "    train_count = int(len(filenames) * train_ratio)\n",
        "    val_count = len(filenames) - train_count\n",
        "\n",
        "    # Memindahkan data train\n",
        "    for i in range(train_count):\n",
        "        src = f'{label_dir}{filenames[i]}'\n",
        "        dst = f'{train_label_dir}{filenames[i]}'\n",
        "        shutil.move(src, dst)\n",
        "\n",
        "    # Memindahkan data val\n",
        "    for i in range(train_count, train_count+val_count):\n",
        "        src = f'{label_dir}{filenames[i]}'\n",
        "        dst = f'{val_label_dir}{filenames[i]}'\n",
        "        shutil.move(src, dst)\n",
        "\n",
        "    # Memberikan pesan keberhasilan\n",
        "    print(f'{label} berhasil dibagi menjadi data train dan val')\n"
      ]
    },
    {
      "cell_type": "code",
      "execution_count": null,
      "metadata": {
        "id": "Om3En1GBJmfl"
      },
      "outputs": [],
      "source": [
        "dir_latih = os.path.join(dirbase, 'train')\n",
        "dir_valid = os.path.join(dirbase, 'val')"
      ]
    },
    {
      "cell_type": "code",
      "execution_count": null,
      "metadata": {
        "colab": {
          "base_uri": "https://localhost:8080/"
        },
        "id": "lY5jPnsIi0kA",
        "outputId": "6ae6fad3-dc80-47f0-b791-a22ccc82c808"
      },
      "outputs": [
        {
          "output_type": "execute_result",
          "data": {
            "text/plain": [
              "['BO', 'MO', 'NO_DISEASE']"
            ]
          },
          "metadata": {},
          "execution_count": 13
        }
      ],
      "source": [
        "os.listdir(f'{train_dir}')"
      ]
    },
    {
      "cell_type": "code",
      "execution_count": null,
      "metadata": {
        "colab": {
          "base_uri": "https://localhost:8080/"
        },
        "id": "r1qpWCEOi67F",
        "outputId": "1fd9bd0a-f850-4eba-9a33-1847c682aa75"
      },
      "outputs": [
        {
          "output_type": "execute_result",
          "data": {
            "text/plain": [
              "['BO', 'MO', 'NO_DISEASE']"
            ]
          },
          "metadata": {},
          "execution_count": 14
        }
      ],
      "source": [
        "os.listdir(f'{val_dir}')"
      ]
    },
    {
      "cell_type": "code",
      "execution_count": null,
      "metadata": {
        "id": "oIMQEYABjPI_"
      },
      "outputs": [],
      "source": [
        "data_latih = ImageDataGenerator(\n",
        "    rescale=1./255,\n",
        "    rotation_range=20,\n",
        "    horizontal_flip=True,\n",
        "    shear_range=0)\n",
        "data_valid = ImageDataGenerator(\n",
        "    rescale=1./255,\n",
        "    rotation_range=20,\n",
        "    horizontal_flip=True,\n",
        "    validation_split=0.9,\n",
        "    shear_range=0)"
      ]
    },
    {
      "cell_type": "code",
      "execution_count": null,
      "metadata": {
        "colab": {
          "base_uri": "https://localhost:8080/"
        },
        "id": "pD6CEho-jRQF",
        "outputId": "2560621a-a04c-4d81-bc06-3fd01a796c77"
      },
      "outputs": [
        {
          "output_type": "stream",
          "name": "stdout",
          "text": [
            "Found 740 images belonging to 3 classes.\n",
            "Found 167 images belonging to 3 classes.\n"
          ]
        }
      ],
      "source": [
        "generator_latih = data_latih.flow_from_directory(\n",
        "    directory=dir_latih,\n",
        "    target_size=(150,150),\n",
        "    batch_size=50,\n",
        "    subset='training',)\n",
        "generator_valid = data_valid.flow_from_directory(\n",
        "    directory=dir_valid,\n",
        "    target_size=(150,150),\n",
        "    batch_size=50,\n",
        "    subset='validation')"
      ]
    },
    {
      "cell_type": "code",
      "execution_count": null,
      "metadata": {
        "id": "iofodE51kk8h"
      },
      "outputs": [],
      "source": [
        "model = tensor.keras.models.Sequential([\n",
        "  tensor.keras.layers.Conv2D(32,3,activation='relu',input_shape=(150,150,3)),\n",
        "  tensor.keras.layers.MaxPooling2D(),\n",
        "  tensor.keras.layers.Conv2D(64,3,activation='relu',kernel_regularizer='l2'),\n",
        "  tensor.keras.layers.MaxPooling2D(),\n",
        "  tensor.keras.layers.Conv2D(128,3,activation='relu',kernel_regularizer='l2'),\n",
        "  tensor.keras.layers.MaxPooling2D(),\n",
        "  tensor.keras.layers.Flatten(),\n",
        "  tensor.keras.layers.Dense(256, activation='relu',kernel_regularizer='l2'),\n",
        "  tensor.keras.layers.Dense(3, activation='softmax')\n",
        "  ])"
      ]
    },
    {
      "cell_type": "code",
      "execution_count": null,
      "metadata": {
        "id": "xZnGzmcJjxze"
      },
      "outputs": [],
      "source": [
        "model.compile(loss='categorical_crossentropy',\n",
        "              optimizer='adam',\n",
        "              metrics=['accuracy'])"
      ]
    },
    {
      "cell_type": "code",
      "execution_count": null,
      "metadata": {
        "id": "fVITAQLpi1TH"
      },
      "outputs": [],
      "source": [
        "model.build([150,150,3])"
      ]
    },
    {
      "cell_type": "code",
      "execution_count": null,
      "metadata": {
        "colab": {
          "base_uri": "https://localhost:8080/",
          "height": 630
        },
        "id": "yaHXnfTmcDhl",
        "outputId": "4b7114e2-7fe6-4c10-faf2-381b19382df4"
      },
      "outputs": [
        {
          "output_type": "execute_result",
          "data": {
            "image/png": "[encoded data removed]",
            "text/plain": [
              "<IPython.core.display.Image object>"
            ]
          },
          "metadata": {},
          "execution_count": 20
        }
      ],
      "source": [
        "model_viz = tensor.keras.utils.plot_model(model,\n",
        "                          to_file='model.png',\n",
        "                          show_shapes=True,\n",
        "                          show_layer_names=True,\n",
        "                          rankdir='TB',\n",
        "                          expand_nested=True,\n",
        "                          dpi=55)\n",
        "model_viz"
      ]
    },
    {
      "cell_type": "code",
      "execution_count": null,
      "metadata": {
        "id": "2eqwNrC1jztW"
      },
      "outputs": [],
      "source": [
        "from tensorflow.keras.callbacks import EarlyStopping\n",
        "from tensorflow.keras.callbacks import ModelCheckpoint\n",
        "\n",
        "cekmodel = ModelCheckpoint(filepath='model.hdf5',monitor='val_accuracy',mode='max',verbose=2,save_best_only=True)"
      ]
    },
    {
      "cell_type": "code",
      "execution_count": null,
      "metadata": {
        "id": "q4_Pgl4Be0YN"
      },
      "outputs": [],
      "source": [
        "class myCallback(tensor.keras.callbacks.Callback):\n",
        "  def on_epoch_end(self, epoch, logs={}):\n",
        "    if(logs.get('val_accuracy') > 0.80):\n",
        "      print(\"\\nAkurasi di atas 80%, hentikan training!\")\n",
        "      self.model.stop_training = True\n",
        "\n",
        "callbacks = myCallback()"
      ]
    },
    {
      "cell_type": "code",
      "execution_count": null,
      "metadata": {
        "colab": {
          "base_uri": "https://localhost:8080/"
        },
        "id": "5W3Q26DZj14O",
        "outputId": "b251d780-7945-4760-c77f-b9ae7e890101"
      },
      "outputs": [
        {
          "output_type": "stream",
          "name": "stdout",
          "text": [
            "Epoch 1/150\n",
            "15/15 - 189s - loss: 4.5057 - accuracy: 0.5865 - val_loss: 2.6255 - val_accuracy: 0.7725 - 189s/epoch - 13s/step\n",
            "Epoch 2/150\n",
            "15/15 - 176s - loss: 2.1687 - accuracy: 0.7365 - val_loss: 1.6786 - val_accuracy: 0.7904 - 176s/epoch - 12s/step\n",
            "Epoch 3/150\n",
            "15/15 - 174s - loss: 1.4994 - accuracy: 0.7541 - val_loss: 1.2790 - val_accuracy: 0.7665 - 174s/epoch - 12s/step\n",
            "Epoch 4/150\n",
            "\n",
            "Akurasi di atas 80%, hentikan training!\n",
            "15/15 - 176s - loss: 1.1567 - accuracy: 0.7716 - val_loss: 1.0508 - val_accuracy: 0.8084 - 176s/epoch - 12s/step\n"
          ]
        }
      ],
      "source": [
        "history = model.fit(\n",
        "    generator_latih,\n",
        "    #steps_per_epoch=25, # 634 images = batch_size * steps\n",
        "    epochs=150,\n",
        "    validation_data=generator_valid,\n",
        "    #validation_steps=6, # 96 images = batch_size * steps\n",
        "    verbose=2,\n",
        "    callbacks=[callbacks])"
      ]
    },
    {
      "cell_type": "code",
      "execution_count": null,
      "metadata": {
        "id": "J38_Cq7mOyjz"
      },
      "outputs": [],
      "source": [
        "model.save('model.h5')"
      ]
    },
    {
      "cell_type": "code",
      "execution_count": null,
      "metadata": {
        "colab": {
          "base_uri": "https://localhost:8080/",
          "height": 927
        },
        "id": "TC902yTpj6jn",
        "outputId": "416ee213-236f-4bf9-a13e-f13375e9ee62"
      },
      "outputs": [
        {
          "output_type": "display_data",
          "data": {
            "text/plain": [
              "<Figure size 640x480 with 1 Axes>"
            ],
            "image/png": "[encoded data removed]"
          },
          "metadata": {}
        },
        {
          "output_type": "display_data",
          "data": {
            "text/plain": [
              "<Figure size 640x480 with 1 Axes>"
            ],
            "image/png": "[encoded data removed]"
          },
          "metadata": {}
        }
      ],
      "source": [
        "import matplotlib.pyplot as plt\n",
        "plt.plot(history.history['accuracy'])\n",
        "plt.plot(history.history['val_accuracy'])\n",
        "plt.title('Akurasi Model')\n",
        "plt.ylabel('Accuracy')\n",
        "plt.xlabel('Epochs')\n",
        "plt.legend(['train', 'validation'], loc='upper left')\n",
        "plt.show()\n",
        "\n",
        "plt.plot(history.history['loss'])\n",
        "plt.plot(history.history['val_loss'])\n",
        "plt.title('Loss Model')\n",
        "plt.ylabel('Loss')\n",
        "plt.xlabel('Epochs')\n",
        "plt.legend(['train', 'validation'], loc='upper left')\n",
        "plt.show()"
      ]
    },
    {
      "cell_type": "code",
      "source": [],
      "metadata": {
        "id": "CEWVNb2gBqPn"
      },
      "execution_count": null,
      "outputs": []
    }
  ],
  "metadata": {
    "accelerator": "GPU",
    "colab": {
      "provenance": []
    },
    "gpuClass": "standard",
    "kernelspec": {
      "display_name": "Python 3",
      "name": "python3"
    },
    "language_info": {
      "name": "python"
    }
  },
  "nbformat": 4,
  "nbformat_minor": 0
}