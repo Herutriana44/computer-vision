{
 "cells": [
  {
   "cell_type": "code",
   "execution_count": 3,
   "metadata": {},
   "outputs": [],
   "source": [
    "import cv2\n",
    "import tensorflow as tf\n",
    "import numpy as np\n",
    "\n",
    "model_path = 'CNN.h5'\n",
    "\n",
    "def predict_image(img_path, model_path):\n",
    "    # Memuat model dari file CNN.h5\n",
    "    model = tf.keras.models.load_model(model_path)\n",
    "\n",
    "    # Membaca gambar yang akan diprediksi\n",
    "    img = cv2.imread(img_path)\n",
    "\n",
    "    # Mengubah gambar menjadi format HSV\n",
    "    hsv_img = cv2.cvtColor(img, cv2.COLOR_BGR2HSV)\n",
    "\n",
    "    # Menghitung histogram HSV\n",
    "    hsv_hist = cv2.calcHist([hsv_img], [0, 1, 2], None, [8, 2, 2], [0, 180, 0, 256, 0, 256])\n",
    "    hsv_hist = cv2.normalize(hsv_hist, hsv_hist).flatten()\n",
    "\n",
    "    # Melakukan prediksi menggunakan model CNN\n",
    "    cnn_prediction = model.predict(hsv_hist.reshape(1, -1))\n",
    "\n",
    "    # Mappings kelas label\n",
    "    label_map = {0: 'tidak segar', 1: 'segar'}\n",
    "\n",
    "    # Mendapatkan label prediksi dan probabilitas\n",
    "    cnn_label = round(max(cnn_prediction[0]))\n",
    "    label = label_map[cnn_label]\n",
    "    cnn_prob = cnn_prediction[0]\n",
    "\n",
    "    # Mengembalikan hasil prediksi\n",
    "    return label, cnn_prob"
   ]
  },
  {
   "cell_type": "code",
   "execution_count": 23,
   "metadata": {},
   "outputs": [],
   "source": [
    "import os\n",
    "\n",
    "finfile = os.listdir('insang ikan/')\n",
    "gambar = []\n",
    "for i in range(len(finfile)):\n",
    "    if('.jpg' in finfile[i]):\n",
    "        gambar.append(finfile[i])\n",
    "segar = []\n",
    "tidak_segar = []\n",
    "for i in range(len(gambar)):\n",
    "    if('tidak segar_' in gambar[i]):\n",
    "        tidak_segar.append(gambar[i])\n",
    "    else:\n",
    "        segar.append(gambar[i])"
   ]
  },
  {
   "cell_type": "code",
   "execution_count": 25,
   "metadata": {},
   "outputs": [
    {
     "data": {
      "text/plain": [
       "['segar_5.jpg',\n",
       " 'segar_3.jpg',\n",
       " 'segar_0.jpg',\n",
       " 'segar_4.jpg',\n",
       " 'segar_6.jpg',\n",
       " 'segar_1.jpg',\n",
       " 'segar_2.jpg']"
      ]
     },
     "execution_count": 25,
     "metadata": {},
     "output_type": "execute_result"
    }
   ],
   "source": [
    "segar"
   ]
  },
  {
   "cell_type": "code",
   "execution_count": 26,
   "metadata": {},
   "outputs": [
    {
     "name": "stdout",
     "output_type": "stream",
     "text": [
      "file : segar_5.jpg\n",
      "1/1 [==============================] - 0s 83ms/step\n",
      "Prediksi:\n",
      "Kelas: tidak segar\n",
      "Probabilitas: [0.]\n",
      "file : tidak segar_0.jpg\n",
      "1/1 [==============================] - 0s 100ms/step\n",
      "Prediksi:\n",
      "Kelas: tidak segar\n",
      "Probabilitas: [0.]\n",
      "file : segar_3.jpg\n",
      "WARNING:tensorflow:5 out of the last 5 calls to <function Model.make_predict_function.<locals>.predict_function at 0x7f90d45bf0d0> triggered tf.function retracing. Tracing is expensive and the excessive number of tracings could be due to (1) creating @tf.function repeatedly in a loop, (2) passing tensors with different shapes, (3) passing Python objects instead of tensors. For (1), please define your @tf.function outside of the loop. For (2), @tf.function has reduce_retracing=True option that can avoid unnecessary retracing. For (3), please refer to https://www.tensorflow.org/guide/function#controlling_retracing and https://www.tensorflow.org/api_docs/python/tf/function for  more details.\n",
      "1/1 [==============================] - 0s 86ms/step\n",
      "Prediksi:\n",
      "Kelas: tidak segar\n",
      "Probabilitas: [0.]\n",
      "file : tidak segar_3.jpg\n",
      "WARNING:tensorflow:6 out of the last 6 calls to <function Model.make_predict_function.<locals>.predict_function at 0x7f90d45bf430> triggered tf.function retracing. Tracing is expensive and the excessive number of tracings could be due to (1) creating @tf.function repeatedly in a loop, (2) passing tensors with different shapes, (3) passing Python objects instead of tensors. For (1), please define your @tf.function outside of the loop. For (2), @tf.function has reduce_retracing=True option that can avoid unnecessary retracing. For (3), please refer to https://www.tensorflow.org/guide/function#controlling_retracing and https://www.tensorflow.org/api_docs/python/tf/function for  more details.\n",
      "1/1 [==============================] - 0s 212ms/step\n",
      "Prediksi:\n",
      "Kelas: tidak segar\n",
      "Probabilitas: [0.]\n",
      "file : tidak segar_4.jpg\n",
      "1/1 [==============================] - 0s 163ms/step\n",
      "Prediksi:\n",
      "Kelas: tidak segar\n",
      "Probabilitas: [0.]\n",
      "file : segar_0.jpg\n",
      "1/1 [==============================] - 0s 83ms/step\n",
      "Prediksi:\n",
      "Kelas: tidak segar\n",
      "Probabilitas: [0.]\n",
      "file : tidak segar_5.jpg\n",
      "1/1 [==============================] - 0s 123ms/step\n",
      "Prediksi:\n",
      "Kelas: tidak segar\n",
      "Probabilitas: [0.]\n",
      "file : tidak segar_1.jpg\n",
      "1/1 [==============================] - 0s 87ms/step\n",
      "Prediksi:\n",
      "Kelas: tidak segar\n",
      "Probabilitas: [0.]\n",
      "file : segar_4.jpg\n",
      "1/1 [==============================] - 0s 87ms/step\n",
      "Prediksi:\n",
      "Kelas: tidak segar\n",
      "Probabilitas: [0.]\n",
      "file : segar_6.jpg\n",
      "1/1 [==============================] - 0s 85ms/step\n",
      "Prediksi:\n",
      "Kelas: tidak segar\n",
      "Probabilitas: [0.]\n",
      "file : tidak segar_2.jpg\n",
      "1/1 [==============================] - 0s 78ms/step\n",
      "Prediksi:\n",
      "Kelas: tidak segar\n",
      "Probabilitas: [0.]\n",
      "file : tidak segar_6.jpg\n",
      "1/1 [==============================] - 0s 90ms/step\n",
      "Prediksi:\n",
      "Kelas: tidak segar\n",
      "Probabilitas: [0.]\n",
      "file : segar_1.jpg\n",
      "1/1 [==============================] - 0s 83ms/step\n",
      "Prediksi:\n",
      "Kelas: tidak segar\n",
      "Probabilitas: [0.]\n",
      "file : segar_2.jpg\n",
      "1/1 [==============================] - 0s 83ms/step\n",
      "Prediksi:\n",
      "Kelas: tidak segar\n",
      "Probabilitas: [0.]\n"
     ]
    }
   ],
   "source": [
    "for i in range(len(gambar)):\n",
    "    print(f\"file : {gambar[i]}\")\n",
    "    label, prob = predict_image('insang ikan/'+gambar[i], model_path)\n",
    "    print('Prediksi:')\n",
    "    print('Kelas:', label)\n",
    "    print('Probabilitas:', prob)"
   ]
  },
  {
   "cell_type": "code",
   "execution_count": 4,
   "metadata": {},
   "outputs": [
    {
     "name": "stdout",
     "output_type": "stream",
     "text": [
      "1/1 [==============================] - 0s 78ms/step\n",
      "Prediksi:\n",
      "Kelas: tidak segar\n",
      "Probabilitas: [0.]\n"
     ]
    }
   ],
   "source": [
    "img_path = 'insang ikan/segar_0.jpg'\n",
    "label, prob = predict_image(img_path, model_path)\n",
    "print('Prediksi:')\n",
    "print('Kelas:', label)\n",
    "print('Probabilitas:', prob)"
   ]
  }
 ],
 "metadata": {
  "kernelspec": {
   "display_name": "Python 3",
   "language": "python",
   "name": "python3"
  },
  "language_info": {
   "codemirror_mode": {
    "name": "ipython",
    "version": 3
   },
   "file_extension": ".py",
   "mimetype": "text/x-python",
   "name": "python",
   "nbconvert_exporter": "python",
   "pygments_lexer": "ipython3",
   "version": "3.9.2"
  },
  "orig_nbformat": 4
 },
 "nbformat": 4,
 "nbformat_minor": 2
}
