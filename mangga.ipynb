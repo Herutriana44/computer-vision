{
  "nbformat": 4,
  "nbformat_minor": 0,
  "metadata": {
    "colab": {
      "provenance": []
    },
    "kernelspec": {
      "name": "python3",
      "display_name": "Python 3"
    },
    "gpuClass": "standard"
  },
  "cells": [
    {
      "cell_type": "markdown",
      "source": [
        "**Notes:**\n",
        "\n",
        "Validation set seharusnya menjadi referensi kita untuk menilai proses latih, sehingga menggunakan augmentasi pada set ini akan menjadikan bias pada kesimpulan kita untuk melihat trend pe epoch nya.\n",
        "\n",
        "Penggunaan satu image generator dengan augmentasi untuk sekaligus training dan vlaidation menurut saya kurang tepat. Karena validasi seharusnya merupakan referensi, yang harus sama, sehingga tidak menjadi bias saat menyimpulkan. Sekaligus ini mungkin enjadi satu sebab trend validasi yang oscilating\n",
        "\n",
        "Saya menyarankan untuk juga lakukan eksplorasi lagi modul augmentasi  juga arsitektur cnn yang terkini dan banyak dikembangkan. Bagaimana pendekatan untuk kasus dengan class sangat banyak dan varies\n",
        "\n",
        "Menurunkan oscilating trend bisa juga dengan dynamic learning rate, menurunkan nilai randomness seperti di dropout, menurunkan batch size, dll. Sehinga dapat menemukan titik optimum dengan cepat dan tepat\n",
        "\n",
        "\n"
      ],
      "metadata": {
        "id": "gbwW-LCnR-UF"
      }
    },
    {
      "cell_type": "code",
      "metadata": {
        "id": "x2xyNjR0OFdz"
      },
      "source": [
        "import tensorflow as tensor\n",
        "from tensorflow.keras.optimizers import RMSprop\n",
        "from tensorflow.keras.preprocessing.image import ImageDataGenerator\n",
        "import os\n",
        "import matplotlib.pyplot as plt\n",
        "import seaborn as sn\n",
        "import cv2\n",
        "from random import randint\n",
        "import numpy as np\n",
        "from tensorflow.keras import models, layers\n",
        "import matplotlib.pyplot as plt\n",
        "from PIL import Image\n",
        "import numpy as np\n",
        "from tensorflow.keras.layers.experimental import preprocessing\n",
        "from tensorflow.keras.preprocessing.image import load_img"
      ],
      "execution_count": null,
      "outputs": []
    },
    {
      "cell_type": "code",
      "source": [
        "!pip install kaggle"
      ],
      "metadata": {
        "id": "deiFlbx_QnXS",
        "colab": {
          "base_uri": "https://localhost:8080/"
        },
        "outputId": "7404bfd0-98ba-4763-bd22-2d176c131d79"
      },
      "execution_count": null,
      "outputs": [
        {
          "output_type": "stream",
          "name": "stdout",
          "text": [
            "Looking in indexes: https://pypi.org/simple, https://us-python.pkg.dev/colab-wheels/public/simple/\n",
            "Requirement already satisfied: kaggle in /usr/local/lib/python3.7/dist-packages (1.5.12)\n",
            "Requirement already satisfied: urllib3 in /usr/local/lib/python3.7/dist-packages (from kaggle) (1.24.3)\n",
            "Requirement already satisfied: python-slugify in /usr/local/lib/python3.7/dist-packages (from kaggle) (6.1.2)\n",
            "Requirement already satisfied: requests in /usr/local/lib/python3.7/dist-packages (from kaggle) (2.23.0)\n",
            "Requirement already satisfied: tqdm in /usr/local/lib/python3.7/dist-packages (from kaggle) (4.64.0)\n",
            "Requirement already satisfied: certifi in /usr/local/lib/python3.7/dist-packages (from kaggle) (2022.6.15)\n",
            "Requirement already satisfied: python-dateutil in /usr/local/lib/python3.7/dist-packages (from kaggle) (2.8.2)\n",
            "Requirement already satisfied: six>=1.10 in /usr/local/lib/python3.7/dist-packages (from kaggle) (1.15.0)\n",
            "Requirement already satisfied: text-unidecode>=1.3 in /usr/local/lib/python3.7/dist-packages (from python-slugify->kaggle) (1.3)\n",
            "Requirement already satisfied: chardet<4,>=3.0.2 in /usr/local/lib/python3.7/dist-packages (from requests->kaggle) (3.0.4)\n",
            "Requirement already satisfied: idna<3,>=2.5 in /usr/local/lib/python3.7/dist-packages (from requests->kaggle) (2.10)\n"
          ]
        }
      ]
    },
    {
      "cell_type": "code",
      "source": [
        "from google.colab import files\n",
        "files.upload()"
      ],
      "metadata": {
        "id": "WO9LsVVyQpaq",
        "colab": {
          "resources": {
            "http://localhost:8080/nbextensions/google.colab/files.js": {
              "data": "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",
              "ok": true,
              "headers": [
                [
                  "content-type",
                  "application/javascript"
                ]
              ],
              "status": 200,
              "status_text": ""
            }
          },
          "base_uri": "https://localhost:8080/",
          "height": 90
        },
        "outputId": "878b32ec-52ec-4a7f-a798-b2a2bf6c2163"
      },
      "execution_count": null,
      "outputs": [
        {
          "output_type": "display_data",
          "data": {
            "text/plain": [
              "<IPython.core.display.HTML object>"
            ],
            "text/html": [
              "\n",
              "     <input type=\"file\" id=\"files-6d2450ee-55d2-4a2b-a1d3-a7294f7b699f\" name=\"files[]\" multiple disabled\n",
              "        style=\"border:none\" />\n",
              "     <output id=\"result-6d2450ee-55d2-4a2b-a1d3-a7294f7b699f\">\n",
              "      Upload widget is only available when the cell has been executed in the\n",
              "      current browser session. Please rerun this cell to enable.\n",
              "      </output>\n",
              "      <script src=\"/nbextensions/google.colab/files.js\"></script> "
            ]
          },
          "metadata": {}
        },
        {
          "output_type": "stream",
          "name": "stdout",
          "text": [
            "Saving kaggle.json to kaggle.json\n"
          ]
        },
        {
          "output_type": "execute_result",
          "data": {
            "text/plain": [
              "{'kaggle.json': b'{\"username\":\"herutriana\",\"key\":\"2c1f797ca47ea0ac874fea831a498631\"}'}"
            ]
          },
          "metadata": {},
          "execution_count": 3
        }
      ]
    },
    {
      "cell_type": "code",
      "source": [
        "!mkdir -p ~/.kaggle\n",
        "!cp kaggle.json ~/.kaggle/\n",
        "!chmod 600 ~/.kaggle/kaggle.json"
      ],
      "metadata": {
        "id": "o1GmTrmeQrUX"
      },
      "execution_count": null,
      "outputs": []
    },
    {
      "cell_type": "code",
      "metadata": {
        "id": "900AoG_-Ok7m",
        "colab": {
          "base_uri": "https://localhost:8080/"
        },
        "outputId": "b674c8b9-f32c-4bb4-f9c1-14fe4394b013"
      },
      "source": [
        "!kaggle datasets download -d iansangaji/mangga"
      ],
      "execution_count": null,
      "outputs": [
        {
          "output_type": "stream",
          "name": "stdout",
          "text": [
            "Downloading mangga.zip to /content\n",
            " 98% 713M/725M [00:13<00:00, 42.4MB/s]\n",
            "100% 725M/725M [00:13<00:00, 57.4MB/s]\n"
          ]
        }
      ]
    },
    {
      "cell_type": "code",
      "metadata": {
        "id": "lefDdtFqOxoq"
      },
      "source": [
        "import zipfile,os\n",
        "zip_lcl = '/content/mangga.zip'\n",
        "rzip = zipfile.ZipFile(zip_lcl, 'r')\n",
        "rzip.extractall('/content')\n",
        "rzip.close()"
      ],
      "execution_count": null,
      "outputs": []
    },
    {
      "cell_type": "code",
      "source": [
        "dirbase = '/content/mangga_image'\n",
        "dir_latih = os.path.join(dirbase, 'train')\n",
        "dir_val = os.path.join(dirbase, 'valid')"
      ],
      "metadata": {
        "id": "63a3wezuROs5"
      },
      "execution_count": null,
      "outputs": []
    },
    {
      "cell_type": "code",
      "source": [
        "CLASSES, gems = [], []\n",
        "\n",
        "for root, dirs, files in os.walk(dir_latih):\n",
        "    f = os.path.basename(root)\n",
        "\n",
        "    if len(files) > 0:\n",
        "        gems.append(len(files))\n",
        "        if f not in CLASSES:\n",
        "            CLASSES.append(f)\n",
        "\n",
        "gems_count = len(CLASSES)\n",
        "print('{} classes with {} images in total'.format(len(CLASSES), sum(gems)))"
      ],
      "metadata": {
        "colab": {
          "base_uri": "https://localhost:8080/"
        },
        "id": "2uRyXAkJQKnW",
        "outputId": "958e9992-d6f4-4120-c681-25e178047176"
      },
      "execution_count": null,
      "outputs": [
        {
          "output_type": "stream",
          "name": "stdout",
          "text": [
            "3 classes with 300 images in total\n"
          ]
        }
      ]
    },
    {
      "cell_type": "code",
      "metadata": {
        "id": "7tIkv-f4QG_q",
        "colab": {
          "base_uri": "https://localhost:8080/"
        },
        "outputId": "edbcad24-4ca0-47e6-d9fe-0921e4bd8c4b"
      },
      "source": [
        "os.listdir(dir_latih)"
      ],
      "execution_count": null,
      "outputs": [
        {
          "output_type": "execute_result",
          "data": {
            "text/plain": [
              "['mangga_masak', 'mangga_busuk', 'mangga_muda']"
            ]
          },
          "metadata": {},
          "execution_count": 9
        }
      ]
    },
    {
      "cell_type": "code",
      "metadata": {
        "id": "y49Xm2mOQKWW",
        "colab": {
          "base_uri": "https://localhost:8080/"
        },
        "outputId": "980bd06d-910f-484b-c57f-28852e5eab2e"
      },
      "source": [
        "os.listdir(dir_val)"
      ],
      "execution_count": null,
      "outputs": [
        {
          "output_type": "execute_result",
          "data": {
            "text/plain": [
              "['mangga_masak', 'mangga_busuk', 'mangga_muda']"
            ]
          },
          "metadata": {},
          "execution_count": 10
        }
      ]
    },
    {
      "cell_type": "code",
      "metadata": {
        "id": "h9k1JJlzUYTE"
      },
      "source": [
        "latih_generator = ImageDataGenerator(\n",
        "    rescale=1./255,\n",
        "    rotation_range=20,\n",
        "    horizontal_flip=True,\n",
        "    shear_range=0.2,\n",
        "    fill_mode='nearest')\n",
        "\n",
        "val_generator = ImageDataGenerator(\n",
        "    rescale=1./255,\n",
        "    rotation_range=20,\n",
        "    horizontal_flip=True,\n",
        "    validation_split=0.9,\n",
        "    shear_range=0.2,\n",
        "    fill_mode='nearest')"
      ],
      "execution_count": null,
      "outputs": []
    },
    {
      "cell_type": "code",
      "source": [
        "batchSize = 4"
      ],
      "metadata": {
        "id": "BeVQwYGLPgvg"
      },
      "execution_count": null,
      "outputs": []
    },
    {
      "cell_type": "code",
      "metadata": {
        "id": "-oMxhmtOUgco",
        "colab": {
          "base_uri": "https://localhost:8080/"
        },
        "outputId": "7d753ce9-dee7-4d30-fdbe-7342580dbb49"
      },
      "source": [
        "generator_latih = latih_generator.flow_from_directory(\n",
        "    directory=dir_latih,\n",
        "    target_size=(150,150),\n",
        "    batch_size=batchSize,\n",
        "    subset='training',\n",
        "    class_mode='categorical')\n",
        "generator_valid = val_generator.flow_from_directory(\n",
        "    directory=dir_val,\n",
        "    target_size=(150,150),\n",
        "    batch_size=batchSize,\n",
        "    subset='validation',\n",
        "    class_mode='categorical')"
      ],
      "execution_count": null,
      "outputs": [
        {
          "output_type": "stream",
          "name": "stdout",
          "text": [
            "Found 198 images belonging to 3 classes.\n",
            "Found 176 images belonging to 3 classes.\n"
          ]
        }
      ]
    },
    {
      "cell_type": "code",
      "metadata": {
        "id": "mC5l4hg4_wv8"
      },
      "source": [
        "model = tensor.keras.models.Sequential([\n",
        "  tensor.keras.layers.Conv2D(32,(3,3),activation='relu',input_shape=(150,150,3)),\n",
        "  tensor.keras.layers.MaxPooling2D(2,2),\n",
        "  tensor.keras.layers.Conv2D(64,(3,3),activation='relu'),\n",
        "  tensor.keras.layers.MaxPooling2D(2,2),\n",
        "  tensor.keras.layers.Conv2D(128,(3,3),activation='relu'),\n",
        "  tensor.keras.layers.MaxPooling2D(2,2),\n",
        "  tensor.keras.layers.Flatten(),\n",
        "  tensor.keras.layers.Dense(512,activation='relu'),\n",
        "  tensor.keras.layers.Dense(3,activation='softmax')\n",
        "  ])"
      ],
      "execution_count": null,
      "outputs": []
    },
    {
      "cell_type": "code",
      "metadata": {
        "id": "rotkCsVQCGcE"
      },
      "source": [
        "model.compile(loss='categorical_crossentropy',optimizer=tensor.optimizers.Adam(),\n",
        "              metrics=['accuracy'])"
      ],
      "execution_count": null,
      "outputs": []
    },
    {
      "cell_type": "code",
      "source": [
        "import tensorflow as tf\n",
        "class myCallback(tf.keras.callbacks.Callback):\n",
        "  def on_epoch_end(self, epoch, logs={}):\n",
        "    if(logs.get('accuracy') > 0.95 and logs.get('loss') < 0.1):\n",
        "      print(\"\\nAkurasi di atas 90%, hentikan training!\")\n",
        "      self.model.stop_training = True\n",
        "\n",
        "stop = myCallback()"
      ],
      "metadata": {
        "id": "Vv_cDRZUw0Uc"
      },
      "execution_count": null,
      "outputs": []
    },
    {
      "cell_type": "code",
      "metadata": {
        "id": "oOrICtyHjzCf"
      },
      "source": [
        "from tensorflow.keras.callbacks import EarlyStopping\n",
        "from tensorflow.keras.callbacks import ModelCheckpoint\n",
        "#earstop = EarlyStopping(monitor='val_loss',mode='min',verbose=1,patience=10)\n",
        "cekmodel = ModelCheckpoint(filepath='model.hdf5',monitor='val_accuracy',mode='max',verbose=1,save_best_only=True)"
      ],
      "execution_count": null,
      "outputs": []
    },
    {
      "cell_type": "code",
      "metadata": {
        "id": "BH1w0YmECgvB",
        "colab": {
          "base_uri": "https://localhost:8080/"
        },
        "outputId": "db5fc5c2-80eb-43e9-ee81-0baa8532a293"
      },
      "source": [
        "history = model.fit(\n",
        "    generator_latih,\n",
        "    steps_per_epoch=198/4, # 10243 images = batch_size * steps\n",
        "    epochs=30,\n",
        "    validation_data=generator_valid,\n",
        "    validation_steps=176/4, # 1050 images = batch_size * steps\n",
        "    verbose=2,\n",
        "    callbacks=[cekmodel,stop])"
      ],
      "execution_count": null,
      "outputs": [
        {
          "output_type": "stream",
          "name": "stdout",
          "text": [
            "Epoch 1/30\n",
            "\n",
            "Epoch 1: val_accuracy improved from 0.25000 to 0.57386, saving model to model.hdf5\n",
            "49/49 - 39s - loss: 0.9920 - accuracy: 0.5101 - val_loss: 0.8719 - val_accuracy: 0.5739 - 39s/epoch - 791ms/step\n",
            "Epoch 2/30\n",
            "\n",
            "Epoch 2: val_accuracy improved from 0.57386 to 0.59091, saving model to model.hdf5\n",
            "49/49 - 37s - loss: 0.8673 - accuracy: 0.5758 - val_loss: 0.7777 - val_accuracy: 0.5909 - 37s/epoch - 746ms/step\n",
            "Epoch 3/30\n",
            "\n",
            "Epoch 3: val_accuracy improved from 0.59091 to 0.59659, saving model to model.hdf5\n",
            "49/49 - 39s - loss: 0.8684 - accuracy: 0.6313 - val_loss: 0.8093 - val_accuracy: 0.5966 - 39s/epoch - 781ms/step\n",
            "Epoch 4/30\n",
            "\n",
            "Epoch 4: val_accuracy improved from 0.59659 to 0.61364, saving model to model.hdf5\n",
            "49/49 - 37s - loss: 0.8626 - accuracy: 0.6212 - val_loss: 0.7753 - val_accuracy: 0.6136 - 37s/epoch - 751ms/step\n",
            "Epoch 5/30\n",
            "\n",
            "Epoch 5: val_accuracy improved from 0.61364 to 0.62500, saving model to model.hdf5\n",
            "49/49 - 37s - loss: 0.8881 - accuracy: 0.6010 - val_loss: 0.8021 - val_accuracy: 0.6250 - 37s/epoch - 738ms/step\n",
            "Epoch 6/30\n",
            "\n",
            "Epoch 6: val_accuracy did not improve from 0.62500\n",
            "49/49 - 36s - loss: 0.7926 - accuracy: 0.6111 - val_loss: 0.8094 - val_accuracy: 0.5909 - 36s/epoch - 726ms/step\n",
            "Epoch 7/30\n",
            "\n",
            "Epoch 7: val_accuracy did not improve from 0.62500\n",
            "49/49 - 37s - loss: 0.7516 - accuracy: 0.6465 - val_loss: 0.8884 - val_accuracy: 0.5625 - 37s/epoch - 754ms/step\n",
            "Epoch 8/30\n",
            "\n",
            "Epoch 8: val_accuracy improved from 0.62500 to 0.65341, saving model to model.hdf5\n",
            "49/49 - 37s - loss: 0.6865 - accuracy: 0.6768 - val_loss: 0.7925 - val_accuracy: 0.6534 - 37s/epoch - 748ms/step\n",
            "Epoch 9/30\n",
            "\n",
            "Epoch 9: val_accuracy improved from 0.65341 to 0.74432, saving model to model.hdf5\n",
            "49/49 - 37s - loss: 0.7183 - accuracy: 0.6818 - val_loss: 0.6232 - val_accuracy: 0.7443 - 37s/epoch - 743ms/step\n",
            "Epoch 10/30\n",
            "\n",
            "Epoch 10: val_accuracy did not improve from 0.74432\n",
            "49/49 - 36s - loss: 0.6941 - accuracy: 0.6869 - val_loss: 0.5951 - val_accuracy: 0.7443 - 36s/epoch - 734ms/step\n",
            "Epoch 11/30\n",
            "\n",
            "Epoch 11: val_accuracy improved from 0.74432 to 0.75000, saving model to model.hdf5\n",
            "49/49 - 37s - loss: 0.7041 - accuracy: 0.6970 - val_loss: 0.6405 - val_accuracy: 0.7500 - 37s/epoch - 742ms/step\n",
            "Epoch 12/30\n",
            "\n",
            "Epoch 12: val_accuracy did not improve from 0.75000\n",
            "49/49 - 36s - loss: 0.5990 - accuracy: 0.7020 - val_loss: 0.6223 - val_accuracy: 0.7386 - 36s/epoch - 736ms/step\n",
            "Epoch 13/30\n",
            "\n",
            "Epoch 13: val_accuracy did not improve from 0.75000\n",
            "49/49 - 36s - loss: 0.6160 - accuracy: 0.7323 - val_loss: 0.6016 - val_accuracy: 0.7386 - 36s/epoch - 734ms/step\n",
            "Epoch 14/30\n",
            "\n",
            "Epoch 14: val_accuracy improved from 0.75000 to 0.83523, saving model to model.hdf5\n",
            "49/49 - 37s - loss: 0.5412 - accuracy: 0.7626 - val_loss: 0.3935 - val_accuracy: 0.8352 - 37s/epoch - 742ms/step\n",
            "Epoch 15/30\n",
            "\n",
            "Epoch 15: val_accuracy did not improve from 0.83523\n",
            "49/49 - 36s - loss: 0.4871 - accuracy: 0.8081 - val_loss: 0.4713 - val_accuracy: 0.7784 - 36s/epoch - 719ms/step\n",
            "Epoch 16/30\n",
            "\n",
            "Epoch 16: val_accuracy improved from 0.83523 to 0.84091, saving model to model.hdf5\n",
            "49/49 - 37s - loss: 0.4309 - accuracy: 0.8182 - val_loss: 0.4387 - val_accuracy: 0.8409 - 37s/epoch - 743ms/step\n",
            "Epoch 17/30\n",
            "\n",
            "Epoch 17: val_accuracy did not improve from 0.84091\n",
            "49/49 - 36s - loss: 0.4261 - accuracy: 0.8434 - val_loss: 0.4555 - val_accuracy: 0.8068 - 36s/epoch - 729ms/step\n",
            "Epoch 18/30\n",
            "\n",
            "Epoch 18: val_accuracy improved from 0.84091 to 0.86364, saving model to model.hdf5\n",
            "49/49 - 36s - loss: 0.3714 - accuracy: 0.8333 - val_loss: 0.4363 - val_accuracy: 0.8636 - 36s/epoch - 727ms/step\n",
            "Epoch 19/30\n",
            "\n",
            "Epoch 19: val_accuracy improved from 0.86364 to 0.87500, saving model to model.hdf5\n",
            "49/49 - 38s - loss: 0.4005 - accuracy: 0.8535 - val_loss: 0.3551 - val_accuracy: 0.8750 - 38s/epoch - 764ms/step\n",
            "Epoch 20/30\n",
            "\n",
            "Epoch 20: val_accuracy improved from 0.87500 to 0.92045, saving model to model.hdf5\n",
            "49/49 - 37s - loss: 0.3360 - accuracy: 0.8636 - val_loss: 0.2492 - val_accuracy: 0.9205 - 37s/epoch - 740ms/step\n",
            "Epoch 21/30\n",
            "\n",
            "Epoch 21: val_accuracy did not improve from 0.92045\n",
            "49/49 - 36s - loss: 0.4141 - accuracy: 0.8182 - val_loss: 0.7378 - val_accuracy: 0.7159 - 36s/epoch - 734ms/step\n",
            "Epoch 22/30\n",
            "\n",
            "Epoch 22: val_accuracy did not improve from 0.92045\n",
            "49/49 - 36s - loss: 0.3962 - accuracy: 0.8636 - val_loss: 0.3865 - val_accuracy: 0.8466 - 36s/epoch - 735ms/step\n",
            "Epoch 23/30\n",
            "\n",
            "Epoch 23: val_accuracy did not improve from 0.92045\n",
            "49/49 - 36s - loss: 0.2097 - accuracy: 0.9343 - val_loss: 0.3557 - val_accuracy: 0.8409 - 36s/epoch - 721ms/step\n",
            "Epoch 24/30\n",
            "\n",
            "Epoch 24: val_accuracy did not improve from 0.92045\n",
            "49/49 - 36s - loss: 0.2435 - accuracy: 0.8990 - val_loss: 0.4856 - val_accuracy: 0.8295 - 36s/epoch - 731ms/step\n",
            "Epoch 25/30\n",
            "\n",
            "Epoch 25: val_accuracy improved from 0.92045 to 0.94886, saving model to model.hdf5\n",
            "49/49 - 38s - loss: 0.2695 - accuracy: 0.9141 - val_loss: 0.1479 - val_accuracy: 0.9489 - 38s/epoch - 760ms/step\n",
            "Epoch 26/30\n",
            "\n",
            "Epoch 26: val_accuracy did not improve from 0.94886\n",
            "49/49 - 37s - loss: 0.2484 - accuracy: 0.9293 - val_loss: 0.2531 - val_accuracy: 0.8864 - 37s/epoch - 746ms/step\n",
            "Epoch 27/30\n",
            "\n",
            "Epoch 27: val_accuracy improved from 0.94886 to 0.96591, saving model to model.hdf5\n",
            "49/49 - 37s - loss: 0.2390 - accuracy: 0.9242 - val_loss: 0.1227 - val_accuracy: 0.9659 - 37s/epoch - 745ms/step\n",
            "Epoch 28/30\n",
            "\n",
            "Epoch 28: val_accuracy improved from 0.96591 to 0.98295, saving model to model.hdf5\n",
            "49/49 - 37s - loss: 0.2051 - accuracy: 0.9141 - val_loss: 0.1257 - val_accuracy: 0.9830 - 37s/epoch - 740ms/step\n",
            "Epoch 29/30\n",
            "\n",
            "Epoch 29: val_accuracy did not improve from 0.98295\n",
            "49/49 - 36s - loss: 0.1239 - accuracy: 0.9646 - val_loss: 0.1384 - val_accuracy: 0.9489 - 36s/epoch - 728ms/step\n",
            "Epoch 30/30\n",
            "\n",
            "Epoch 30: val_accuracy did not improve from 0.98295\n",
            "49/49 - 36s - loss: 0.1025 - accuracy: 0.9697 - val_loss: 0.1369 - val_accuracy: 0.9432 - 36s/epoch - 724ms/step\n"
          ]
        }
      ]
    },
    {
      "cell_type": "code",
      "metadata": {
        "colab": {
          "base_uri": "https://localhost:8080/",
          "height": 573
        },
        "id": "bxRk07Ieu7C2",
        "outputId": "67461480-b6ab-45bc-cab0-4b314bcda3bf"
      },
      "source": [
        "import matplotlib.pyplot as plt\n",
        "plt.plot(history.history['accuracy'])\n",
        "plt.plot(history.history['val_accuracy'])\n",
        "plt.title('Akurasi Model Klasifikasi RPS')\n",
        "plt.ylabel('Accuracy')\n",
        "plt.xlabel('Epochs')\n",
        "plt.legend(['train', 'test'], loc='upper left')\n",
        "plt.show()\n",
        "\n",
        "plt.plot(history.history['loss'])\n",
        "plt.plot(history.history['val_loss'])\n",
        "plt.title('Loss Model Klasifikasi RPS')\n",
        "plt.ylabel('Loss')\n",
        "plt.xlabel('Epochs')\n",
        "plt.legend(['train', 'test'], loc='upper left')\n",
        "plt.show()"
      ],
      "execution_count": null,
      "outputs": [
        {
          "output_type": "display_data",
          "data": {
            "text/plain": [
              "<Figure size 432x288 with 1 Axes>"
            ],
            "image/png": "[encoded data removed]"
          },
          "metadata": {
            "needs_background": "light"
          }
        },
        {
          "output_type": "display_data",
          "data": {
            "text/plain": [
              "<Figure size 432x288 with 1 Axes>"
            ],
            "image/png": "[encoded data removed]"
          },
          "metadata": {
            "needs_background": "light"
          }
        }
      ]
    },
    {
      "cell_type": "code",
      "metadata": {
        "colab": {
          "base_uri": "https://localhost:8080/"
        },
        "id": "TJzX63JavAdT",
        "outputId": "c814eab5-771d-48a0-bd37-275f7020f99d"
      },
      "source": [
        "pengubah = tensor.lite.TFLiteConverter.from_keras_model(model)\n",
        "tflite_model = pengubah.convert()"
      ],
      "execution_count": null,
      "outputs": [
        {
          "output_type": "stream",
          "name": "stdout",
          "text": [
            "INFO:tensorflow:Assets written to: /tmp/tmpzs_kr8ed/assets\n"
          ]
        },
        {
          "output_type": "stream",
          "name": "stderr",
          "text": [
            "INFO:tensorflow:Assets written to: /tmp/tmpzs_kr8ed/assets\n",
            "WARNING:absl:Buffer deduplication procedure will be skipped when flatbuffer library is not properly loaded\n"
          ]
        }
      ]
    },
    {
      "cell_type": "code",
      "metadata": {
        "id": "omHCS6r6vB-i"
      },
      "source": [
        "with tensor.io.gfile.GFile('model.tflite', 'wb') as f:\n",
        "  f.write(tflite_model)"
      ],
      "execution_count": null,
      "outputs": []
    },
    {
      "cell_type": "code",
      "metadata": {
        "colab": {
          "base_uri": "https://localhost:8080/"
        },
        "id": "8xHPi5cgvEey",
        "outputId": "45fb7420-2d6b-42ba-fc3b-4c63627837bf"
      },
      "source": [
        "model.save('mangga.h5')\n",
        "%cd"
      ],
      "execution_count": null,
      "outputs": [
        {
          "output_type": "stream",
          "name": "stdout",
          "text": [
            "/root\n"
          ]
        }
      ]
    },
    {
      "cell_type": "code",
      "source": [
        "model.save('/content/mangga.hdf5')"
      ],
      "metadata": {
        "id": "JcEDF4H8tbyi"
      },
      "execution_count": null,
      "outputs": []
    }
  ]
}