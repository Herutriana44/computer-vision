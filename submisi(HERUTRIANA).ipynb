{
  "nbformat": 4,
  "nbformat_minor": 0,
  "metadata": {
    "colab": {
      "provenance": []
    },
    "kernelspec": {
      "name": "python3",
      "display_name": "Python 3"
    }
  },
  "cells": [
    {
      "cell_type": "code",
      "metadata": {
        "id": "x2xyNjR0OFdz"
      },
      "source": [
        "import tensorflow as tensor\n",
        "from tensorflow.keras.optimizers import RMSprop\n",
        "from tensorflow.keras.preprocessing.image import ImageDataGenerator"
      ],
      "execution_count": null,
      "outputs": []
    },
    {
      "cell_type": "code",
      "metadata": {
        "id": "900AoG_-Ok7m",
        "colab": {
          "base_uri": "https://localhost:8080/",
          "height": 204
        },
        "outputId": "da48a0cb-9ae1-4441-f541-06ac38517425"
      },
      "source": [
        "!wget --no-check-certificate \\\n",
        " https://dicodingacademy.blob.core.windows.net/picodiploma/ml_pemula_academy/rockpaperscissors.zip\\\n",
        " -O /tmp/rockpaperscissors.zip"
      ],
      "execution_count": null,
      "outputs": [
        {
          "output_type": "stream",
          "text": [
            "--2020-06-18 09:02:03--  https://dicodingacademy.blob.core.windows.net/picodiploma/ml_pemula_academy/rockpaperscissors.zip\n",
            "Resolving dicodingacademy.blob.core.windows.net (dicodingacademy.blob.core.windows.net)... 52.239.197.36\n",
            "Connecting to dicodingacademy.blob.core.windows.net (dicodingacademy.blob.core.windows.net)|52.239.197.36|:443... connected.\n",
            "HTTP request sent, awaiting response... 200 OK\n",
            "Length: 322873683 (308M) [application/zip]\n",
            "Saving to: ‘/tmp/rockpaperscissors.zip’\n",
            "\n",
            "/tmp/rockpapersciss 100%[===================>] 307.92M  9.85MB/s    in 76s     \n",
            "\n",
            "2020-06-18 09:03:20 (4.06 MB/s) - ‘/tmp/rockpaperscissors.zip’ saved [322873683/322873683]\n",
            "\n"
          ],
          "name": "stdout"
        }
      ]
    },
    {
      "cell_type": "code",
      "metadata": {
        "id": "lefDdtFqOxoq"
      },
      "source": [
        "import zipfile,os\n",
        "zip_lcl = '/tmp/rockpaperscissors.zip'\n",
        "rzip = zipfile.ZipFile(zip_lcl, 'r')\n",
        "rzip.extractall('/tmp')\n",
        "rzip.close()\n",
        "\n",
        "dirbase = '/tmp'\n",
        "dir_latih = os.path.join(dirbase, 'rockpaperscissors/rps-cv-images')\n",
        "dir_valid = os.path.join(dirbase, '__MACOSX/rockpaperscissors/rps-cv-images')"
      ],
      "execution_count": null,
      "outputs": []
    },
    {
      "cell_type": "code",
      "metadata": {
        "id": "7tIkv-f4QG_q",
        "colab": {
          "base_uri": "https://localhost:8080/",
          "height": 34
        },
        "outputId": "2aaef0c8-b806-4b8d-f857-9d7ce5e62cf2"
      },
      "source": [
        "os.listdir('/tmp/rockpaperscissors/rps-cv-images')"
      ],
      "execution_count": null,
      "outputs": [
        {
          "output_type": "execute_result",
          "data": {
            "text/plain": [
              "['rock', 'README_rpc-cv-images.txt', 'paper', 'scissors']"
            ]
          },
          "metadata": {
            "tags": []
          },
          "execution_count": 4
        }
      ]
    },
    {
      "cell_type": "code",
      "metadata": {
        "id": "y49Xm2mOQKWW",
        "colab": {
          "base_uri": "https://localhost:8080/",
          "height": 34
        },
        "outputId": "3a059890-b9f6-4b6d-8387-0a1365edc2fc"
      },
      "source": [
        "os.listdir('/tmp/__MACOSX/rockpaperscissors/rps-cv-images')"
      ],
      "execution_count": null,
      "outputs": [
        {
          "output_type": "execute_result",
          "data": {
            "text/plain": [
              "['rock', 'paper', '._README_rpc-cv-images.txt', 'scissors']"
            ]
          },
          "metadata": {
            "tags": []
          },
          "execution_count": 5
        }
      ]
    },
    {
      "cell_type": "code",
      "metadata": {
        "id": "L5wYvKiyQUZt"
      },
      "source": [
        "latih_batu = os.path.join(dir_latih,'rock')\n",
        "latih_kertas = os.path.join(dir_latih,'paper')\n",
        "latih_gunting = os.path.join(dir_latih,'scissors')\n",
        "batu_valid = os.path.join(dir_valid,'rock')\n",
        "kertas_valid = os.path.join(dir_valid,'paper')\n",
        "gunting_valid = os.path.join(dir_valid,'scissors')\n",
        "dir = os.path.join(dirbase,'rockpaperscissors/rps-cv-images')"
      ],
      "execution_count": null,
      "outputs": []
    },
    {
      "cell_type": "code",
      "metadata": {
        "id": "h9k1JJlzUYTE"
      },
      "source": [
        "data_latih = ImageDataGenerator(\n",
        "    rescale=1./255,\n",
        "    rotation_range=20,\n",
        "    horizontal_flip=True,\n",
        "    validation_split=0.2,\n",
        "    shear_range=0.2,\n",
        "    fill_mode='nearest')\n",
        "data_test = ImageDataGenerator(\n",
        "    rescale=1./255,\n",
        "    rotation_range=20,\n",
        "    horizontal_flip=True,\n",
        "    validation_split=0.2,\n",
        "    shear_range=0.2,\n",
        "    fill_mode='nearest')"
      ],
      "execution_count": null,
      "outputs": []
    },
    {
      "cell_type": "code",
      "metadata": {
        "id": "-oMxhmtOUgco",
        "colab": {
          "base_uri": "https://localhost:8080/",
          "height": 51
        },
        "outputId": "e72be933-b5c4-44cc-baf9-77907fb7576e"
      },
      "source": [
        "generator_latih = data_latih.flow_from_directory(\n",
        "    directory=dir,\n",
        "    target_size=(180,180),\n",
        "    batch_size=32,\n",
        "    subset='training',\n",
        "    class_mode='categorical')\n",
        "generator_valid = data_test.flow_from_directory(\n",
        "    directory=dir,\n",
        "    target_size=(180,180),\n",
        "    batch_size=32,\n",
        "    subset='validation',\n",
        "    class_mode='categorical')"
      ],
      "execution_count": null,
      "outputs": [
        {
          "output_type": "stream",
          "text": [
            "Found 1751 images belonging to 3 classes.\n",
            "Found 437 images belonging to 3 classes.\n"
          ],
          "name": "stdout"
        }
      ]
    },
    {
      "cell_type": "code",
      "metadata": {
        "id": "mC5l4hg4_wv8"
      },
      "source": [
        "model = tensor.keras.models.Sequential([\n",
        "  tensor.keras.layers.Conv2D(32,(3,3),activation='relu',input_shape=(180,180,3)),\n",
        "  tensor.keras.layers.MaxPooling2D(2,2),\n",
        "  tensor.keras.layers.Conv2D(64,(3,3),activation='relu'),\n",
        "  tensor.keras.layers.MaxPooling2D(2,2),\n",
        "  tensor.keras.layers.Conv2D(128,(3,3),activation='relu'),\n",
        "  tensor.keras.layers.MaxPooling2D(2,2),\n",
        "  tensor.keras.layers.Flatten(),\n",
        "  tensor.keras.layers.Dense(512,activation='relu'),\n",
        "  tensor.keras.layers.Dense(3,activation='softmax')\n",
        "  ])"
      ],
      "execution_count": null,
      "outputs": []
    },
    {
      "cell_type": "code",
      "metadata": {
        "id": "rotkCsVQCGcE"
      },
      "source": [
        "model.compile(loss='categorical_crossentropy',optimizer=tensor.optimizers.Adam(),\n",
        "              metrics=['accuracy'])"
      ],
      "execution_count": null,
      "outputs": []
    },
    {
      "cell_type": "code",
      "metadata": {
        "id": "oOrICtyHjzCf"
      },
      "source": [
        "from tensorflow.keras.callbacks import EarlyStopping\n",
        "from tensorflow.keras.callbacks import ModelCheckpoint\n",
        "earstop = EarlyStopping(monitor='val_loss',mode='min',verbose=1,patience=10)\n",
        "cekmodel = ModelCheckpoint(filepath='model.hdf5',monitor='val_accuracy',mode='max',verbose=1,save_best_only=True)"
      ],
      "execution_count": null,
      "outputs": []
    },
    {
      "cell_type": "code",
      "metadata": {
        "id": "BH1w0YmECgvB",
        "colab": {
          "base_uri": "https://localhost:8080/",
          "height": 697
        },
        "outputId": "b79b8bb8-d459-4e82-fc97-053cf732ff68"
      },
      "source": [
        "history = model.fit(\n",
        "    generator_latih,\n",
        "    steps_per_epoch=30,\n",
        "    epochs=10,\n",
        "    validation_data=generator_valid,\n",
        "    validation_steps=5,\n",
        "    verbose=2,\n",
        "    callbacks=[earstop,cekmodel])"
      ],
      "execution_count": null,
      "outputs": [
        {
          "output_type": "stream",
          "text": [
            "Epoch 1/10\n",
            "\n",
            "Epoch 00001: val_accuracy improved from -inf to 0.52500, saving model to model.hdf5\n",
            "30/30 - 67s - loss: 1.2709 - accuracy: 0.4427 - val_loss: 0.9069 - val_accuracy: 0.5250\n",
            "Epoch 2/10\n",
            "\n",
            "Epoch 00002: val_accuracy improved from 0.52500 to 0.83750, saving model to model.hdf5\n",
            "30/30 - 67s - loss: 0.7032 - accuracy: 0.6958 - val_loss: 0.5631 - val_accuracy: 0.8375\n",
            "Epoch 3/10\n",
            "\n",
            "Epoch 00003: val_accuracy improved from 0.83750 to 0.92500, saving model to model.hdf5\n",
            "30/30 - 67s - loss: 0.4094 - accuracy: 0.8521 - val_loss: 0.2055 - val_accuracy: 0.9250\n",
            "Epoch 4/10\n",
            "\n",
            "Epoch 00004: val_accuracy improved from 0.92500 to 0.96250, saving model to model.hdf5\n",
            "30/30 - 67s - loss: 0.2274 - accuracy: 0.9253 - val_loss: 0.1910 - val_accuracy: 0.9625\n",
            "Epoch 5/10\n",
            "\n",
            "Epoch 00005: val_accuracy did not improve from 0.96250\n",
            "30/30 - 69s - loss: 0.2149 - accuracy: 0.9208 - val_loss: 0.1891 - val_accuracy: 0.9500\n",
            "Epoch 6/10\n",
            "\n",
            "Epoch 00006: val_accuracy improved from 0.96250 to 0.98125, saving model to model.hdf5\n",
            "30/30 - 68s - loss: 0.1767 - accuracy: 0.9500 - val_loss: 0.0966 - val_accuracy: 0.9812\n",
            "Epoch 7/10\n",
            "\n",
            "Epoch 00007: val_accuracy did not improve from 0.98125\n",
            "30/30 - 66s - loss: 0.1137 - accuracy: 0.9590 - val_loss: 0.1261 - val_accuracy: 0.9438\n",
            "Epoch 8/10\n",
            "\n",
            "Epoch 00008: val_accuracy did not improve from 0.98125\n",
            "30/30 - 66s - loss: 0.1122 - accuracy: 0.9642 - val_loss: 0.1135 - val_accuracy: 0.9500\n",
            "Epoch 9/10\n",
            "\n",
            "Epoch 00009: val_accuracy did not improve from 0.98125\n",
            "30/30 - 66s - loss: 0.1099 - accuracy: 0.9621 - val_loss: 0.1401 - val_accuracy: 0.9563\n",
            "Epoch 10/10\n",
            "\n",
            "Epoch 00010: val_accuracy did not improve from 0.98125\n",
            "30/30 - 67s - loss: 0.1083 - accuracy: 0.9688 - val_loss: 0.0752 - val_accuracy: 0.9812\n"
          ],
          "name": "stdout"
        }
      ]
    },
    {
      "cell_type": "code",
      "metadata": {
        "id": "VqKaqL2Q4Sk5",
        "colab": {
          "resources": {
            "http://localhost:8080/nbextensions/google.colab/files.js": {
              "data": "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",
              "ok": true,
              "headers": [
                [
                  "content-type",
                  "application/javascript"
                ]
              ],
              "status": 200,
              "status_text": ""
            }
          },
          "base_uri": "https://localhost:8080/",
          "height": 1000
        },
        "outputId": "5146853b-ea73-4a2e-ff60-3a07b68c26fd"
      },
      "source": [
        "import numpy as nampay\n",
        "from google.colab import files\n",
        "from keras.preprocessing import image\n",
        "import matplotlib.pyplot as pyp\n",
        "import matplotlib.image as matimg\n",
        "import matplotlib.pyplot as pyp\n",
        "import matplotlib.image as matimg\n",
        "%matplotlib inline\n",
        "\n",
        "uploaded = files.upload()\n",
        "\n",
        "for pimg in uploaded.keys():\n",
        "\n",
        "  # predicting images\n",
        "  patoh = pimg\n",
        "  gambar = image.load_img(patoh, target_size=(180,180))\n",
        "  imgplot = pyp.imshow(gambar)\n",
        "  x = image.img_to_array(gambar)\n",
        "  x = nampay.expand_dims(x, axis=0)\n",
        "\n",
        "  foto = nampay.vstack([x])\n",
        "  classes = model.predict(foto, batch_size=10)\n",
        "\n",
        "  print(pimg)\n",
        "  kelas = nampay.argmax(classes)\n",
        "  print(classes)\n",
        "  print(kelas)\n",
        "  if kelas==0:\n",
        "    print('kertas/paper/論文')\n",
        "  elif kelas==1:\n",
        "    print('batu/rock/結石')\n",
        "  else:\n",
        "    print('gunting/scissors/はさみ')"
      ],
      "execution_count": null,
      "outputs": [
        {
          "output_type": "display_data",
          "data": {
            "text/html": [
              "\n",
              "     <input type=\"file\" id=\"files-f0931af9-1fea-4732-ad9c-ceb617e4c1c6\" name=\"files[]\" multiple disabled\n",
              "        style=\"border:none\" />\n",
              "     <output id=\"result-f0931af9-1fea-4732-ad9c-ceb617e4c1c6\">\n",
              "      Upload widget is only available when the cell has been executed in the\n",
              "      current browser session. Please rerun this cell to enable.\n",
              "      </output>\n",
              "      <script src=\"/nbextensions/google.colab/files.js\"></script> "
            ],
            "text/plain": [
              "<IPython.core.display.HTML object>"
            ]
          },
          "metadata": {
            "tags": []
          }
        },
        {
          "output_type": "stream",
          "text": [
            "Saving 2ufDQYIqKG1xRG7y.png to 2ufDQYIqKG1xRG7y.png\n",
            "Saving 3kVoftgTNdDcvPPY.png to 3kVoftgTNdDcvPPY.png\n",
            "Saving 4Zh2kADxqxEsPTrX.png to 4Zh2kADxqxEsPTrX.png\n",
            "Saving 5inLBb6qZY0gpX3b.png to 5inLBb6qZY0gpX3b.png\n",
            "Saving 6ZAZiGMRp4VD1hDD.png to 6ZAZiGMRp4VD1hDD.png\n",
            "Saving 8VaAxK3h5GeQAqRn.png to 8VaAxK3h5GeQAqRn.png\n",
            "Saving 65PVbRzrpzfdu8nJ.png to 65PVbRzrpzfdu8nJ.png\n",
            "Saving bzQcSRVP3M7abinD.png to bzQcSRVP3M7abinD (1).png\n",
            "Saving cDveaur4dR2ZCCo8.png to cDveaur4dR2ZCCo8.png\n",
            "Saving DH7iguASbWIzzBnT.png to DH7iguASbWIzzBnT.png\n",
            "Saving Em50Yggfyz815VUH.png to Em50Yggfyz815VUH.png\n",
            "Saving eqJEQe8W9FP4TOck.png to eqJEQe8W9FP4TOck (1).png\n",
            "Saving FP1L4Ax4XDmqP2QB.png to FP1L4Ax4XDmqP2QB.png\n",
            "Saving fRMSey1LBvG1TRWj.png to fRMSey1LBvG1TRWj.png\n",
            "Saving HLeuB19sXYxS84Gt.png to HLeuB19sXYxS84Gt.png\n",
            "Saving inP9wrbC4x26yBW9.png to inP9wrbC4x26yBW9.png\n",
            "Saving kC1AoCFrvaMKlTDk.png to kC1AoCFrvaMKlTDk.png\n",
            "Saving khmBjKwffAIb566D.png to khmBjKwffAIb566D.png\n",
            "Saving MFG70ohG4iZ3xm3b.png to MFG70ohG4iZ3xm3b.png\n",
            "Saving MpiOsioYVx1AJelO.png to MpiOsioYVx1AJelO.png\n",
            "Saving mRlkMzgNq3PxHHe4.png to mRlkMzgNq3PxHHe4.png\n",
            "Saving Mwmjta6k9iqQKKd7.png to Mwmjta6k9iqQKKd7.png\n",
            "Saving nIwv11WKj5Ch85mv.png to nIwv11WKj5Ch85mv.png\n",
            "Saving oJHJKGs9EiSNQo1m.png to oJHJKGs9EiSNQo1m.png\n",
            "Saving otBEUIQNFGMk80vF.png to otBEUIQNFGMk80vF.png\n",
            "Saving qHXkVDE4py7UfvIQ.png to qHXkVDE4py7UfvIQ.png\n",
            "Saving qu2vQ5gzrN7dOu1Y.png to qu2vQ5gzrN7dOu1Y.png\n",
            "Saving R9xpzPuawT5aH69c.png to R9xpzPuawT5aH69c.png\n",
            "Saving RydyYWgvhLQPwEaw.png to RydyYWgvhLQPwEaw.png\n",
            "Saving sUi91SccB2jXsjyd.png to sUi91SccB2jXsjyd.png\n",
            "Saving ta6G9KRgDwtvZsrJ.png to ta6G9KRgDwtvZsrJ.png\n",
            "Saving uFQ3SN5QxNyXoBmx.png to uFQ3SN5QxNyXoBmx.png\n",
            "Saving UmpmKO5O9ku8kBwj.png to UmpmKO5O9ku8kBwj.png\n",
            "Saving UTc5RnTVPMdKnVPL.png to UTc5RnTVPMdKnVPL.png\n",
            "Saving VSitIYv6wmfRhoKj.png to VSitIYv6wmfRhoKj.png\n",
            "Saving vTLtWUiqxDhncYin.png to vTLtWUiqxDhncYin.png\n",
            "Saving wNuL3RC8AtAW70Bx.png to wNuL3RC8AtAW70Bx.png\n",
            "2ufDQYIqKG1xRG7y.png\n",
            "[[0. 0. 1.]]\n",
            "2\n",
            "gunting/scissors/はさみ\n",
            "3kVoftgTNdDcvPPY.png\n",
            "[[0. 0. 1.]]\n",
            "2\n",
            "gunting/scissors/はさみ\n",
            "4Zh2kADxqxEsPTrX.png\n",
            "[[0. 0. 1.]]\n",
            "2\n",
            "gunting/scissors/はさみ\n",
            "5inLBb6qZY0gpX3b.png\n",
            "[[0. 0. 1.]]\n",
            "2\n",
            "gunting/scissors/はさみ\n",
            "6ZAZiGMRp4VD1hDD.png\n",
            "[[0. 0. 1.]]\n",
            "2\n",
            "gunting/scissors/はさみ\n",
            "8VaAxK3h5GeQAqRn.png\n",
            "[[0. 0. 1.]]\n",
            "2\n",
            "gunting/scissors/はさみ\n",
            "65PVbRzrpzfdu8nJ.png\n",
            "[[0. 0. 1.]]\n",
            "2\n",
            "gunting/scissors/はさみ\n",
            "bzQcSRVP3M7abinD.png\n",
            "[[0. 0. 1.]]\n",
            "2\n",
            "gunting/scissors/はさみ\n",
            "cDveaur4dR2ZCCo8.png\n",
            "[[0. 0. 1.]]\n",
            "2\n",
            "gunting/scissors/はさみ\n",
            "DH7iguASbWIzzBnT.png\n",
            "[[0. 0. 1.]]\n",
            "2\n",
            "gunting/scissors/はさみ\n",
            "Em50Yggfyz815VUH.png\n",
            "[[0. 0. 1.]]\n",
            "2\n",
            "gunting/scissors/はさみ\n",
            "eqJEQe8W9FP4TOck.png\n",
            "[[0. 0. 1.]]\n",
            "2\n",
            "gunting/scissors/はさみ\n",
            "FP1L4Ax4XDmqP2QB.png\n",
            "[[0. 0. 1.]]\n",
            "2\n",
            "gunting/scissors/はさみ\n",
            "fRMSey1LBvG1TRWj.png\n",
            "[[0. 0. 1.]]\n",
            "2\n",
            "gunting/scissors/はさみ\n",
            "HLeuB19sXYxS84Gt.png\n",
            "[[0. 0. 1.]]\n",
            "2\n",
            "gunting/scissors/はさみ\n",
            "inP9wrbC4x26yBW9.png\n",
            "[[0. 0. 1.]]\n",
            "2\n",
            "gunting/scissors/はさみ\n",
            "kC1AoCFrvaMKlTDk.png\n",
            "[[0. 0. 1.]]\n",
            "2\n",
            "gunting/scissors/はさみ\n",
            "khmBjKwffAIb566D.png\n",
            "[[0. 0. 1.]]\n",
            "2\n",
            "gunting/scissors/はさみ\n",
            "MFG70ohG4iZ3xm3b.png\n",
            "[[0. 0. 1.]]\n",
            "2\n",
            "gunting/scissors/はさみ\n",
            "MpiOsioYVx1AJelO.png\n",
            "[[0. 0. 1.]]\n",
            "2\n",
            "gunting/scissors/はさみ\n",
            "mRlkMzgNq3PxHHe4.png\n",
            "[[0. 0. 1.]]\n",
            "2\n",
            "gunting/scissors/はさみ\n",
            "Mwmjta6k9iqQKKd7.png\n",
            "[[0. 0. 1.]]\n",
            "2\n",
            "gunting/scissors/はさみ\n",
            "nIwv11WKj5Ch85mv.png\n",
            "[[0. 0. 1.]]\n",
            "2\n",
            "gunting/scissors/はさみ\n",
            "oJHJKGs9EiSNQo1m.png\n",
            "[[0. 0. 1.]]\n",
            "2\n",
            "gunting/scissors/はさみ\n",
            "otBEUIQNFGMk80vF.png\n",
            "[[0. 0. 1.]]\n",
            "2\n",
            "gunting/scissors/はさみ\n",
            "qHXkVDE4py7UfvIQ.png\n",
            "[[0. 0. 1.]]\n",
            "2\n",
            "gunting/scissors/はさみ\n",
            "qu2vQ5gzrN7dOu1Y.png\n",
            "[[0. 0. 1.]]\n",
            "2\n",
            "gunting/scissors/はさみ\n",
            "R9xpzPuawT5aH69c.png\n",
            "[[0. 0. 1.]]\n",
            "2\n",
            "gunting/scissors/はさみ\n",
            "RydyYWgvhLQPwEaw.png\n",
            "[[0. 0. 1.]]\n",
            "2\n",
            "gunting/scissors/はさみ\n",
            "sUi91SccB2jXsjyd.png\n",
            "[[0. 0. 1.]]\n",
            "2\n",
            "gunting/scissors/はさみ\n",
            "ta6G9KRgDwtvZsrJ.png\n",
            "[[0. 0. 1.]]\n",
            "2\n",
            "gunting/scissors/はさみ\n",
            "uFQ3SN5QxNyXoBmx.png\n",
            "[[0. 0. 1.]]\n",
            "2\n",
            "gunting/scissors/はさみ\n",
            "UmpmKO5O9ku8kBwj.png\n",
            "[[0. 0. 1.]]\n",
            "2\n",
            "gunting/scissors/はさみ\n",
            "UTc5RnTVPMdKnVPL.png\n",
            "[[0. 0. 1.]]\n",
            "2\n",
            "gunting/scissors/はさみ\n",
            "VSitIYv6wmfRhoKj.png\n",
            "[[0. 0. 1.]]\n",
            "2\n",
            "gunting/scissors/はさみ\n",
            "vTLtWUiqxDhncYin.png\n",
            "[[0. 0. 1.]]\n",
            "2\n",
            "gunting/scissors/はさみ\n",
            "wNuL3RC8AtAW70Bx.png\n",
            "[[0. 0. 1.]]\n",
            "2\n",
            "gunting/scissors/はさみ\n"
          ],
          "name": "stdout"
        },
        {
          "output_type": "display_data",
          "data": {
            "image/png": "[encoded data removed]",
            "text/plain": [
              "<Figure size 432x288 with 1 Axes>"
            ]
          },
          "metadata": {
            "tags": [],
            "needs_background": "light"
          }
        }
      ]
    }
  ]
}